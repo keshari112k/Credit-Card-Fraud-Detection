{
  "cells": [
    {
      "cell_type": "markdown",
      "metadata": {
        "id": "view-in-github",
        "colab_type": "text"
      },
      "source": [
        "<a href=\"https://colab.research.google.com/github/keshari112k/Credit-Card-Fraud-Detection/blob/main/Credit_Card_Fraud_Detection.ipynb\" target=\"_parent\"><img src=\"https://colab.research.google.com/assets/colab-badge.svg\" alt=\"Open In Colab\"/></a>"
      ]
    },
    {
      "cell_type": "markdown",
      "source": [
        "**Name : Shivam Kesharwani**\n",
        "\n",
        "**College : National Institute of Technology Karnataka Surathkal**\n",
        "\n",
        "**Project Type : Self Project**"
      ],
      "metadata": {
        "id": "w2X4amqY_27e"
      }
    },
    {
      "cell_type": "markdown",
      "metadata": {
        "_cell_guid": "3689760c-41f8-4a33-9c96-3fd17803950e",
        "_uuid": "3e0ad409d438c7c68ea6a76700a1e964a357453f",
        "id": "2I1S0KzwCV-5"
      },
      "source": [
        "<h1 align=\"center\"> Credit Fraud Detector </h1>\n",
        "\n",
        "\n",
        "<h2> Introduction </h2>\n",
        "Building predictive models to see how accurate they  are in detecting whether a transaction is a normal payment or a fraud. The features are scaled and the names of the features are not shown due to privacy reasons in the dataset. \n",
        "\n",
        "\n",
        "<h2> Goals: </h2>\n",
        "<ul>\n",
        "<li> Understanding the little distribution of the \"little\" data that was provided to us. </li>\n",
        "<li> Creating a 50/50 sub-dataframe ratio of \"Fraud\" and \"Non-Fraud\" transactions. </li>\n",
        "<li> Determining the Classifiers we are going to use and decide which one has a higher accuracy. </li>\n",
        "\n",
        "\n",
        "<h2> Outline: </h2>\n",
        "I. <b>Understanding our data</b><br>\n",
        "a) Gathering Sense of our data<br><br>\n",
        "\n",
        "II. <b>Preprocessing</b><br>\n",
        "a) Scaling and Distributing<br>\n",
        "b) Splitting the Data<br><br>\n",
        "\n",
        "III. <b>Random UnderSampling and Oversampling</b><br>\n",
        "a) Distributing and Correlating<br>\n",
        "b) Anomaly Detection<br>\n",
        "c) Classifiers<br>\n",
        "d) A Deeper Look into Logistic Regression<br>\n",
        "e) Testing model\n",
        "\n",
        "\n",
        "\n",
        "\n",
        "\n",
        "\n"
      ]
    },
    {
      "cell_type": "markdown",
      "metadata": {
        "_cell_guid": "ae8dd7f3-80a7-4db9-a132-823b0e48c041",
        "_uuid": "c999e5f1ac81513263d83883008f2844209e9e07",
        "id": "XTZ_jR9pCV_Q"
      },
      "source": [
        "## Gather Sense of Our Data:\n",
        "<a id=\"gather\"></a>\n",
        "Except for the <b>transaction</b> and <b>amount</b> we dont know what the other columns are (due to privacy reasons). The only thing we know, is that those columns that are unknown have been scaled already.   \n",
        "\n",
        "<h3> Summary: </h3>\n",
        "<ul>\n",
        "<li>The transaction amount is relatively <b>small</b>. The mean of all the mounts made is approximately USD 88. </li>\n",
        "<li>There are no <b>\"Null\"</b> values, so we don't have to work on ways to replace values. </li>\n",
        "<li> Most of the transactions were <b>Non-Fraud</b> (99.83%) of the time, while <b>Fraud</b> transactions occurs (0.17%) of the time in the dataframe. </li>\n",
        "</ul>\n",
        "\n",
        "<h3> Feature Technicalities: </h3>\n",
        "<ul>\n",
        "<li> <b>PCA Transformation: </b>  The description of the data says that all the features went through a PCA transformation (Dimensionality Reduction technique) (Except for time and amount).</li>\n",
        "<li> <b>Scaling:</b> Keep in mind that in order to implement a PCA transformation, features need to be previously scaled. </li>\n",
        "</ul>"
      ]
    },
    {
      "cell_type": "code",
      "execution_count": 119,
      "metadata": {
        "_cell_guid": "b1076dfc-b9ad-4769-8c92-a6c4dae69d19",
        "_uuid": "8f2839f25d086af736a60e9eeb907d3b93b6e0e5",
        "id": "x_wNxNgYCV_U"
      },
      "outputs": [],
      "source": [
        "\n",
        "# Imported Libraries\n",
        "\n",
        "import numpy as np # linear algebra\n",
        "import pandas as pd # data processing, CSV file I/O (e.g. pd.read_csv)\n",
        "#import tensorflow as tf\n",
        "import matplotlib.pyplot as plt\n",
        "import seaborn as sns\n",
        "import matplotlib.patches as mpatches\n",
        "import time\n",
        "\n",
        "# Classifier Libraries\n",
        "from sklearn.linear_model import LogisticRegression\n",
        "from sklearn.svm import SVC\n",
        "from sklearn.neighbors import KNeighborsClassifier\n",
        "from sklearn.tree import DecisionTreeClassifier\n",
        "from sklearn.ensemble import RandomForestClassifier\n",
        "\n",
        "\n",
        "# Other Libraries\n",
        "from sklearn.model_selection import train_test_split\n",
        "from imblearn.metrics import classification_report_imbalanced\n",
        "from sklearn.metrics import precision_score, recall_score, f1_score, roc_auc_score, accuracy_score, classification_report\n",
        "\n",
        "import warnings\n",
        "warnings.filterwarnings(\"ignore\")\n"
      ]
    },
    {
      "cell_type": "code",
      "source": [
        "from google.colab import drive\n",
        "drive.mount('/content/drive')"
      ],
      "metadata": {
        "id": "t0-V6btt2sUn",
        "colab": {
          "base_uri": "https://localhost:8080/"
        },
        "outputId": "5d5b5acb-ce87-47ca-cc69-69aad04bbf8c"
      },
      "execution_count": 120,
      "outputs": [
        {
          "output_type": "stream",
          "name": "stdout",
          "text": [
            "Drive already mounted at /content/drive; to attempt to forcibly remount, call drive.mount(\"/content/drive\", force_remount=True).\n"
          ]
        }
      ]
    },
    {
      "cell_type": "code",
      "source": [
        "df = pd.read_csv('/content/drive/MyDrive/ Data Science Projects/creditcard.csv')\n",
        "\n",
        "df.head()"
      ],
      "metadata": {
        "id": "B2j8HWvG2nHN",
        "colab": {
          "base_uri": "https://localhost:8080/",
          "height": 299
        },
        "outputId": "f8c0a121-01d5-4a01-b4b9-44900d1df381"
      },
      "execution_count": 121,
      "outputs": [
        {
          "output_type": "execute_result",
          "data": {
            "text/plain": [
              "   Time        V1        V2        V3        V4        V5        V6        V7  \\\n",
              "0   0.0 -1.359807 -0.072781  2.536347  1.378155 -0.338321  0.462388  0.239599   \n",
              "1   0.0  1.191857  0.266151  0.166480  0.448154  0.060018 -0.082361 -0.078803   \n",
              "2   1.0 -1.358354 -1.340163  1.773209  0.379780 -0.503198  1.800499  0.791461   \n",
              "3   1.0 -0.966272 -0.185226  1.792993 -0.863291 -0.010309  1.247203  0.237609   \n",
              "4   2.0 -1.158233  0.877737  1.548718  0.403034 -0.407193  0.095921  0.592941   \n",
              "\n",
              "         V8        V9  ...       V21       V22       V23       V24       V25  \\\n",
              "0  0.098698  0.363787  ... -0.018307  0.277838 -0.110474  0.066928  0.128539   \n",
              "1  0.085102 -0.255425  ... -0.225775 -0.638672  0.101288 -0.339846  0.167170   \n",
              "2  0.247676 -1.514654  ...  0.247998  0.771679  0.909412 -0.689281 -0.327642   \n",
              "3  0.377436 -1.387024  ... -0.108300  0.005274 -0.190321 -1.175575  0.647376   \n",
              "4 -0.270533  0.817739  ... -0.009431  0.798278 -0.137458  0.141267 -0.206010   \n",
              "\n",
              "        V26       V27       V28  Amount  Class  \n",
              "0 -0.189115  0.133558 -0.021053  149.62      0  \n",
              "1  0.125895 -0.008983  0.014724    2.69      0  \n",
              "2 -0.139097 -0.055353 -0.059752  378.66      0  \n",
              "3 -0.221929  0.062723  0.061458  123.50      0  \n",
              "4  0.502292  0.219422  0.215153   69.99      0  \n",
              "\n",
              "[5 rows x 31 columns]"
            ],
            "text/html": [
              "\n",
              "  <div id=\"df-d3f4394d-9f61-408b-bcdf-e26dfacc7c99\">\n",
              "    <div class=\"colab-df-container\">\n",
              "      <div>\n",
              "<style scoped>\n",
              "    .dataframe tbody tr th:only-of-type {\n",
              "        vertical-align: middle;\n",
              "    }\n",
              "\n",
              "    .dataframe tbody tr th {\n",
              "        vertical-align: top;\n",
              "    }\n",
              "\n",
              "    .dataframe thead th {\n",
              "        text-align: right;\n",
              "    }\n",
              "</style>\n",
              "<table border=\"1\" class=\"dataframe\">\n",
              "  <thead>\n",
              "    <tr style=\"text-align: right;\">\n",
              "      <th></th>\n",
              "      <th>Time</th>\n",
              "      <th>V1</th>\n",
              "      <th>V2</th>\n",
              "      <th>V3</th>\n",
              "      <th>V4</th>\n",
              "      <th>V5</th>\n",
              "      <th>V6</th>\n",
              "      <th>V7</th>\n",
              "      <th>V8</th>\n",
              "      <th>V9</th>\n",
              "      <th>...</th>\n",
              "      <th>V21</th>\n",
              "      <th>V22</th>\n",
              "      <th>V23</th>\n",
              "      <th>V24</th>\n",
              "      <th>V25</th>\n",
              "      <th>V26</th>\n",
              "      <th>V27</th>\n",
              "      <th>V28</th>\n",
              "      <th>Amount</th>\n",
              "      <th>Class</th>\n",
              "    </tr>\n",
              "  </thead>\n",
              "  <tbody>\n",
              "    <tr>\n",
              "      <th>0</th>\n",
              "      <td>0.0</td>\n",
              "      <td>-1.359807</td>\n",
              "      <td>-0.072781</td>\n",
              "      <td>2.536347</td>\n",
              "      <td>1.378155</td>\n",
              "      <td>-0.338321</td>\n",
              "      <td>0.462388</td>\n",
              "      <td>0.239599</td>\n",
              "      <td>0.098698</td>\n",
              "      <td>0.363787</td>\n",
              "      <td>...</td>\n",
              "      <td>-0.018307</td>\n",
              "      <td>0.277838</td>\n",
              "      <td>-0.110474</td>\n",
              "      <td>0.066928</td>\n",
              "      <td>0.128539</td>\n",
              "      <td>-0.189115</td>\n",
              "      <td>0.133558</td>\n",
              "      <td>-0.021053</td>\n",
              "      <td>149.62</td>\n",
              "      <td>0</td>\n",
              "    </tr>\n",
              "    <tr>\n",
              "      <th>1</th>\n",
              "      <td>0.0</td>\n",
              "      <td>1.191857</td>\n",
              "      <td>0.266151</td>\n",
              "      <td>0.166480</td>\n",
              "      <td>0.448154</td>\n",
              "      <td>0.060018</td>\n",
              "      <td>-0.082361</td>\n",
              "      <td>-0.078803</td>\n",
              "      <td>0.085102</td>\n",
              "      <td>-0.255425</td>\n",
              "      <td>...</td>\n",
              "      <td>-0.225775</td>\n",
              "      <td>-0.638672</td>\n",
              "      <td>0.101288</td>\n",
              "      <td>-0.339846</td>\n",
              "      <td>0.167170</td>\n",
              "      <td>0.125895</td>\n",
              "      <td>-0.008983</td>\n",
              "      <td>0.014724</td>\n",
              "      <td>2.69</td>\n",
              "      <td>0</td>\n",
              "    </tr>\n",
              "    <tr>\n",
              "      <th>2</th>\n",
              "      <td>1.0</td>\n",
              "      <td>-1.358354</td>\n",
              "      <td>-1.340163</td>\n",
              "      <td>1.773209</td>\n",
              "      <td>0.379780</td>\n",
              "      <td>-0.503198</td>\n",
              "      <td>1.800499</td>\n",
              "      <td>0.791461</td>\n",
              "      <td>0.247676</td>\n",
              "      <td>-1.514654</td>\n",
              "      <td>...</td>\n",
              "      <td>0.247998</td>\n",
              "      <td>0.771679</td>\n",
              "      <td>0.909412</td>\n",
              "      <td>-0.689281</td>\n",
              "      <td>-0.327642</td>\n",
              "      <td>-0.139097</td>\n",
              "      <td>-0.055353</td>\n",
              "      <td>-0.059752</td>\n",
              "      <td>378.66</td>\n",
              "      <td>0</td>\n",
              "    </tr>\n",
              "    <tr>\n",
              "      <th>3</th>\n",
              "      <td>1.0</td>\n",
              "      <td>-0.966272</td>\n",
              "      <td>-0.185226</td>\n",
              "      <td>1.792993</td>\n",
              "      <td>-0.863291</td>\n",
              "      <td>-0.010309</td>\n",
              "      <td>1.247203</td>\n",
              "      <td>0.237609</td>\n",
              "      <td>0.377436</td>\n",
              "      <td>-1.387024</td>\n",
              "      <td>...</td>\n",
              "      <td>-0.108300</td>\n",
              "      <td>0.005274</td>\n",
              "      <td>-0.190321</td>\n",
              "      <td>-1.175575</td>\n",
              "      <td>0.647376</td>\n",
              "      <td>-0.221929</td>\n",
              "      <td>0.062723</td>\n",
              "      <td>0.061458</td>\n",
              "      <td>123.50</td>\n",
              "      <td>0</td>\n",
              "    </tr>\n",
              "    <tr>\n",
              "      <th>4</th>\n",
              "      <td>2.0</td>\n",
              "      <td>-1.158233</td>\n",
              "      <td>0.877737</td>\n",
              "      <td>1.548718</td>\n",
              "      <td>0.403034</td>\n",
              "      <td>-0.407193</td>\n",
              "      <td>0.095921</td>\n",
              "      <td>0.592941</td>\n",
              "      <td>-0.270533</td>\n",
              "      <td>0.817739</td>\n",
              "      <td>...</td>\n",
              "      <td>-0.009431</td>\n",
              "      <td>0.798278</td>\n",
              "      <td>-0.137458</td>\n",
              "      <td>0.141267</td>\n",
              "      <td>-0.206010</td>\n",
              "      <td>0.502292</td>\n",
              "      <td>0.219422</td>\n",
              "      <td>0.215153</td>\n",
              "      <td>69.99</td>\n",
              "      <td>0</td>\n",
              "    </tr>\n",
              "  </tbody>\n",
              "</table>\n",
              "<p>5 rows × 31 columns</p>\n",
              "</div>\n",
              "      <button class=\"colab-df-convert\" onclick=\"convertToInteractive('df-d3f4394d-9f61-408b-bcdf-e26dfacc7c99')\"\n",
              "              title=\"Convert this dataframe to an interactive table.\"\n",
              "              style=\"display:none;\">\n",
              "        \n",
              "  <svg xmlns=\"http://www.w3.org/2000/svg\" height=\"24px\"viewBox=\"0 0 24 24\"\n",
              "       width=\"24px\">\n",
              "    <path d=\"M0 0h24v24H0V0z\" fill=\"none\"/>\n",
              "    <path d=\"M18.56 5.44l.94 2.06.94-2.06 2.06-.94-2.06-.94-.94-2.06-.94 2.06-2.06.94zm-11 1L8.5 8.5l.94-2.06 2.06-.94-2.06-.94L8.5 2.5l-.94 2.06-2.06.94zm10 10l.94 2.06.94-2.06 2.06-.94-2.06-.94-.94-2.06-.94 2.06-2.06.94z\"/><path d=\"M17.41 7.96l-1.37-1.37c-.4-.4-.92-.59-1.43-.59-.52 0-1.04.2-1.43.59L10.3 9.45l-7.72 7.72c-.78.78-.78 2.05 0 2.83L4 21.41c.39.39.9.59 1.41.59.51 0 1.02-.2 1.41-.59l7.78-7.78 2.81-2.81c.8-.78.8-2.07 0-2.86zM5.41 20L4 18.59l7.72-7.72 1.47 1.35L5.41 20z\"/>\n",
              "  </svg>\n",
              "      </button>\n",
              "      \n",
              "  <style>\n",
              "    .colab-df-container {\n",
              "      display:flex;\n",
              "      flex-wrap:wrap;\n",
              "      gap: 12px;\n",
              "    }\n",
              "\n",
              "    .colab-df-convert {\n",
              "      background-color: #E8F0FE;\n",
              "      border: none;\n",
              "      border-radius: 50%;\n",
              "      cursor: pointer;\n",
              "      display: none;\n",
              "      fill: #1967D2;\n",
              "      height: 32px;\n",
              "      padding: 0 0 0 0;\n",
              "      width: 32px;\n",
              "    }\n",
              "\n",
              "    .colab-df-convert:hover {\n",
              "      background-color: #E2EBFA;\n",
              "      box-shadow: 0px 1px 2px rgba(60, 64, 67, 0.3), 0px 1px 3px 1px rgba(60, 64, 67, 0.15);\n",
              "      fill: #174EA6;\n",
              "    }\n",
              "\n",
              "    [theme=dark] .colab-df-convert {\n",
              "      background-color: #3B4455;\n",
              "      fill: #D2E3FC;\n",
              "    }\n",
              "\n",
              "    [theme=dark] .colab-df-convert:hover {\n",
              "      background-color: #434B5C;\n",
              "      box-shadow: 0px 1px 3px 1px rgba(0, 0, 0, 0.15);\n",
              "      filter: drop-shadow(0px 1px 2px rgba(0, 0, 0, 0.3));\n",
              "      fill: #FFFFFF;\n",
              "    }\n",
              "  </style>\n",
              "\n",
              "      <script>\n",
              "        const buttonEl =\n",
              "          document.querySelector('#df-d3f4394d-9f61-408b-bcdf-e26dfacc7c99 button.colab-df-convert');\n",
              "        buttonEl.style.display =\n",
              "          google.colab.kernel.accessAllowed ? 'block' : 'none';\n",
              "\n",
              "        async function convertToInteractive(key) {\n",
              "          const element = document.querySelector('#df-d3f4394d-9f61-408b-bcdf-e26dfacc7c99');\n",
              "          const dataTable =\n",
              "            await google.colab.kernel.invokeFunction('convertToInteractive',\n",
              "                                                     [key], {});\n",
              "          if (!dataTable) return;\n",
              "\n",
              "          const docLinkHtml = 'Like what you see? Visit the ' +\n",
              "            '<a target=\"_blank\" href=https://colab.research.google.com/notebooks/data_table.ipynb>data table notebook</a>'\n",
              "            + ' to learn more about interactive tables.';\n",
              "          element.innerHTML = '';\n",
              "          dataTable['output_type'] = 'display_data';\n",
              "          await google.colab.output.renderOutput(dataTable, element);\n",
              "          const docLink = document.createElement('div');\n",
              "          docLink.innerHTML = docLinkHtml;\n",
              "          element.appendChild(docLink);\n",
              "        }\n",
              "      </script>\n",
              "    </div>\n",
              "  </div>\n",
              "  "
            ]
          },
          "metadata": {},
          "execution_count": 121
        }
      ]
    },
    {
      "cell_type": "code",
      "execution_count": 122,
      "metadata": {
        "_cell_guid": "376ce881-463a-4a09-9ac0-c63f85577eec",
        "_kg_hide-input": true,
        "_uuid": "93031e732e5aca3a2b4984799d6bf58d76e4b52d",
        "id": "mS_UgcCtCV_d",
        "outputId": "361fbff3-2bf3-4c04-aed4-bfcac5e6d5e5",
        "colab": {
          "base_uri": "https://localhost:8080/",
          "height": 394
        }
      },
      "outputs": [
        {
          "output_type": "execute_result",
          "data": {
            "text/plain": [
              "                Time            V1            V2            V3            V4  \\\n",
              "count  284807.000000  2.848070e+05  2.848070e+05  2.848070e+05  2.848070e+05   \n",
              "mean    94813.859575  1.168375e-15  3.416908e-16 -1.379537e-15  2.074095e-15   \n",
              "std     47488.145955  1.958696e+00  1.651309e+00  1.516255e+00  1.415869e+00   \n",
              "min         0.000000 -5.640751e+01 -7.271573e+01 -4.832559e+01 -5.683171e+00   \n",
              "25%     54201.500000 -9.203734e-01 -5.985499e-01 -8.903648e-01 -8.486401e-01   \n",
              "50%     84692.000000  1.810880e-02  6.548556e-02  1.798463e-01 -1.984653e-02   \n",
              "75%    139320.500000  1.315642e+00  8.037239e-01  1.027196e+00  7.433413e-01   \n",
              "max    172792.000000  2.454930e+00  2.205773e+01  9.382558e+00  1.687534e+01   \n",
              "\n",
              "                 V5            V6            V7            V8            V9  \\\n",
              "count  2.848070e+05  2.848070e+05  2.848070e+05  2.848070e+05  2.848070e+05   \n",
              "mean   9.604066e-16  1.487313e-15 -5.556467e-16  1.213481e-16 -2.406331e-15   \n",
              "std    1.380247e+00  1.332271e+00  1.237094e+00  1.194353e+00  1.098632e+00   \n",
              "min   -1.137433e+02 -2.616051e+01 -4.355724e+01 -7.321672e+01 -1.343407e+01   \n",
              "25%   -6.915971e-01 -7.682956e-01 -5.540759e-01 -2.086297e-01 -6.430976e-01   \n",
              "50%   -5.433583e-02 -2.741871e-01  4.010308e-02  2.235804e-02 -5.142873e-02   \n",
              "75%    6.119264e-01  3.985649e-01  5.704361e-01  3.273459e-01  5.971390e-01   \n",
              "max    3.480167e+01  7.330163e+01  1.205895e+02  2.000721e+01  1.559499e+01   \n",
              "\n",
              "       ...           V21           V22           V23           V24  \\\n",
              "count  ...  2.848070e+05  2.848070e+05  2.848070e+05  2.848070e+05   \n",
              "mean   ...  1.654067e-16 -3.568593e-16  2.578648e-16  4.473266e-15   \n",
              "std    ...  7.345240e-01  7.257016e-01  6.244603e-01  6.056471e-01   \n",
              "min    ... -3.483038e+01 -1.093314e+01 -4.480774e+01 -2.836627e+00   \n",
              "25%    ... -2.283949e-01 -5.423504e-01 -1.618463e-01 -3.545861e-01   \n",
              "50%    ... -2.945017e-02  6.781943e-03 -1.119293e-02  4.097606e-02   \n",
              "75%    ...  1.863772e-01  5.285536e-01  1.476421e-01  4.395266e-01   \n",
              "max    ...  2.720284e+01  1.050309e+01  2.252841e+01  4.584549e+00   \n",
              "\n",
              "                V25           V26           V27           V28         Amount  \\\n",
              "count  2.848070e+05  2.848070e+05  2.848070e+05  2.848070e+05  284807.000000   \n",
              "mean   5.340915e-16  1.683437e-15 -3.660091e-16 -1.227390e-16      88.349619   \n",
              "std    5.212781e-01  4.822270e-01  4.036325e-01  3.300833e-01     250.120109   \n",
              "min   -1.029540e+01 -2.604551e+00 -2.256568e+01 -1.543008e+01       0.000000   \n",
              "25%   -3.171451e-01 -3.269839e-01 -7.083953e-02 -5.295979e-02       5.600000   \n",
              "50%    1.659350e-02 -5.213911e-02  1.342146e-03  1.124383e-02      22.000000   \n",
              "75%    3.507156e-01  2.409522e-01  9.104512e-02  7.827995e-02      77.165000   \n",
              "max    7.519589e+00  3.517346e+00  3.161220e+01  3.384781e+01   25691.160000   \n",
              "\n",
              "               Class  \n",
              "count  284807.000000  \n",
              "mean        0.001727  \n",
              "std         0.041527  \n",
              "min         0.000000  \n",
              "25%         0.000000  \n",
              "50%         0.000000  \n",
              "75%         0.000000  \n",
              "max         1.000000  \n",
              "\n",
              "[8 rows x 31 columns]"
            ],
            "text/html": [
              "\n",
              "  <div id=\"df-22a92290-bfd7-46cd-ad17-db8b3e30411b\">\n",
              "    <div class=\"colab-df-container\">\n",
              "      <div>\n",
              "<style scoped>\n",
              "    .dataframe tbody tr th:only-of-type {\n",
              "        vertical-align: middle;\n",
              "    }\n",
              "\n",
              "    .dataframe tbody tr th {\n",
              "        vertical-align: top;\n",
              "    }\n",
              "\n",
              "    .dataframe thead th {\n",
              "        text-align: right;\n",
              "    }\n",
              "</style>\n",
              "<table border=\"1\" class=\"dataframe\">\n",
              "  <thead>\n",
              "    <tr style=\"text-align: right;\">\n",
              "      <th></th>\n",
              "      <th>Time</th>\n",
              "      <th>V1</th>\n",
              "      <th>V2</th>\n",
              "      <th>V3</th>\n",
              "      <th>V4</th>\n",
              "      <th>V5</th>\n",
              "      <th>V6</th>\n",
              "      <th>V7</th>\n",
              "      <th>V8</th>\n",
              "      <th>V9</th>\n",
              "      <th>...</th>\n",
              "      <th>V21</th>\n",
              "      <th>V22</th>\n",
              "      <th>V23</th>\n",
              "      <th>V24</th>\n",
              "      <th>V25</th>\n",
              "      <th>V26</th>\n",
              "      <th>V27</th>\n",
              "      <th>V28</th>\n",
              "      <th>Amount</th>\n",
              "      <th>Class</th>\n",
              "    </tr>\n",
              "  </thead>\n",
              "  <tbody>\n",
              "    <tr>\n",
              "      <th>count</th>\n",
              "      <td>284807.000000</td>\n",
              "      <td>2.848070e+05</td>\n",
              "      <td>2.848070e+05</td>\n",
              "      <td>2.848070e+05</td>\n",
              "      <td>2.848070e+05</td>\n",
              "      <td>2.848070e+05</td>\n",
              "      <td>2.848070e+05</td>\n",
              "      <td>2.848070e+05</td>\n",
              "      <td>2.848070e+05</td>\n",
              "      <td>2.848070e+05</td>\n",
              "      <td>...</td>\n",
              "      <td>2.848070e+05</td>\n",
              "      <td>2.848070e+05</td>\n",
              "      <td>2.848070e+05</td>\n",
              "      <td>2.848070e+05</td>\n",
              "      <td>2.848070e+05</td>\n",
              "      <td>2.848070e+05</td>\n",
              "      <td>2.848070e+05</td>\n",
              "      <td>2.848070e+05</td>\n",
              "      <td>284807.000000</td>\n",
              "      <td>284807.000000</td>\n",
              "    </tr>\n",
              "    <tr>\n",
              "      <th>mean</th>\n",
              "      <td>94813.859575</td>\n",
              "      <td>1.168375e-15</td>\n",
              "      <td>3.416908e-16</td>\n",
              "      <td>-1.379537e-15</td>\n",
              "      <td>2.074095e-15</td>\n",
              "      <td>9.604066e-16</td>\n",
              "      <td>1.487313e-15</td>\n",
              "      <td>-5.556467e-16</td>\n",
              "      <td>1.213481e-16</td>\n",
              "      <td>-2.406331e-15</td>\n",
              "      <td>...</td>\n",
              "      <td>1.654067e-16</td>\n",
              "      <td>-3.568593e-16</td>\n",
              "      <td>2.578648e-16</td>\n",
              "      <td>4.473266e-15</td>\n",
              "      <td>5.340915e-16</td>\n",
              "      <td>1.683437e-15</td>\n",
              "      <td>-3.660091e-16</td>\n",
              "      <td>-1.227390e-16</td>\n",
              "      <td>88.349619</td>\n",
              "      <td>0.001727</td>\n",
              "    </tr>\n",
              "    <tr>\n",
              "      <th>std</th>\n",
              "      <td>47488.145955</td>\n",
              "      <td>1.958696e+00</td>\n",
              "      <td>1.651309e+00</td>\n",
              "      <td>1.516255e+00</td>\n",
              "      <td>1.415869e+00</td>\n",
              "      <td>1.380247e+00</td>\n",
              "      <td>1.332271e+00</td>\n",
              "      <td>1.237094e+00</td>\n",
              "      <td>1.194353e+00</td>\n",
              "      <td>1.098632e+00</td>\n",
              "      <td>...</td>\n",
              "      <td>7.345240e-01</td>\n",
              "      <td>7.257016e-01</td>\n",
              "      <td>6.244603e-01</td>\n",
              "      <td>6.056471e-01</td>\n",
              "      <td>5.212781e-01</td>\n",
              "      <td>4.822270e-01</td>\n",
              "      <td>4.036325e-01</td>\n",
              "      <td>3.300833e-01</td>\n",
              "      <td>250.120109</td>\n",
              "      <td>0.041527</td>\n",
              "    </tr>\n",
              "    <tr>\n",
              "      <th>min</th>\n",
              "      <td>0.000000</td>\n",
              "      <td>-5.640751e+01</td>\n",
              "      <td>-7.271573e+01</td>\n",
              "      <td>-4.832559e+01</td>\n",
              "      <td>-5.683171e+00</td>\n",
              "      <td>-1.137433e+02</td>\n",
              "      <td>-2.616051e+01</td>\n",
              "      <td>-4.355724e+01</td>\n",
              "      <td>-7.321672e+01</td>\n",
              "      <td>-1.343407e+01</td>\n",
              "      <td>...</td>\n",
              "      <td>-3.483038e+01</td>\n",
              "      <td>-1.093314e+01</td>\n",
              "      <td>-4.480774e+01</td>\n",
              "      <td>-2.836627e+00</td>\n",
              "      <td>-1.029540e+01</td>\n",
              "      <td>-2.604551e+00</td>\n",
              "      <td>-2.256568e+01</td>\n",
              "      <td>-1.543008e+01</td>\n",
              "      <td>0.000000</td>\n",
              "      <td>0.000000</td>\n",
              "    </tr>\n",
              "    <tr>\n",
              "      <th>25%</th>\n",
              "      <td>54201.500000</td>\n",
              "      <td>-9.203734e-01</td>\n",
              "      <td>-5.985499e-01</td>\n",
              "      <td>-8.903648e-01</td>\n",
              "      <td>-8.486401e-01</td>\n",
              "      <td>-6.915971e-01</td>\n",
              "      <td>-7.682956e-01</td>\n",
              "      <td>-5.540759e-01</td>\n",
              "      <td>-2.086297e-01</td>\n",
              "      <td>-6.430976e-01</td>\n",
              "      <td>...</td>\n",
              "      <td>-2.283949e-01</td>\n",
              "      <td>-5.423504e-01</td>\n",
              "      <td>-1.618463e-01</td>\n",
              "      <td>-3.545861e-01</td>\n",
              "      <td>-3.171451e-01</td>\n",
              "      <td>-3.269839e-01</td>\n",
              "      <td>-7.083953e-02</td>\n",
              "      <td>-5.295979e-02</td>\n",
              "      <td>5.600000</td>\n",
              "      <td>0.000000</td>\n",
              "    </tr>\n",
              "    <tr>\n",
              "      <th>50%</th>\n",
              "      <td>84692.000000</td>\n",
              "      <td>1.810880e-02</td>\n",
              "      <td>6.548556e-02</td>\n",
              "      <td>1.798463e-01</td>\n",
              "      <td>-1.984653e-02</td>\n",
              "      <td>-5.433583e-02</td>\n",
              "      <td>-2.741871e-01</td>\n",
              "      <td>4.010308e-02</td>\n",
              "      <td>2.235804e-02</td>\n",
              "      <td>-5.142873e-02</td>\n",
              "      <td>...</td>\n",
              "      <td>-2.945017e-02</td>\n",
              "      <td>6.781943e-03</td>\n",
              "      <td>-1.119293e-02</td>\n",
              "      <td>4.097606e-02</td>\n",
              "      <td>1.659350e-02</td>\n",
              "      <td>-5.213911e-02</td>\n",
              "      <td>1.342146e-03</td>\n",
              "      <td>1.124383e-02</td>\n",
              "      <td>22.000000</td>\n",
              "      <td>0.000000</td>\n",
              "    </tr>\n",
              "    <tr>\n",
              "      <th>75%</th>\n",
              "      <td>139320.500000</td>\n",
              "      <td>1.315642e+00</td>\n",
              "      <td>8.037239e-01</td>\n",
              "      <td>1.027196e+00</td>\n",
              "      <td>7.433413e-01</td>\n",
              "      <td>6.119264e-01</td>\n",
              "      <td>3.985649e-01</td>\n",
              "      <td>5.704361e-01</td>\n",
              "      <td>3.273459e-01</td>\n",
              "      <td>5.971390e-01</td>\n",
              "      <td>...</td>\n",
              "      <td>1.863772e-01</td>\n",
              "      <td>5.285536e-01</td>\n",
              "      <td>1.476421e-01</td>\n",
              "      <td>4.395266e-01</td>\n",
              "      <td>3.507156e-01</td>\n",
              "      <td>2.409522e-01</td>\n",
              "      <td>9.104512e-02</td>\n",
              "      <td>7.827995e-02</td>\n",
              "      <td>77.165000</td>\n",
              "      <td>0.000000</td>\n",
              "    </tr>\n",
              "    <tr>\n",
              "      <th>max</th>\n",
              "      <td>172792.000000</td>\n",
              "      <td>2.454930e+00</td>\n",
              "      <td>2.205773e+01</td>\n",
              "      <td>9.382558e+00</td>\n",
              "      <td>1.687534e+01</td>\n",
              "      <td>3.480167e+01</td>\n",
              "      <td>7.330163e+01</td>\n",
              "      <td>1.205895e+02</td>\n",
              "      <td>2.000721e+01</td>\n",
              "      <td>1.559499e+01</td>\n",
              "      <td>...</td>\n",
              "      <td>2.720284e+01</td>\n",
              "      <td>1.050309e+01</td>\n",
              "      <td>2.252841e+01</td>\n",
              "      <td>4.584549e+00</td>\n",
              "      <td>7.519589e+00</td>\n",
              "      <td>3.517346e+00</td>\n",
              "      <td>3.161220e+01</td>\n",
              "      <td>3.384781e+01</td>\n",
              "      <td>25691.160000</td>\n",
              "      <td>1.000000</td>\n",
              "    </tr>\n",
              "  </tbody>\n",
              "</table>\n",
              "<p>8 rows × 31 columns</p>\n",
              "</div>\n",
              "      <button class=\"colab-df-convert\" onclick=\"convertToInteractive('df-22a92290-bfd7-46cd-ad17-db8b3e30411b')\"\n",
              "              title=\"Convert this dataframe to an interactive table.\"\n",
              "              style=\"display:none;\">\n",
              "        \n",
              "  <svg xmlns=\"http://www.w3.org/2000/svg\" height=\"24px\"viewBox=\"0 0 24 24\"\n",
              "       width=\"24px\">\n",
              "    <path d=\"M0 0h24v24H0V0z\" fill=\"none\"/>\n",
              "    <path d=\"M18.56 5.44l.94 2.06.94-2.06 2.06-.94-2.06-.94-.94-2.06-.94 2.06-2.06.94zm-11 1L8.5 8.5l.94-2.06 2.06-.94-2.06-.94L8.5 2.5l-.94 2.06-2.06.94zm10 10l.94 2.06.94-2.06 2.06-.94-2.06-.94-.94-2.06-.94 2.06-2.06.94z\"/><path d=\"M17.41 7.96l-1.37-1.37c-.4-.4-.92-.59-1.43-.59-.52 0-1.04.2-1.43.59L10.3 9.45l-7.72 7.72c-.78.78-.78 2.05 0 2.83L4 21.41c.39.39.9.59 1.41.59.51 0 1.02-.2 1.41-.59l7.78-7.78 2.81-2.81c.8-.78.8-2.07 0-2.86zM5.41 20L4 18.59l7.72-7.72 1.47 1.35L5.41 20z\"/>\n",
              "  </svg>\n",
              "      </button>\n",
              "      \n",
              "  <style>\n",
              "    .colab-df-container {\n",
              "      display:flex;\n",
              "      flex-wrap:wrap;\n",
              "      gap: 12px;\n",
              "    }\n",
              "\n",
              "    .colab-df-convert {\n",
              "      background-color: #E8F0FE;\n",
              "      border: none;\n",
              "      border-radius: 50%;\n",
              "      cursor: pointer;\n",
              "      display: none;\n",
              "      fill: #1967D2;\n",
              "      height: 32px;\n",
              "      padding: 0 0 0 0;\n",
              "      width: 32px;\n",
              "    }\n",
              "\n",
              "    .colab-df-convert:hover {\n",
              "      background-color: #E2EBFA;\n",
              "      box-shadow: 0px 1px 2px rgba(60, 64, 67, 0.3), 0px 1px 3px 1px rgba(60, 64, 67, 0.15);\n",
              "      fill: #174EA6;\n",
              "    }\n",
              "\n",
              "    [theme=dark] .colab-df-convert {\n",
              "      background-color: #3B4455;\n",
              "      fill: #D2E3FC;\n",
              "    }\n",
              "\n",
              "    [theme=dark] .colab-df-convert:hover {\n",
              "      background-color: #434B5C;\n",
              "      box-shadow: 0px 1px 3px 1px rgba(0, 0, 0, 0.15);\n",
              "      filter: drop-shadow(0px 1px 2px rgba(0, 0, 0, 0.3));\n",
              "      fill: #FFFFFF;\n",
              "    }\n",
              "  </style>\n",
              "\n",
              "      <script>\n",
              "        const buttonEl =\n",
              "          document.querySelector('#df-22a92290-bfd7-46cd-ad17-db8b3e30411b button.colab-df-convert');\n",
              "        buttonEl.style.display =\n",
              "          google.colab.kernel.accessAllowed ? 'block' : 'none';\n",
              "\n",
              "        async function convertToInteractive(key) {\n",
              "          const element = document.querySelector('#df-22a92290-bfd7-46cd-ad17-db8b3e30411b');\n",
              "          const dataTable =\n",
              "            await google.colab.kernel.invokeFunction('convertToInteractive',\n",
              "                                                     [key], {});\n",
              "          if (!dataTable) return;\n",
              "\n",
              "          const docLinkHtml = 'Like what you see? Visit the ' +\n",
              "            '<a target=\"_blank\" href=https://colab.research.google.com/notebooks/data_table.ipynb>data table notebook</a>'\n",
              "            + ' to learn more about interactive tables.';\n",
              "          element.innerHTML = '';\n",
              "          dataTable['output_type'] = 'display_data';\n",
              "          await google.colab.output.renderOutput(dataTable, element);\n",
              "          const docLink = document.createElement('div');\n",
              "          docLink.innerHTML = docLinkHtml;\n",
              "          element.appendChild(docLink);\n",
              "        }\n",
              "      </script>\n",
              "    </div>\n",
              "  </div>\n",
              "  "
            ]
          },
          "metadata": {},
          "execution_count": 122
        }
      ],
      "source": [
        "df.describe()"
      ]
    },
    {
      "cell_type": "code",
      "source": [
        "df.shape"
      ],
      "metadata": {
        "colab": {
          "base_uri": "https://localhost:8080/"
        },
        "id": "TRYUNGczudqU",
        "outputId": "f2a6bf14-2f84-421c-8fcd-7652ee91f01c"
      },
      "execution_count": 123,
      "outputs": [
        {
          "output_type": "execute_result",
          "data": {
            "text/plain": [
              "(284807, 31)"
            ]
          },
          "metadata": {},
          "execution_count": 123
        }
      ]
    },
    {
      "cell_type": "code",
      "source": [
        "df.duplicated().sum()"
      ],
      "metadata": {
        "colab": {
          "base_uri": "https://localhost:8080/"
        },
        "id": "edKHIDxqunVM",
        "outputId": "12bad407-1d40-4dd5-a278-2952f884f621"
      },
      "execution_count": 124,
      "outputs": [
        {
          "output_type": "execute_result",
          "data": {
            "text/plain": [
              "1081"
            ]
          },
          "metadata": {},
          "execution_count": 124
        }
      ]
    },
    {
      "cell_type": "code",
      "source": [
        "df.drop_duplicates(inplace = True)"
      ],
      "metadata": {
        "id": "9frVQ8mfuzy6"
      },
      "execution_count": 125,
      "outputs": []
    },
    {
      "cell_type": "code",
      "source": [
        "df.shape"
      ],
      "metadata": {
        "colab": {
          "base_uri": "https://localhost:8080/"
        },
        "id": "1R4qktThu8UE",
        "outputId": "bed1f9be-ac99-43e3-ee26-bc6ab6a60f6a"
      },
      "execution_count": 126,
      "outputs": [
        {
          "output_type": "execute_result",
          "data": {
            "text/plain": [
              "(283726, 31)"
            ]
          },
          "metadata": {},
          "execution_count": 126
        }
      ]
    },
    {
      "cell_type": "code",
      "execution_count": 127,
      "metadata": {
        "_cell_guid": "03ddb929-5bc8-4af4-90cd-21dcbb57560d",
        "_kg_hide-input": true,
        "_uuid": "38bec67888aa534e9739e95ef9fac62d27a87021",
        "id": "ddLB-utHCV_f",
        "outputId": "278621bf-3508-4ad9-dbc1-a540031f6a3e",
        "colab": {
          "base_uri": "https://localhost:8080/"
        }
      },
      "outputs": [
        {
          "output_type": "execute_result",
          "data": {
            "text/plain": [
              "0"
            ]
          },
          "metadata": {},
          "execution_count": 127
        }
      ],
      "source": [
        "# Good No Null Values!\n",
        "df.isnull().sum().max()"
      ]
    },
    {
      "cell_type": "code",
      "execution_count": 128,
      "metadata": {
        "_cell_guid": "6a526b6c-8463-4f6f-92b0-e8a3a21cbb2e",
        "_kg_hide-input": true,
        "_uuid": "479a5f12d3dd68262316a17b4b7b3499e0a2cbe0",
        "id": "p-ySghjZCV_i",
        "outputId": "76456f5d-fec7-4446-dc15-eb9473453584",
        "colab": {
          "base_uri": "https://localhost:8080/"
        }
      },
      "outputs": [
        {
          "output_type": "execute_result",
          "data": {
            "text/plain": [
              "Index(['Time', 'V1', 'V2', 'V3', 'V4', 'V5', 'V6', 'V7', 'V8', 'V9', 'V10',\n",
              "       'V11', 'V12', 'V13', 'V14', 'V15', 'V16', 'V17', 'V18', 'V19', 'V20',\n",
              "       'V21', 'V22', 'V23', 'V24', 'V25', 'V26', 'V27', 'V28', 'Amount',\n",
              "       'Class'],\n",
              "      dtype='object')"
            ]
          },
          "metadata": {},
          "execution_count": 128
        }
      ],
      "source": [
        "df.columns"
      ]
    },
    {
      "cell_type": "code",
      "execution_count": 129,
      "metadata": {
        "_cell_guid": "01c007fa-0fcc-4eea-84ff-0861a2f8c533",
        "_kg_hide-input": true,
        "_uuid": "f6b96ff34855e3bf7af1f6979342b01c473e4e07",
        "id": "7XpxBl6OCV_k",
        "outputId": "60a87d6c-d331-4f08-b05c-8ed5cb968cc8",
        "colab": {
          "base_uri": "https://localhost:8080/"
        }
      },
      "outputs": [
        {
          "output_type": "stream",
          "name": "stdout",
          "text": [
            "No Frauds 99.83 % of the dataset\n",
            "Frauds 0.17 % of the dataset\n"
          ]
        }
      ],
      "source": [
        "# The classes are heavily skewed we need to solve this issue later.\n",
        "print('No Frauds', round(df['Class'].value_counts()[0]/len(df) * 100,2), '% of the dataset')\n",
        "print('Frauds', round(df['Class'].value_counts()[1]/len(df) * 100,2), '% of the dataset')"
      ]
    },
    {
      "cell_type": "markdown",
      "metadata": {
        "_cell_guid": "558c9b60-3f52-4da5-92fa-9fc4acbdbb3a",
        "_uuid": "c2bb0945a312508e908386fc87adc227f0afe0e0",
        "id": "9IY2gf89CV_o"
      },
      "source": [
        "**Note:**  As we can see our original dataset is highly Imbalanced. Most of the transactions are non-fraud. If we use this dataframe as the base for our predictive models and analysis we might get a lot of errors and our algorithms will probably overfit since it will \"assume\" that most transactions are not fraud. But we don't want our model to assume, we want our model to detect patterns that give signs of fraud!"
      ]
    },
    {
      "cell_type": "code",
      "execution_count": 130,
      "metadata": {
        "_cell_guid": "657bc987-4b15-4cfa-b290-c39a2632e2ac",
        "_kg_hide-input": true,
        "_uuid": "337caaf6ed3f65beedb24a74eebb22d97ff52ba4",
        "id": "Icmpz9joCV_q",
        "outputId": "48333f58-355c-4d6c-a8fd-a2666ee3a182",
        "colab": {
          "base_uri": "https://localhost:8080/",
          "height": 331
        }
      },
      "outputs": [
        {
          "output_type": "execute_result",
          "data": {
            "text/plain": [
              "Text(0.5, 1.0, 'Class Distributions \\n (0: No Fraud || 1: Fraud)')"
            ]
          },
          "metadata": {},
          "execution_count": 130
        },
        {
          "output_type": "display_data",
          "data": {
            "text/plain": [
              "<Figure size 432x288 with 1 Axes>"
            ],
            "image/png": "[encoded data removed]"
          },
          "metadata": {
            "needs_background": "light"
          }
        }
      ],
      "source": [
        "colors = [\"#0101DF\", \"#DF0101\"]\n",
        "\n",
        "sns.countplot('Class', data=df, palette=colors)\n",
        "plt.title('Class Distributions \\n (0: No Fraud || 1: Fraud)', fontsize=14)"
      ]
    },
    {
      "cell_type": "markdown",
      "metadata": {
        "_cell_guid": "3c9973d0-83bd-4b09-860e-c1f507f88310",
        "_uuid": "6894af2afdbfd5cd670d00b66f10ae49f1cab421",
        "id": "i2vrxsjKCV_v"
      },
      "source": [
        "**Distributions:** By seeing the distributions we can have an idea how skewed are these features, we can also see further distributions of the other features. There are techniques that can help the distributions be less skewed which will be implemented in this notebook in the future."
      ]
    },
    {
      "cell_type": "code",
      "execution_count": 131,
      "metadata": {
        "_cell_guid": "cee315f2-325f-42b6-a640-736f10c272cc",
        "_kg_hide-input": true,
        "_uuid": "cfa51792bf6f8a6b318ae1bffcff4e922b1d1917",
        "id": "B3EnJeslCV_x",
        "outputId": "9f02be9d-0e18-4e5a-d2b9-2d763051fb8a",
        "colab": {
          "base_uri": "https://localhost:8080/",
          "height": 282
        }
      },
      "outputs": [
        {
          "output_type": "display_data",
          "data": {
            "text/plain": [
              "<Figure size 1296x288 with 2 Axes>"
            ],
            "image/png": "[encoded data removed]"
          },
          "metadata": {
            "needs_background": "light"
          }
        }
      ],
      "source": [
        "fig, ax = plt.subplots(1, 2, figsize=(18,4))\n",
        "\n",
        "amount_val = df['Amount'].values\n",
        "time_val = df['Time'].values\n",
        "\n",
        "sns.distplot(amount_val, ax=ax[0], color='r')\n",
        "ax[0].set_title('Distribution of Transaction Amount', fontsize=14)\n",
        "ax[0].set_xlim([min(amount_val), max(amount_val)])\n",
        "\n",
        "sns.distplot(time_val, ax=ax[1], color='b')\n",
        "ax[1].set_title('Distribution of Transaction Time', fontsize=14)\n",
        "ax[1].set_xlim([min(time_val), max(time_val)])\n",
        "\n",
        "\n",
        "\n",
        "plt.show()"
      ]
    },
    {
      "cell_type": "markdown",
      "metadata": {
        "_cell_guid": "72fdda5e-7f82-488d-a433-6157d6180bb8",
        "_uuid": "c5d6781e61c0ee84e72d26e8465bfd98ef91f3b9",
        "id": "CH56LRLJCV_z"
      },
      "source": [
        "<h2> Scaling and Distributing </h2>\n",
        "<a id=\"distributing\"></a>\n",
        "Here we will first scale the columns comprise of <b>Time</b> and <b>Amount </b>. Time and amount should be scaled as the other columns. On the other hand, we need to also create a sub sample of the dataframe in order to have an equal amount of Fraud and Non-Fraud cases, helping our algorithms better understand patterns that determines whether a transaction is a fraud or not.\n",
        "\n",
        "<h3> What is a sub-Sample?</h3>\n",
        "In this scenario, our subsample will be a dataframe with a 50/50 ratio of fraud and non-fraud transactions. Meaning our sub-sample will have the same amount of fraud and non fraud transactions.\n",
        "\n",
        "<h3> Why do we create a sub-Sample?</h3>\n",
        "In the beginning, we saw that the original dataframe was heavily imbalanced! Using the original dataframe  will cause the following issues:\n",
        "<ul>\n",
        "<li><b>Overfitting: </b>Our classification models will assume that in most cases there are no frauds! What we want for our model is to be certain when a fraud occurs. </li>\n",
        "<li><b>Wrong Correlations:</b> Although we don't know what the \"V\" features stand for, it will be useful to understand how each of this features influence the result (Fraud or No Fraud) by having an imbalance dataframe we are not able to see the true correlations between the class and features. </li>\n",
        "</ul>\n",
        "\n",
        "<h3>Summary: </h3> \n",
        "<ul>\n",
        "<li> <b>Scaled amount </b> and <b> scaled time </b> are the columns with scaled values. </li>\n",
        "<li> There are <b>473 cases </b> of fraud in our dataset so we can randomly get 473 cases of non-fraud to create our new sub dataframe. </li>\n",
        "<li>We concat the 473 cases of fraud and non fraud, <b>creating a new sub-sample. </b></li>\n",
        "</ul>"
      ]
    },
    {
      "cell_type": "code",
      "execution_count": 132,
      "metadata": {
        "_cell_guid": "d5d64bf0-2fbb-4096-a265-f68887bf2fde",
        "_kg_hide-input": true,
        "_uuid": "1501ec379c9b5c39c3857ba0febd0aedee9c30d5",
        "id": "YuBnK-0kCV_1"
      },
      "outputs": [],
      "source": [
        "# Since most of our data has already been scaled we should scale the columns that are left to scale (Amount and Time)\n",
        "from sklearn.preprocessing import RobustScaler\n",
        "\n",
        "# RobustScaler is less prone to outliers.\n",
        "rob_scaler = RobustScaler()\n",
        "\n",
        "df['scaled_amount'] = rob_scaler.fit_transform(df['Amount'].values.reshape(-1,1))\n",
        "df['scaled_time'] = rob_scaler.fit_transform(df['Time'].values.reshape(-1,1))\n",
        "\n",
        "df.drop(['Time','Amount'], axis=1, inplace=True)"
      ]
    },
    {
      "cell_type": "code",
      "execution_count": 133,
      "metadata": {
        "_cell_guid": "cdb9bb1e-9fab-4fd1-a409-468ba8bc36ee",
        "_kg_hide-input": true,
        "_uuid": "a33d701247ab45d849c5e94735346a738a6c6970",
        "id": "ob-Doa7JCV_2",
        "outputId": "0e74a888-29f5-4549-a417-600612cc74d2",
        "colab": {
          "base_uri": "https://localhost:8080/",
          "height": 299
        }
      },
      "outputs": [
        {
          "output_type": "execute_result",
          "data": {
            "text/plain": [
              "   scaled_amount  scaled_time        V1        V2        V3        V4  \\\n",
              "0       1.774718    -0.995290 -1.359807 -0.072781  2.536347  1.378155   \n",
              "1      -0.268530    -0.995290  1.191857  0.266151  0.166480  0.448154   \n",
              "2       4.959811    -0.995279 -1.358354 -1.340163  1.773209  0.379780   \n",
              "3       1.411487    -0.995279 -0.966272 -0.185226  1.792993 -0.863291   \n",
              "4       0.667362    -0.995267 -1.158233  0.877737  1.548718  0.403034   \n",
              "\n",
              "         V5        V6        V7        V8  ...       V20       V21       V22  \\\n",
              "0 -0.338321  0.462388  0.239599  0.098698  ...  0.251412 -0.018307  0.277838   \n",
              "1  0.060018 -0.082361 -0.078803  0.085102  ... -0.069083 -0.225775 -0.638672   \n",
              "2 -0.503198  1.800499  0.791461  0.247676  ...  0.524980  0.247998  0.771679   \n",
              "3 -0.010309  1.247203  0.237609  0.377436  ... -0.208038 -0.108300  0.005274   \n",
              "4 -0.407193  0.095921  0.592941 -0.270533  ...  0.408542 -0.009431  0.798278   \n",
              "\n",
              "        V23       V24       V25       V26       V27       V28  Class  \n",
              "0 -0.110474  0.066928  0.128539 -0.189115  0.133558 -0.021053      0  \n",
              "1  0.101288 -0.339846  0.167170  0.125895 -0.008983  0.014724      0  \n",
              "2  0.909412 -0.689281 -0.327642 -0.139097 -0.055353 -0.059752      0  \n",
              "3 -0.190321 -1.175575  0.647376 -0.221929  0.062723  0.061458      0  \n",
              "4 -0.137458  0.141267 -0.206010  0.502292  0.219422  0.215153      0  \n",
              "\n",
              "[5 rows x 31 columns]"
            ],
            "text/html": [
              "\n",
              "  <div id=\"df-4d449d20-3858-4326-9c08-2ed65bcfb8f3\">\n",
              "    <div class=\"colab-df-container\">\n",
              "      <div>\n",
              "<style scoped>\n",
              "    .dataframe tbody tr th:only-of-type {\n",
              "        vertical-align: middle;\n",
              "    }\n",
              "\n",
              "    .dataframe tbody tr th {\n",
              "        vertical-align: top;\n",
              "    }\n",
              "\n",
              "    .dataframe thead th {\n",
              "        text-align: right;\n",
              "    }\n",
              "</style>\n",
              "<table border=\"1\" class=\"dataframe\">\n",
              "  <thead>\n",
              "    <tr style=\"text-align: right;\">\n",
              "      <th></th>\n",
              "      <th>scaled_amount</th>\n",
              "      <th>scaled_time</th>\n",
              "      <th>V1</th>\n",
              "      <th>V2</th>\n",
              "      <th>V3</th>\n",
              "      <th>V4</th>\n",
              "      <th>V5</th>\n",
              "      <th>V6</th>\n",
              "      <th>V7</th>\n",
              "      <th>V8</th>\n",
              "      <th>...</th>\n",
              "      <th>V20</th>\n",
              "      <th>V21</th>\n",
              "      <th>V22</th>\n",
              "      <th>V23</th>\n",
              "      <th>V24</th>\n",
              "      <th>V25</th>\n",
              "      <th>V26</th>\n",
              "      <th>V27</th>\n",
              "      <th>V28</th>\n",
              "      <th>Class</th>\n",
              "    </tr>\n",
              "  </thead>\n",
              "  <tbody>\n",
              "    <tr>\n",
              "      <th>0</th>\n",
              "      <td>1.774718</td>\n",
              "      <td>-0.995290</td>\n",
              "      <td>-1.359807</td>\n",
              "      <td>-0.072781</td>\n",
              "      <td>2.536347</td>\n",
              "      <td>1.378155</td>\n",
              "      <td>-0.338321</td>\n",
              "      <td>0.462388</td>\n",
              "      <td>0.239599</td>\n",
              "      <td>0.098698</td>\n",
              "      <td>...</td>\n",
              "      <td>0.251412</td>\n",
              "      <td>-0.018307</td>\n",
              "      <td>0.277838</td>\n",
              "      <td>-0.110474</td>\n",
              "      <td>0.066928</td>\n",
              "      <td>0.128539</td>\n",
              "      <td>-0.189115</td>\n",
              "      <td>0.133558</td>\n",
              "      <td>-0.021053</td>\n",
              "      <td>0</td>\n",
              "    </tr>\n",
              "    <tr>\n",
              "      <th>1</th>\n",
              "      <td>-0.268530</td>\n",
              "      <td>-0.995290</td>\n",
              "      <td>1.191857</td>\n",
              "      <td>0.266151</td>\n",
              "      <td>0.166480</td>\n",
              "      <td>0.448154</td>\n",
              "      <td>0.060018</td>\n",
              "      <td>-0.082361</td>\n",
              "      <td>-0.078803</td>\n",
              "      <td>0.085102</td>\n",
              "      <td>...</td>\n",
              "      <td>-0.069083</td>\n",
              "      <td>-0.225775</td>\n",
              "      <td>-0.638672</td>\n",
              "      <td>0.101288</td>\n",
              "      <td>-0.339846</td>\n",
              "      <td>0.167170</td>\n",
              "      <td>0.125895</td>\n",
              "      <td>-0.008983</td>\n",
              "      <td>0.014724</td>\n",
              "      <td>0</td>\n",
              "    </tr>\n",
              "    <tr>\n",
              "      <th>2</th>\n",
              "      <td>4.959811</td>\n",
              "      <td>-0.995279</td>\n",
              "      <td>-1.358354</td>\n",
              "      <td>-1.340163</td>\n",
              "      <td>1.773209</td>\n",
              "      <td>0.379780</td>\n",
              "      <td>-0.503198</td>\n",
              "      <td>1.800499</td>\n",
              "      <td>0.791461</td>\n",
              "      <td>0.247676</td>\n",
              "      <td>...</td>\n",
              "      <td>0.524980</td>\n",
              "      <td>0.247998</td>\n",
              "      <td>0.771679</td>\n",
              "      <td>0.909412</td>\n",
              "      <td>-0.689281</td>\n",
              "      <td>-0.327642</td>\n",
              "      <td>-0.139097</td>\n",
              "      <td>-0.055353</td>\n",
              "      <td>-0.059752</td>\n",
              "      <td>0</td>\n",
              "    </tr>\n",
              "    <tr>\n",
              "      <th>3</th>\n",
              "      <td>1.411487</td>\n",
              "      <td>-0.995279</td>\n",
              "      <td>-0.966272</td>\n",
              "      <td>-0.185226</td>\n",
              "      <td>1.792993</td>\n",
              "      <td>-0.863291</td>\n",
              "      <td>-0.010309</td>\n",
              "      <td>1.247203</td>\n",
              "      <td>0.237609</td>\n",
              "      <td>0.377436</td>\n",
              "      <td>...</td>\n",
              "      <td>-0.208038</td>\n",
              "      <td>-0.108300</td>\n",
              "      <td>0.005274</td>\n",
              "      <td>-0.190321</td>\n",
              "      <td>-1.175575</td>\n",
              "      <td>0.647376</td>\n",
              "      <td>-0.221929</td>\n",
              "      <td>0.062723</td>\n",
              "      <td>0.061458</td>\n",
              "      <td>0</td>\n",
              "    </tr>\n",
              "    <tr>\n",
              "      <th>4</th>\n",
              "      <td>0.667362</td>\n",
              "      <td>-0.995267</td>\n",
              "      <td>-1.158233</td>\n",
              "      <td>0.877737</td>\n",
              "      <td>1.548718</td>\n",
              "      <td>0.403034</td>\n",
              "      <td>-0.407193</td>\n",
              "      <td>0.095921</td>\n",
              "      <td>0.592941</td>\n",
              "      <td>-0.270533</td>\n",
              "      <td>...</td>\n",
              "      <td>0.408542</td>\n",
              "      <td>-0.009431</td>\n",
              "      <td>0.798278</td>\n",
              "      <td>-0.137458</td>\n",
              "      <td>0.141267</td>\n",
              "      <td>-0.206010</td>\n",
              "      <td>0.502292</td>\n",
              "      <td>0.219422</td>\n",
              "      <td>0.215153</td>\n",
              "      <td>0</td>\n",
              "    </tr>\n",
              "  </tbody>\n",
              "</table>\n",
              "<p>5 rows × 31 columns</p>\n",
              "</div>\n",
              "      <button class=\"colab-df-convert\" onclick=\"convertToInteractive('df-4d449d20-3858-4326-9c08-2ed65bcfb8f3')\"\n",
              "              title=\"Convert this dataframe to an interactive table.\"\n",
              "              style=\"display:none;\">\n",
              "        \n",
              "  <svg xmlns=\"http://www.w3.org/2000/svg\" height=\"24px\"viewBox=\"0 0 24 24\"\n",
              "       width=\"24px\">\n",
              "    <path d=\"M0 0h24v24H0V0z\" fill=\"none\"/>\n",
              "    <path d=\"M18.56 5.44l.94 2.06.94-2.06 2.06-.94-2.06-.94-.94-2.06-.94 2.06-2.06.94zm-11 1L8.5 8.5l.94-2.06 2.06-.94-2.06-.94L8.5 2.5l-.94 2.06-2.06.94zm10 10l.94 2.06.94-2.06 2.06-.94-2.06-.94-.94-2.06-.94 2.06-2.06.94z\"/><path d=\"M17.41 7.96l-1.37-1.37c-.4-.4-.92-.59-1.43-.59-.52 0-1.04.2-1.43.59L10.3 9.45l-7.72 7.72c-.78.78-.78 2.05 0 2.83L4 21.41c.39.39.9.59 1.41.59.51 0 1.02-.2 1.41-.59l7.78-7.78 2.81-2.81c.8-.78.8-2.07 0-2.86zM5.41 20L4 18.59l7.72-7.72 1.47 1.35L5.41 20z\"/>\n",
              "  </svg>\n",
              "      </button>\n",
              "      \n",
              "  <style>\n",
              "    .colab-df-container {\n",
              "      display:flex;\n",
              "      flex-wrap:wrap;\n",
              "      gap: 12px;\n",
              "    }\n",
              "\n",
              "    .colab-df-convert {\n",
              "      background-color: #E8F0FE;\n",
              "      border: none;\n",
              "      border-radius: 50%;\n",
              "      cursor: pointer;\n",
              "      display: none;\n",
              "      fill: #1967D2;\n",
              "      height: 32px;\n",
              "      padding: 0 0 0 0;\n",
              "      width: 32px;\n",
              "    }\n",
              "\n",
              "    .colab-df-convert:hover {\n",
              "      background-color: #E2EBFA;\n",
              "      box-shadow: 0px 1px 2px rgba(60, 64, 67, 0.3), 0px 1px 3px 1px rgba(60, 64, 67, 0.15);\n",
              "      fill: #174EA6;\n",
              "    }\n",
              "\n",
              "    [theme=dark] .colab-df-convert {\n",
              "      background-color: #3B4455;\n",
              "      fill: #D2E3FC;\n",
              "    }\n",
              "\n",
              "    [theme=dark] .colab-df-convert:hover {\n",
              "      background-color: #434B5C;\n",
              "      box-shadow: 0px 1px 3px 1px rgba(0, 0, 0, 0.15);\n",
              "      filter: drop-shadow(0px 1px 2px rgba(0, 0, 0, 0.3));\n",
              "      fill: #FFFFFF;\n",
              "    }\n",
              "  </style>\n",
              "\n",
              "      <script>\n",
              "        const buttonEl =\n",
              "          document.querySelector('#df-4d449d20-3858-4326-9c08-2ed65bcfb8f3 button.colab-df-convert');\n",
              "        buttonEl.style.display =\n",
              "          google.colab.kernel.accessAllowed ? 'block' : 'none';\n",
              "\n",
              "        async function convertToInteractive(key) {\n",
              "          const element = document.querySelector('#df-4d449d20-3858-4326-9c08-2ed65bcfb8f3');\n",
              "          const dataTable =\n",
              "            await google.colab.kernel.invokeFunction('convertToInteractive',\n",
              "                                                     [key], {});\n",
              "          if (!dataTable) return;\n",
              "\n",
              "          const docLinkHtml = 'Like what you see? Visit the ' +\n",
              "            '<a target=\"_blank\" href=https://colab.research.google.com/notebooks/data_table.ipynb>data table notebook</a>'\n",
              "            + ' to learn more about interactive tables.';\n",
              "          element.innerHTML = '';\n",
              "          dataTable['output_type'] = 'display_data';\n",
              "          await google.colab.output.renderOutput(dataTable, element);\n",
              "          const docLink = document.createElement('div');\n",
              "          docLink.innerHTML = docLinkHtml;\n",
              "          element.appendChild(docLink);\n",
              "        }\n",
              "      </script>\n",
              "    </div>\n",
              "  </div>\n",
              "  "
            ]
          },
          "metadata": {},
          "execution_count": 133
        }
      ],
      "source": [
        "scaled_amount = df['scaled_amount']\n",
        "scaled_time = df['scaled_time']\n",
        "\n",
        "df.drop(['scaled_amount', 'scaled_time'], axis=1, inplace=True)\n",
        "df.insert(0, 'scaled_amount', scaled_amount)\n",
        "df.insert(1, 'scaled_time', scaled_time)\n",
        "\n",
        "# Amount and Time are Scaled!\n",
        "\n",
        "df.head()"
      ]
    },
    {
      "cell_type": "markdown",
      "metadata": {
        "_cell_guid": "a59c8c8d-a4bc-4671-aa2f-9f959c142cde",
        "_uuid": "5119c4ea9e0b9031dbc5937b56323da224985024",
        "id": "ajC2drYUCV_4"
      },
      "source": [
        "### Splitting the Data (Original DataFrame)\n",
        "<a id=\"splitting\"></a>\n",
        "Before proceeding with the <b> Random UnderSampling technique</b> we have to separate the orginal dataframe. <b> Why? for testing purposes, remember although we are splitting the data when implementing Random UnderSampling or OverSampling techniques, we want to test our models on the original testing set not on the testing set created by either of these techniques.</b> The main goal is to fit the model either with the dataframes that were undersample and oversample (in order for our models to detect the patterns), and test it on the original testing set.  "
      ]
    },
    {
      "cell_type": "markdown",
      "metadata": {
        "_cell_guid": "956d34b9-e562-4b70-a2f8-fbe060273a83",
        "_uuid": "cc554c4ffec656cb38d01c034f2cd338e1cb4565",
        "id": "UWMYt3xCCV_8"
      },
      "source": [
        "## Random Under-Sampling:\n",
        "<img src=\"http://contrib.scikit-learn.org/imbalanced-learn/stable/_images/sphx_glr_plot_random_under_sampler_001.png\">\n",
        "\n",
        "In this phase of the project we will implement *\"Random Under Sampling\"* which basically consists of removing data in order to have a more <b> balanced dataset </b> and thus avoiding our models to overfitting.\n",
        "\n",
        "#### Steps:\n",
        "<ul>\n",
        "<li>The first thing we have to do is determine how <b>imbalanced</b> is our class (use \"value_counts()\" on the class column to determine the amount for each label)  </li>\n",
        "<li>Once we determine how many instances are considered <b>fraud transactions </b> (Fraud = \"1\") , we should bring the <b>non-fraud transactions</b> to the same amount as fraud transactions (assuming we want a 50/50 ratio), this will be equivalent to 473 cases of fraud and 473 cases of non-fraud transactions.  </li>\n",
        "<li> After implementing this technique, we have a sub-sample of our dataframe with a 50/50 ratio with regards to our classes. Then the next step we will implement is to <b>shuffle the data</b> to see if our models can maintain a certain accuracy everytime we run this script.</li>\n",
        "</ul>\n",
        "\n",
        "**Note:** The main issue with \"Random Under-Sampling\" is that we run the risk that our classification models will not perform as accurate as we would like to since there is a great deal of <b>information loss</b> (bringing 473 non-fraud transaction  from 284,315 non-fraud transaction)"
      ]
    },
    {
      "cell_type": "code",
      "execution_count": 134,
      "metadata": {
        "_cell_guid": "f0acfc44-eb2a-4356-ad03-d0c12807acd7",
        "_kg_hide-input": true,
        "_uuid": "e3a2b89752681164f14c8273452fc66734d7f41b",
        "id": "v0fpc65-CV_9",
        "outputId": "65cca346-9f7f-46f3-ad43-98c88a883b97",
        "colab": {
          "base_uri": "https://localhost:8080/",
          "height": 299
        }
      },
      "outputs": [
        {
          "output_type": "execute_result",
          "data": {
            "text/plain": [
              "        scaled_amount  scaled_time        V1        V2        V3        V4  \\\n",
              "123141       3.236824    -0.092446 -6.616293  3.563428 -7.058901  4.284346   \n",
              "235644       1.400083     0.749607 -1.541678  3.846800 -7.604114  3.121459   \n",
              "83966        5.096649    -0.288889 -1.693053 -1.143845  1.677068 -1.613052   \n",
              "251866      -0.251704     0.832528  0.711155  2.617105 -4.722363  5.842970   \n",
              "88307        2.197191    -0.265738 -1.599457  2.607720 -2.987193  3.064156   \n",
              "\n",
              "              V5        V6        V7        V8  ...       V20       V21  \\\n",
              "123141 -5.096299 -1.768618 -4.937554  2.748460  ... -0.541634  1.215976   \n",
              "235644 -1.254924 -2.084875 -2.385027  1.471140  ...  0.114760  1.096405   \n",
              "83966  -0.955475 -0.145609  1.253603 -0.017514  ...  0.911439  0.429757   \n",
              "251866 -0.600179 -1.646313 -2.785198  0.540368  ...  0.461032  0.360501   \n",
              "88307  -2.497914 -0.541103 -2.277786  1.268166  ...  0.225333  0.662933   \n",
              "\n",
              "             V22       V23       V24       V25       V26       V27       V28  \\\n",
              "123141  0.041178 -1.059098  0.275662  0.057425 -0.265838 -0.514637  0.388590   \n",
              "235644  1.064222  0.065370  0.257209 -0.693654 -0.335702  0.577052  0.398348   \n",
              "83966   0.603984  0.479247 -0.122940  0.897534 -0.601791 -0.039181  0.108406   \n",
              "251866 -0.865526  0.139978 -0.336238  0.128449 -0.155646  0.799460  0.392170   \n",
              "88307   0.184087 -0.089452 -0.506000 -0.062259 -0.052714  0.322854  0.135268   \n",
              "\n",
              "        Class  \n",
              "123141      1  \n",
              "235644      1  \n",
              "83966       0  \n",
              "251866      1  \n",
              "88307       1  \n",
              "\n",
              "[5 rows x 31 columns]"
            ],
            "text/html": [
              "\n",
              "  <div id=\"df-2a39a715-224d-4020-bdf0-b30d2b855e60\">\n",
              "    <div class=\"colab-df-container\">\n",
              "      <div>\n",
              "<style scoped>\n",
              "    .dataframe tbody tr th:only-of-type {\n",
              "        vertical-align: middle;\n",
              "    }\n",
              "\n",
              "    .dataframe tbody tr th {\n",
              "        vertical-align: top;\n",
              "    }\n",
              "\n",
              "    .dataframe thead th {\n",
              "        text-align: right;\n",
              "    }\n",
              "</style>\n",
              "<table border=\"1\" class=\"dataframe\">\n",
              "  <thead>\n",
              "    <tr style=\"text-align: right;\">\n",
              "      <th></th>\n",
              "      <th>scaled_amount</th>\n",
              "      <th>scaled_time</th>\n",
              "      <th>V1</th>\n",
              "      <th>V2</th>\n",
              "      <th>V3</th>\n",
              "      <th>V4</th>\n",
              "      <th>V5</th>\n",
              "      <th>V6</th>\n",
              "      <th>V7</th>\n",
              "      <th>V8</th>\n",
              "      <th>...</th>\n",
              "      <th>V20</th>\n",
              "      <th>V21</th>\n",
              "      <th>V22</th>\n",
              "      <th>V23</th>\n",
              "      <th>V24</th>\n",
              "      <th>V25</th>\n",
              "      <th>V26</th>\n",
              "      <th>V27</th>\n",
              "      <th>V28</th>\n",
              "      <th>Class</th>\n",
              "    </tr>\n",
              "  </thead>\n",
              "  <tbody>\n",
              "    <tr>\n",
              "      <th>123141</th>\n",
              "      <td>3.236824</td>\n",
              "      <td>-0.092446</td>\n",
              "      <td>-6.616293</td>\n",
              "      <td>3.563428</td>\n",
              "      <td>-7.058901</td>\n",
              "      <td>4.284346</td>\n",
              "      <td>-5.096299</td>\n",
              "      <td>-1.768618</td>\n",
              "      <td>-4.937554</td>\n",
              "      <td>2.748460</td>\n",
              "      <td>...</td>\n",
              "      <td>-0.541634</td>\n",
              "      <td>1.215976</td>\n",
              "      <td>0.041178</td>\n",
              "      <td>-1.059098</td>\n",
              "      <td>0.275662</td>\n",
              "      <td>0.057425</td>\n",
              "      <td>-0.265838</td>\n",
              "      <td>-0.514637</td>\n",
              "      <td>0.388590</td>\n",
              "      <td>1</td>\n",
              "    </tr>\n",
              "    <tr>\n",
              "      <th>235644</th>\n",
              "      <td>1.400083</td>\n",
              "      <td>0.749607</td>\n",
              "      <td>-1.541678</td>\n",
              "      <td>3.846800</td>\n",
              "      <td>-7.604114</td>\n",
              "      <td>3.121459</td>\n",
              "      <td>-1.254924</td>\n",
              "      <td>-2.084875</td>\n",
              "      <td>-2.385027</td>\n",
              "      <td>1.471140</td>\n",
              "      <td>...</td>\n",
              "      <td>0.114760</td>\n",
              "      <td>1.096405</td>\n",
              "      <td>1.064222</td>\n",
              "      <td>0.065370</td>\n",
              "      <td>0.257209</td>\n",
              "      <td>-0.693654</td>\n",
              "      <td>-0.335702</td>\n",
              "      <td>0.577052</td>\n",
              "      <td>0.398348</td>\n",
              "      <td>1</td>\n",
              "    </tr>\n",
              "    <tr>\n",
              "      <th>83966</th>\n",
              "      <td>5.096649</td>\n",
              "      <td>-0.288889</td>\n",
              "      <td>-1.693053</td>\n",
              "      <td>-1.143845</td>\n",
              "      <td>1.677068</td>\n",
              "      <td>-1.613052</td>\n",
              "      <td>-0.955475</td>\n",
              "      <td>-0.145609</td>\n",
              "      <td>1.253603</td>\n",
              "      <td>-0.017514</td>\n",
              "      <td>...</td>\n",
              "      <td>0.911439</td>\n",
              "      <td>0.429757</td>\n",
              "      <td>0.603984</td>\n",
              "      <td>0.479247</td>\n",
              "      <td>-0.122940</td>\n",
              "      <td>0.897534</td>\n",
              "      <td>-0.601791</td>\n",
              "      <td>-0.039181</td>\n",
              "      <td>0.108406</td>\n",
              "      <td>0</td>\n",
              "    </tr>\n",
              "    <tr>\n",
              "      <th>251866</th>\n",
              "      <td>-0.251704</td>\n",
              "      <td>0.832528</td>\n",
              "      <td>0.711155</td>\n",
              "      <td>2.617105</td>\n",
              "      <td>-4.722363</td>\n",
              "      <td>5.842970</td>\n",
              "      <td>-0.600179</td>\n",
              "      <td>-1.646313</td>\n",
              "      <td>-2.785198</td>\n",
              "      <td>0.540368</td>\n",
              "      <td>...</td>\n",
              "      <td>0.461032</td>\n",
              "      <td>0.360501</td>\n",
              "      <td>-0.865526</td>\n",
              "      <td>0.139978</td>\n",
              "      <td>-0.336238</td>\n",
              "      <td>0.128449</td>\n",
              "      <td>-0.155646</td>\n",
              "      <td>0.799460</td>\n",
              "      <td>0.392170</td>\n",
              "      <td>1</td>\n",
              "    </tr>\n",
              "    <tr>\n",
              "      <th>88307</th>\n",
              "      <td>2.197191</td>\n",
              "      <td>-0.265738</td>\n",
              "      <td>-1.599457</td>\n",
              "      <td>2.607720</td>\n",
              "      <td>-2.987193</td>\n",
              "      <td>3.064156</td>\n",
              "      <td>-2.497914</td>\n",
              "      <td>-0.541103</td>\n",
              "      <td>-2.277786</td>\n",
              "      <td>1.268166</td>\n",
              "      <td>...</td>\n",
              "      <td>0.225333</td>\n",
              "      <td>0.662933</td>\n",
              "      <td>0.184087</td>\n",
              "      <td>-0.089452</td>\n",
              "      <td>-0.506000</td>\n",
              "      <td>-0.062259</td>\n",
              "      <td>-0.052714</td>\n",
              "      <td>0.322854</td>\n",
              "      <td>0.135268</td>\n",
              "      <td>1</td>\n",
              "    </tr>\n",
              "  </tbody>\n",
              "</table>\n",
              "<p>5 rows × 31 columns</p>\n",
              "</div>\n",
              "      <button class=\"colab-df-convert\" onclick=\"convertToInteractive('df-2a39a715-224d-4020-bdf0-b30d2b855e60')\"\n",
              "              title=\"Convert this dataframe to an interactive table.\"\n",
              "              style=\"display:none;\">\n",
              "        \n",
              "  <svg xmlns=\"http://www.w3.org/2000/svg\" height=\"24px\"viewBox=\"0 0 24 24\"\n",
              "       width=\"24px\">\n",
              "    <path d=\"M0 0h24v24H0V0z\" fill=\"none\"/>\n",
              "    <path d=\"M18.56 5.44l.94 2.06.94-2.06 2.06-.94-2.06-.94-.94-2.06-.94 2.06-2.06.94zm-11 1L8.5 8.5l.94-2.06 2.06-.94-2.06-.94L8.5 2.5l-.94 2.06-2.06.94zm10 10l.94 2.06.94-2.06 2.06-.94-2.06-.94-.94-2.06-.94 2.06-2.06.94z\"/><path d=\"M17.41 7.96l-1.37-1.37c-.4-.4-.92-.59-1.43-.59-.52 0-1.04.2-1.43.59L10.3 9.45l-7.72 7.72c-.78.78-.78 2.05 0 2.83L4 21.41c.39.39.9.59 1.41.59.51 0 1.02-.2 1.41-.59l7.78-7.78 2.81-2.81c.8-.78.8-2.07 0-2.86zM5.41 20L4 18.59l7.72-7.72 1.47 1.35L5.41 20z\"/>\n",
              "  </svg>\n",
              "      </button>\n",
              "      \n",
              "  <style>\n",
              "    .colab-df-container {\n",
              "      display:flex;\n",
              "      flex-wrap:wrap;\n",
              "      gap: 12px;\n",
              "    }\n",
              "\n",
              "    .colab-df-convert {\n",
              "      background-color: #E8F0FE;\n",
              "      border: none;\n",
              "      border-radius: 50%;\n",
              "      cursor: pointer;\n",
              "      display: none;\n",
              "      fill: #1967D2;\n",
              "      height: 32px;\n",
              "      padding: 0 0 0 0;\n",
              "      width: 32px;\n",
              "    }\n",
              "\n",
              "    .colab-df-convert:hover {\n",
              "      background-color: #E2EBFA;\n",
              "      box-shadow: 0px 1px 2px rgba(60, 64, 67, 0.3), 0px 1px 3px 1px rgba(60, 64, 67, 0.15);\n",
              "      fill: #174EA6;\n",
              "    }\n",
              "\n",
              "    [theme=dark] .colab-df-convert {\n",
              "      background-color: #3B4455;\n",
              "      fill: #D2E3FC;\n",
              "    }\n",
              "\n",
              "    [theme=dark] .colab-df-convert:hover {\n",
              "      background-color: #434B5C;\n",
              "      box-shadow: 0px 1px 3px 1px rgba(0, 0, 0, 0.15);\n",
              "      filter: drop-shadow(0px 1px 2px rgba(0, 0, 0, 0.3));\n",
              "      fill: #FFFFFF;\n",
              "    }\n",
              "  </style>\n",
              "\n",
              "      <script>\n",
              "        const buttonEl =\n",
              "          document.querySelector('#df-2a39a715-224d-4020-bdf0-b30d2b855e60 button.colab-df-convert');\n",
              "        buttonEl.style.display =\n",
              "          google.colab.kernel.accessAllowed ? 'block' : 'none';\n",
              "\n",
              "        async function convertToInteractive(key) {\n",
              "          const element = document.querySelector('#df-2a39a715-224d-4020-bdf0-b30d2b855e60');\n",
              "          const dataTable =\n",
              "            await google.colab.kernel.invokeFunction('convertToInteractive',\n",
              "                                                     [key], {});\n",
              "          if (!dataTable) return;\n",
              "\n",
              "          const docLinkHtml = 'Like what you see? Visit the ' +\n",
              "            '<a target=\"_blank\" href=https://colab.research.google.com/notebooks/data_table.ipynb>data table notebook</a>'\n",
              "            + ' to learn more about interactive tables.';\n",
              "          element.innerHTML = '';\n",
              "          dataTable['output_type'] = 'display_data';\n",
              "          await google.colab.output.renderOutput(dataTable, element);\n",
              "          const docLink = document.createElement('div');\n",
              "          docLink.innerHTML = docLinkHtml;\n",
              "          element.appendChild(docLink);\n",
              "        }\n",
              "      </script>\n",
              "    </div>\n",
              "  </div>\n",
              "  "
            ]
          },
          "metadata": {},
          "execution_count": 134
        }
      ],
      "source": [
        "# Since our classes are highly skewed we should make them equivalent in order to have a normal distribution of the classes.\n",
        "\n",
        "# Lets shuffle the data before creating the subsamples\n",
        "\n",
        "df = df.sample(frac=1)\n",
        "\n",
        "# amount of fraud classes 473 rows.\n",
        "fraud_df = df.loc[df['Class'] == 1]\n",
        "non_fraud_df = df.loc[df['Class'] == 0][:473]\n",
        "\n",
        "normal_distributed_df = pd.concat([fraud_df, non_fraud_df])\n",
        "\n",
        "# Shuffle dataframe rows\n",
        "new_df = normal_distributed_df.sample(frac=1, random_state=42)\n",
        "\n",
        "new_df.head()"
      ]
    },
    {
      "cell_type": "code",
      "source": [
        "len(fraud_df)"
      ],
      "metadata": {
        "colab": {
          "base_uri": "https://localhost:8080/"
        },
        "id": "G0w05SKZy6fg",
        "outputId": "f942a635-e292-42a0-b00b-c411e7702940"
      },
      "execution_count": 135,
      "outputs": [
        {
          "output_type": "execute_result",
          "data": {
            "text/plain": [
              "473"
            ]
          },
          "metadata": {},
          "execution_count": 135
        }
      ]
    },
    {
      "cell_type": "markdown",
      "metadata": {
        "_cell_guid": "77198464-c0f8-4694-ac0b-4b29b94d0da3",
        "_uuid": "b6818122806657e7accb8be1f4bf17086bb9b149",
        "id": "kC-KbW08CV_-"
      },
      "source": [
        "##  Equally Distributing and Correlating: \n",
        "<a id=\"correlating\"></a>\n",
        "Now that we have our dataframe correctly balanced, we can go further with our <b>analysis</b> and <b>data preprocessing</b>."
      ]
    },
    {
      "cell_type": "code",
      "execution_count": 136,
      "metadata": {
        "_cell_guid": "73454100-dc69-49fd-b1b2-f72e326bca5d",
        "_kg_hide-input": true,
        "_uuid": "68b42e92df59f10fbd3ba700389796c4506af604",
        "id": "H51wkg27CWAA",
        "outputId": "bc54074b-2347-490b-9f7f-3e81e051067d",
        "colab": {
          "base_uri": "https://localhost:8080/",
          "height": 369
        }
      },
      "outputs": [
        {
          "output_type": "stream",
          "name": "stdout",
          "text": [
            "Distribution of the Classes in the subsample dataset\n",
            "1    0.5\n",
            "0    0.5\n",
            "Name: Class, dtype: float64\n"
          ]
        },
        {
          "output_type": "display_data",
          "data": {
            "text/plain": [
              "<Figure size 432x288 with 1 Axes>"
            ],
            "image/png": "[encoded data removed]"
          },
          "metadata": {
            "needs_background": "light"
          }
        }
      ],
      "source": [
        "print('Distribution of the Classes in the subsample dataset')\n",
        "print(new_df['Class'].value_counts()/len(new_df))\n",
        "\n",
        "\n",
        "\n",
        "sns.countplot('Class', data=new_df, palette=colors)\n",
        "plt.title('Equally Distributed Classes', fontsize=14)\n",
        "plt.show()"
      ]
    },
    {
      "cell_type": "markdown",
      "metadata": {
        "_cell_guid": "0abc31ee-a78e-43af-822f-f06772d00c1c",
        "_uuid": "88477bac6687f110e9d64ec22837c250d85d2a2b",
        "id": "n2e3OChDCWAB"
      },
      "source": [
        "\n",
        "\n",
        "\n",
        "\n",
        "\n",
        "\n",
        "\n",
        "\n",
        "\n",
        "\n",
        "\n",
        "\n",
        "\n",
        "\n",
        "\n",
        "\n",
        "\n",
        "\n",
        "\n",
        "\n",
        "\n",
        "\n",
        "\n",
        "\n",
        "\n",
        "<h3> Correlation Matrices </h3>\n",
        "Correlation matrices are the essence of understanding our data. We want to know if there are features that influence heavily in whether a specific transaction is a fraud. However, it is important that we use the correct dataframe (subsample)  in order for us to see which features have a high positive or negative correlation with regards to fraud transactions.\n",
        "\n",
        "### Summary and Explanation: \n",
        "<ul>\n",
        "<li><b>Negative Correlations: </b>V17, V14, V12 and V10 are negatively correlated. Notice how the lower these values are, the more likely the end result will be a fraud transaction.  </li>\n",
        "<li> <b> Positive Correlations: </b> V2, V4, V11, and V19 are positively correlated. Notice how the higher these values are, the more likely the end result will be a fraud transaction. </li>\n",
        "<li> <b>BoxPlots: </b>  We will use boxplots to have a better understanding of the distribution of these features in fradulent and non fradulent transactions. </li>\n",
        "</ul>\n",
        "\n",
        "\n",
        "**Note: ** We have to make sure we use the subsample in our correlation matrix or else our correlation matrix will be affected by the high imbalance between our classes. This occurs due to the high class imbalance in the original dataframe."
      ]
    },
    {
      "cell_type": "code",
      "execution_count": 137,
      "metadata": {
        "_cell_guid": "9f353623-9435-4bb2-b854-b4a201ec7dd9",
        "_kg_hide-input": true,
        "_uuid": "e2f417c5d7c633a1e3cdfaa78acd6bd77a38400e",
        "id": "73-ZNR4sCWAD",
        "outputId": "8515adc6-c720-4af1-bda5-d530e2f7a10b",
        "colab": {
          "base_uri": "https://localhost:8080/",
          "height": 1000
        }
      },
      "outputs": [
        {
          "output_type": "display_data",
          "data": {
            "text/plain": [
              "<Figure size 1728x1440 with 4 Axes>"
            ],
            "image/png": "[encoded data removed]"
          },
          "metadata": {
            "needs_background": "light"
          }
        }
      ],
      "source": [
        "# Make sure we use the subsample in our correlation\n",
        "\n",
        "f, (ax1, ax2) = plt.subplots(2, 1, figsize=(24,20))\n",
        "\n",
        "# Entire DataFrame\n",
        "corr = df.corr()\n",
        "sns.heatmap(corr, cmap='coolwarm_r', annot_kws={'size':20}, ax=ax1)\n",
        "ax1.set_title(\"Imbalanced Correlation Matrix \\n (don't use for reference)\", fontsize=14)\n",
        "\n",
        "\n",
        "sub_sample_corr = new_df.corr()\n",
        "sns.heatmap(sub_sample_corr, cmap='coolwarm_r', annot_kws={'size':20}, ax=ax2)\n",
        "ax2.set_title('SubSample Correlation Matrix \\n (use for reference)', fontsize=14)\n",
        "plt.show()"
      ]
    },
    {
      "cell_type": "code",
      "execution_count": 138,
      "metadata": {
        "_cell_guid": "2f02c21f-daa3-4251-a8e9-acad09a5ce0f",
        "_kg_hide-input": true,
        "_uuid": "318d0e7e0443f99139be21c00a7abc663be26385",
        "id": "r5_z91i1CWAF",
        "outputId": "c3f93110-8b45-4c7f-a7a7-5294e93ca502",
        "colab": {
          "base_uri": "https://localhost:8080/",
          "height": 281
        }
      },
      "outputs": [
        {
          "output_type": "display_data",
          "data": {
            "text/plain": [
              "<Figure size 1440x288 with 4 Axes>"
            ],
            "image/png": "[encoded data removed]"
          },
          "metadata": {
            "needs_background": "light"
          }
        }
      ],
      "source": [
        "f, axes = plt.subplots(ncols=4, figsize=(20,4))\n",
        "\n",
        "# Negative Correlations with our Class (The lower our feature value the more likely it will be a fraud transaction)\n",
        "sns.boxplot(x=\"Class\", y=\"V17\", data=new_df, palette=colors, ax=axes[0])\n",
        "axes[0].set_title('V17 vs Class Negative Correlation')\n",
        "\n",
        "sns.boxplot(x=\"Class\", y=\"V14\", data=new_df, palette=colors, ax=axes[1])\n",
        "axes[1].set_title('V14 vs Class Negative Correlation')\n",
        "\n",
        "\n",
        "sns.boxplot(x=\"Class\", y=\"V12\", data=new_df, palette=colors, ax=axes[2])\n",
        "axes[2].set_title('V12 vs Class Negative Correlation')\n",
        "\n",
        "\n",
        "sns.boxplot(x=\"Class\", y=\"V10\", data=new_df, palette=colors, ax=axes[3])\n",
        "axes[3].set_title('V10 vs Class Negative Correlation')\n",
        "\n",
        "plt.show()"
      ]
    },
    {
      "cell_type": "code",
      "execution_count": 139,
      "metadata": {
        "_cell_guid": "b457b10e-c17c-4cb2-9719-6d4128377c9f",
        "_kg_hide-input": true,
        "_uuid": "7bfc46c028f8602ee949de83629082633aa47b2c",
        "id": "JzLG3RNlCWAG",
        "outputId": "484f7f5e-bb3a-43b4-c7bf-b3736ef05440",
        "colab": {
          "base_uri": "https://localhost:8080/",
          "height": 282
        }
      },
      "outputs": [
        {
          "output_type": "display_data",
          "data": {
            "text/plain": [
              "<Figure size 1440x288 with 4 Axes>"
            ],
            "image/png": "[encoded data removed]"
          },
          "metadata": {
            "needs_background": "light"
          }
        }
      ],
      "source": [
        "f, axes = plt.subplots(ncols=4, figsize=(20,4))\n",
        "\n",
        "# Positive correlations (The higher the feature the probability increases that it will be a fraud transaction)\n",
        "sns.boxplot(x=\"Class\", y=\"V11\", data=new_df, palette=colors, ax=axes[0])\n",
        "axes[0].set_title('V11 vs Class Positive Correlation')\n",
        "\n",
        "sns.boxplot(x=\"Class\", y=\"V4\", data=new_df, palette=colors, ax=axes[1])\n",
        "axes[1].set_title('V4 vs Class Positive Correlation')\n",
        "\n",
        "\n",
        "sns.boxplot(x=\"Class\", y=\"V2\", data=new_df, palette=colors, ax=axes[2])\n",
        "axes[2].set_title('V2 vs Class Positive Correlation')\n",
        "\n",
        "\n",
        "sns.boxplot(x=\"Class\", y=\"V19\", data=new_df, palette=colors, ax=axes[3])\n",
        "axes[3].set_title('V19 vs Class Positive Correlation')\n",
        "\n",
        "plt.show()"
      ]
    },
    {
      "cell_type": "markdown",
      "metadata": {
        "_cell_guid": "93e56c89-185e-40d2-9ccc-29b123feb5a6",
        "_uuid": "a721282c0f44ec8030bbad6d0220091bde8cbec8",
        "id": "eSANMk9_CWAH"
      },
      "source": [
        "## Anomaly Detection:\n",
        "<a id=\"anomaly\"></a>\n",
        "<img src=\"https://discourse-cdn-sjc1.com/business6/uploads/analyticsvidhya/original/2X/d/d11281b44c2e440b36aaf29156b5032105d2d06b.png\">\n",
        "\n",
        "\n",
        "Our main aim in this section is to remove \"extreme outliers\" from features that have a high correlation with our classes. This will have a positive impact on the accuracy of our models.  <br><br>\n",
        "\n",
        "\n",
        "### Interquartile Range Method:\n",
        "<ul>\n",
        "<li> <b>Interquartile Range (IQR): </b> We calculate this by the difference between the 75th percentile and 25th percentile. Our aim is to create a threshold beyond the 75th and 25th percentile that in case some instance pass this threshold the instance will be deleted.  </li>\n",
        "<li> <b>Boxplots: </b> Besides easily seeing the 25th and 75th percentiles (both end of the squares) it is also easy to see extreme outliers (points beyond the lower and higher extreme). </li>\n",
        "</ul>\n",
        "\n",
        "### Outlier Removal Tradeoff:\n",
        "We have to be careful as to how far do we want the threshold for removing outliers. We determine the threshold by multiplying a number (ex: 1.5) by the (Interquartile Range). The higher this threshold is, the less outliers will detect (multiplying by a higher number ex: 3), and the lower this threshold is the more outliers it will detect.  <br><br>\n",
        "\n",
        "**The Tradeoff: **\n",
        "The lower the threshold the more outliers it will remove however, we want to focus more on \"extreme outliers\" rather than just outliers. Why? because we might run the risk of information loss which will cause our models to have a lower accuracy. You can play with this threshold and see how it affects the accuracy of our classification models.\n",
        "\n",
        "\n",
        "### Summary:\n",
        "<ul>\n",
        "<li> <b> Visualize Distributions: </b> We first start by visualizing the distribution of the feature we are going to use to eliminate some of the outliers. V14 is the only feature that has a Gaussian distribution compared to features V12 and V10. </li>\n",
        "<li><b>Determining the threshold: </b> After we decide which number we will use to multiply with the iqr (the lower more outliers removed), we will proceed in determining the upper and lower thresholds by substrating q25 - threshold (lower extreme threshold) and adding q75 + threshold (upper extreme threshold). </li>\n",
        "<li> <b>Conditional Dropping: </b> Lastly, we create a conditional dropping stating that if the \"threshold\" is exceeded in both extremes, the instances will be removed. </li>\n",
        "<li> <b> Boxplot Representation: </b> Visualize through the boxplot that the number of \"extreme outliers\" have been reduced to a considerable amount. </li>\n",
        "</ul>\n",
        "\n",
        "**Note:** After implementing outlier reduction our accuracy has been improved by over 3%! Some outliers can distort the accuracy of our models but remember, we have to avoid an extreme amount of information loss or else our model runs the risk of underfitting.\n"
      ]
    },
    {
      "cell_type": "code",
      "execution_count": 140,
      "metadata": {
        "_cell_guid": "9c690dfa-8fed-44e5-99f5-ff4eb6f87f16",
        "_kg_hide-input": true,
        "_uuid": "b6963900379db5b0d4adf92f8c7f959164e9119f",
        "id": "2BQNMu-cCWAJ",
        "outputId": "9d498cfa-7dea-4ee5-f5ae-3f1d9f35639d",
        "colab": {
          "base_uri": "https://localhost:8080/",
          "height": 387
        }
      },
      "outputs": [
        {
          "output_type": "display_data",
          "data": {
            "text/plain": [
              "<Figure size 1440x432 with 3 Axes>"
            ],
            "image/png": "[encoded data removed]"
          },
          "metadata": {
            "needs_background": "light"
          }
        }
      ],
      "source": [
        "from scipy.stats import norm\n",
        "\n",
        "f, (ax1, ax2, ax3) = plt.subplots(1,3, figsize=(20, 6))\n",
        "\n",
        "v14_fraud_dist = new_df['V14'].loc[new_df['Class'] == 1].values\n",
        "sns.distplot(v14_fraud_dist,ax=ax1, fit=norm, color='#FB8861')\n",
        "ax1.set_title('V14 Distribution \\n (Fraud Transactions)', fontsize=14)\n",
        "\n",
        "v12_fraud_dist = new_df['V12'].loc[new_df['Class'] == 1].values\n",
        "sns.distplot(v12_fraud_dist,ax=ax2, fit=norm, color='#56F9BB')\n",
        "ax2.set_title('V12 Distribution \\n (Fraud Transactions)', fontsize=14)\n",
        "\n",
        "\n",
        "v10_fraud_dist = new_df['V10'].loc[new_df['Class'] == 1].values\n",
        "sns.distplot(v10_fraud_dist,ax=ax3, fit=norm, color='#C5B3F9')\n",
        "ax3.set_title('V10 Distribution \\n (Fraud Transactions)', fontsize=14)\n",
        "\n",
        "plt.show()"
      ]
    },
    {
      "cell_type": "code",
      "execution_count": 141,
      "metadata": {
        "_cell_guid": "2e19fe33-f85a-4ffd-8e4a-807d0e0fb992",
        "_kg_hide-input": true,
        "_uuid": "21e43406e62a9561fba2f065ce15a8d87a1bf389",
        "id": "JmrFH9VeCWAK",
        "outputId": "b59a4bad-2c0e-4881-97eb-17d513056204",
        "colab": {
          "base_uri": "https://localhost:8080/"
        }
      },
      "outputs": [
        {
          "output_type": "stream",
          "name": "stdout",
          "text": [
            "Quartile 25: -9.50514082568186 | Quartile 75: -4.25246559869278\n",
            "iqr: 5.25267522698908\n",
            "Cut Off: 7.87901284048362\n",
            "V14 Lower: -17.38415366616548\n",
            "V14 Upper: 3.62654724179084\n",
            "Feature V14 Outliers for Fraud Cases: 7\n",
            "V14 outliers:[-17.4759212828566, -18.0499976898594, -17.6206343516773, -17.7216383537133, -18.4937733551053, -18.8220867423816, -19.2143254902614]\n",
            "Number of Instances after outliers removal: 939\n",
            "--------------------------------------------------------------------------------------------------------------------------------------------------------------------------------\n",
            "V12 Lower: -16.971245282033493\n",
            "V12 Upper: 5.672071569485119\n",
            "V12 outliers: [-17.003289445516, -17.1829184301947, -18.5536970096458, -17.1504052507291, -18.4311310279993, -18.0475965708216, -18.6837146333443]\n",
            "Feature V12 Outliers for Fraud Cases: 7\n",
            "Number of Instances after outliers removal: 932\n",
            "--------------------------------------------------------------------------------------------------------------------------------------------------------------------------------\n",
            "V10 Lower: -13.565483550728938\n",
            "V10 Upper: 4.427401646386163\n",
            "V10 outliers: [-16.6011969664137, -14.6764702497464, -15.2318333653018, -23.2282548357516, -14.2266980575287, -24.4031849699728, -14.5571590528859, -19.836148851696, -14.5331616869738, -15.2399619587112, -22.1870885620007, -16.2556117491401, -18.9132433348732, -24.5882624372475, -15.5637913387301, -15.3460988468775, -16.3035376590131, -15.1237521803455, -13.6081431627279, -14.166794659606, -14.9246547735487, -15.1241628144947, -13.6705451263516, -18.2711681738888, -17.1415136412892, -20.9491915543611, -16.6496281595399, -16.7460441053944, -14.1101844415457]\n",
            "Feature V10 Outliers for Fraud Cases: 29\n",
            "Number of Instances after outliers removal: 900\n"
          ]
        }
      ],
      "source": [
        "# # -----> V14 Removing Outliers (Highest Negative Correlated with Labels)\n",
        "v14_fraud = new_df['V14'].loc[new_df['Class'] == 1].values\n",
        "q25, q75 = np.percentile(v14_fraud, 25), np.percentile(v14_fraud, 75)\n",
        "print('Quartile 25: {} | Quartile 75: {}'.format(q25, q75))\n",
        "v14_iqr = q75 - q25\n",
        "print('iqr: {}'.format(v14_iqr))\n",
        "\n",
        "v14_cut_off = v14_iqr * 1.5\n",
        "v14_lower, v14_upper = q25 - v14_cut_off, q75 + v14_cut_off\n",
        "print('Cut Off: {}'.format(v14_cut_off))\n",
        "print('V14 Lower: {}'.format(v14_lower))\n",
        "print('V14 Upper: {}'.format(v14_upper))\n",
        "\n",
        "outliers = [x for x in v14_fraud if x < v14_lower or x > v14_upper]\n",
        "print('Feature V14 Outliers for Fraud Cases: {}'.format(len(outliers)))\n",
        "print('V14 outliers:{}'.format(outliers))\n",
        "\n",
        "new_df = new_df.drop(new_df[(new_df['V14'] > v14_upper) | (new_df['V14'] < v14_lower)].index)\n",
        "print('Number of Instances after outliers removal: {}'.format(len(new_df)))\n",
        "print('----' * 44)\n",
        "\n",
        "# -----> V12 removing outliers from fraud transactions\n",
        "v12_fraud = new_df['V12'].loc[new_df['Class'] == 1].values\n",
        "q25, q75 = np.percentile(v12_fraud, 25), np.percentile(v12_fraud, 75)\n",
        "v12_iqr = q75 - q25\n",
        "\n",
        "v12_cut_off = v12_iqr * 1.5\n",
        "v12_lower, v12_upper = q25 - v12_cut_off, q75 + v12_cut_off\n",
        "print('V12 Lower: {}'.format(v12_lower))\n",
        "print('V12 Upper: {}'.format(v12_upper))\n",
        "outliers = [x for x in v12_fraud if x < v12_lower or x > v12_upper]\n",
        "print('V12 outliers: {}'.format(outliers))\n",
        "print('Feature V12 Outliers for Fraud Cases: {}'.format(len(outliers)))\n",
        "new_df = new_df.drop(new_df[(new_df['V12'] > v12_upper) | (new_df['V12'] < v12_lower)].index)\n",
        "print('Number of Instances after outliers removal: {}'.format(len(new_df)))\n",
        "print('----' * 44)\n",
        "\n",
        "\n",
        "# Removing outliers V10 Feature\n",
        "v10_fraud = new_df['V10'].loc[new_df['Class'] == 1].values\n",
        "q25, q75 = np.percentile(v10_fraud, 25), np.percentile(v10_fraud, 75)\n",
        "v10_iqr = q75 - q25\n",
        "\n",
        "v10_cut_off = v10_iqr * 1.5\n",
        "v10_lower, v10_upper = q25 - v10_cut_off, q75 + v10_cut_off\n",
        "print('V10 Lower: {}'.format(v10_lower))\n",
        "print('V10 Upper: {}'.format(v10_upper))\n",
        "outliers = [x for x in v10_fraud if x < v10_lower or x > v10_upper]\n",
        "print('V10 outliers: {}'.format(outliers))\n",
        "print('Feature V10 Outliers for Fraud Cases: {}'.format(len(outliers)))\n",
        "new_df = new_df.drop(new_df[(new_df['V10'] > v10_upper) | (new_df['V10'] < v10_lower)].index)\n",
        "print('Number of Instances after outliers removal: {}'.format(len(new_df)))"
      ]
    },
    {
      "cell_type": "code",
      "execution_count": 142,
      "metadata": {
        "_cell_guid": "66e44398-7c91-4cce-9778-4512cb838973",
        "_kg_hide-input": true,
        "_uuid": "ac80d9cfb07f1865094a8d460ae801750e93d694",
        "id": "lgEvEe-sCWAL",
        "outputId": "8d08c52f-05ed-4e01-fb3a-264b44c13a3d",
        "colab": {
          "base_uri": "https://localhost:8080/",
          "height": 407
        }
      },
      "outputs": [
        {
          "output_type": "display_data",
          "data": {
            "text/plain": [
              "<Figure size 1440x432 with 3 Axes>"
            ],
            "image/png": "[encoded data removed]"
          },
          "metadata": {
            "needs_background": "light"
          }
        }
      ],
      "source": [
        "f,(ax1, ax2, ax3) = plt.subplots(1, 3, figsize=(20,6))\n",
        "\n",
        "colors = ['#B3F9C5', '#f9c5b3']\n",
        "# Boxplots with outliers removed\n",
        "# Feature V14\n",
        "sns.boxplot(x=\"Class\", y=\"V14\", data=new_df,ax=ax1, palette=colors)\n",
        "ax1.set_title(\"V14 Feature \\n Reduction of outliers\", fontsize=14)\n",
        "ax1.annotate('Fewer extreme \\n outliers', xy=(0.98, -17.5), xytext=(0, -12),\n",
        "            arrowprops=dict(facecolor='black'),\n",
        "            fontsize=14)\n",
        "\n",
        "# Feature 12\n",
        "sns.boxplot(x=\"Class\", y=\"V12\", data=new_df, ax=ax2, palette=colors)\n",
        "ax2.set_title(\"V12 Feature \\n Reduction of outliers\", fontsize=14)\n",
        "ax2.annotate('Fewer extreme \\n outliers', xy=(0.98, -17.3), xytext=(0, -12),\n",
        "            arrowprops=dict(facecolor='black'),\n",
        "            fontsize=14)\n",
        "\n",
        "# Feature V10\n",
        "sns.boxplot(x=\"Class\", y=\"V10\", data=new_df, ax=ax3, palette=colors)\n",
        "ax3.set_title(\"V10 Feature \\n Reduction of outliers\", fontsize=14)\n",
        "ax3.annotate('Fewer extreme \\n outliers', xy=(0.95, -16.5), xytext=(0, -12),\n",
        "            arrowprops=dict(facecolor='black'),\n",
        "            fontsize=14)\n",
        "\n",
        "\n",
        "plt.show()"
      ]
    },
    {
      "cell_type": "markdown",
      "metadata": {
        "_cell_guid": "cb2c480a-090a-4cfb-b12e-3b74c325826c",
        "_uuid": "1b63bfd92008043cc1a336f924c835e73792f6d8",
        "id": "ukQ8oHN2CWAP"
      },
      "source": [
        "<h2> Classifiers (UnderSampling):  </h2>\n",
        "<a id=\"classifiers\"></a>\n",
        "In this section we will train four types of classifiers and decide which classifier will be more effective in detecting <b>fraud transactions</b>.  Before we have to split our data into training and testing sets and separate the features from the labels.\n",
        "\n",
        "## Summary: \n",
        "<ul>\n",
        "<li> <b> Logistic Regression </b> classifier is more accurate than the other three classifiers in most cases. (We will further analyze Logistic Regression) </li>\n",
        "<li><b> GridSearchCV </b> is used to determine the paremeters that gives the best predictive score for the classifiers. </li>\n",
        "<li> Logistic Regression has the best Receiving Operating Characteristic score  (ROC), meaning that LogisticRegression pretty accurately separates <b> fraud </b> and <b> non-fraud </b> transactions.</li>\n",
        "</ul>\n",
        "\n",
        "## Learning Curves:\n",
        "<ul>\n",
        "<li>The <b>wider the  gap</b>  between the training score and the cross validation score, the more likely your model is <b>overfitting (high variance)</b>.</li>\n",
        "<li> If the score is low in both training and cross-validation sets</b> this is an indication that our model is <b>underfitting (high bias)</b></li>\n",
        "<li><b> Logistic Regression Classifier</b>  shows the best score in both training and cross-validating sets.</li>\n",
        "</ul>"
      ]
    },
    {
      "cell_type": "code",
      "execution_count": 143,
      "metadata": {
        "_cell_guid": "85ce8738-7599-4b06-a722-5c0ed073599b",
        "_kg_hide-input": true,
        "_uuid": "e3751d88766a982119e522e27a9c0c647f20af85",
        "id": "KykxXXbcCWAQ"
      },
      "outputs": [],
      "source": [
        "# Undersampling before cross validating (prone to overfit)\n",
        "X = new_df.drop('Class', axis=1)\n",
        "y = new_df['Class']"
      ]
    },
    {
      "cell_type": "code",
      "execution_count": 144,
      "metadata": {
        "_cell_guid": "288a65b7-8b86-44b1-973d-38dbcfe82bbb",
        "_kg_hide-input": true,
        "_uuid": "fb0a479efaa7147d6702c2c24083f1118621863f",
        "id": "mT4hsvu9CWAR"
      },
      "outputs": [],
      "source": [
        "# Our data is already scaled we should split our training and test sets\n",
        "from sklearn.model_selection import train_test_split\n",
        "\n",
        "# This is explicitly used for undersampling.\n",
        "X_train, X_test, y_train, y_test = train_test_split(X, y, test_size=0.2, random_state=42)"
      ]
    },
    {
      "cell_type": "code",
      "execution_count": 145,
      "metadata": {
        "_cell_guid": "bccd5685-a979-451e-85b3-1cb968523540",
        "_kg_hide-input": true,
        "_uuid": "28f5178089d2d133b9e7478c1c7dc7a1f98aabee",
        "id": "PwO1JvPrCWAR"
      },
      "outputs": [],
      "source": [
        "# Turn the values into an array for feeding the classification algorithms.\n",
        "X_train = X_train.values\n",
        "X_test = X_test.values\n",
        "y_train = y_train.values\n",
        "y_test = y_test.values"
      ]
    },
    {
      "cell_type": "code",
      "execution_count": 146,
      "metadata": {
        "_cell_guid": "7810d0b9-b4e5-4b7f-909b-c127365b167c",
        "_kg_hide-input": true,
        "_uuid": "8dd4ea07fd60973fccabc2d46af28a09b0de9178",
        "id": "vuXeXr00CWAS"
      },
      "outputs": [],
      "source": [
        "# Let's implement simple classifiers\n",
        "\n",
        "classifiers = {\n",
        "    \"LogisiticRegression\": LogisticRegression(),\n",
        "    \"KNearest\": KNeighborsClassifier(),\n",
        "    \"Support Vector Classifier\": SVC(),\n",
        "    \"DecisionTreeClassifier\": DecisionTreeClassifier()\n",
        "}"
      ]
    },
    {
      "cell_type": "code",
      "execution_count": 147,
      "metadata": {
        "_cell_guid": "eb37c0f6-9cfe-48b6-92d3-475d5e6767a6",
        "_kg_hide-input": true,
        "_uuid": "fe129af379caccc5428cf1836e6c96bd32e68feb",
        "id": "N5zKiwu1CWAT",
        "outputId": "e1cbc028-cc5b-4a08-b46e-708fd2337978",
        "colab": {
          "base_uri": "https://localhost:8080/"
        }
      },
      "outputs": [
        {
          "output_type": "stream",
          "name": "stdout",
          "text": [
            "Classifiers:  LogisticRegression Has a training score of 94.0 % accuracy score\n",
            "Classifiers:  KNeighborsClassifier Has a training score of 93.0 % accuracy score\n",
            "Classifiers:  SVC Has a training score of 94.0 % accuracy score\n",
            "Classifiers:  DecisionTreeClassifier Has a training score of 90.0 % accuracy score\n"
          ]
        }
      ],
      "source": [
        "# Wow our scores are getting even high scores even when applying cross validation.\n",
        "from sklearn.model_selection import cross_val_score\n",
        "\n",
        "\n",
        "for key, classifier in classifiers.items():\n",
        "    classifier.fit(X_train, y_train)\n",
        "    training_score = cross_val_score(classifier, X_train, y_train, cv=5)\n",
        "    print(\"Classifiers: \", classifier.__class__.__name__, \"Has a training score of\", round(training_score.mean(), 2) * 100, \"% accuracy score\")"
      ]
    },
    {
      "cell_type": "code",
      "execution_count": 148,
      "metadata": {
        "_cell_guid": "a1c35773-f4c7-4caf-9911-532784c9eae0",
        "_kg_hide-input": true,
        "_uuid": "d15b1ab16737358806e34c48dc57aa238cf0cfd2",
        "id": "78wlwH6cCWAU"
      },
      "outputs": [],
      "source": [
        "# Use GridSearchCV to find the best parameters.\n",
        "from sklearn.model_selection import GridSearchCV\n",
        "\n",
        "\n",
        "# Logistic Regression \n",
        "log_reg_params = {\"penalty\": ['l1', 'l2'], 'C': [0.001, 0.01, 0.1, 1, 10, 100, 1000]}\n",
        "\n",
        "\n",
        "\n",
        "grid_log_reg = GridSearchCV(LogisticRegression(), log_reg_params)\n",
        "grid_log_reg.fit(X_train, y_train)\n",
        "# We automatically get the logistic regression with the best parameters.\n",
        "log_reg = grid_log_reg.best_estimator_\n",
        "\n",
        "knears_params = {\"n_neighbors\": list(range(2,5,1)), 'algorithm': ['auto', 'ball_tree', 'kd_tree', 'brute']}\n",
        "\n",
        "grid_knears = GridSearchCV(KNeighborsClassifier(), knears_params)\n",
        "grid_knears.fit(X_train, y_train)\n",
        "# KNears best estimator\n",
        "knears_neighbors = grid_knears.best_estimator_\n",
        "\n",
        "# Support Vector Classifier\n",
        "svc_params = {'C': [0.5, 0.7, 0.9, 1], 'kernel': ['rbf', 'poly', 'sigmoid', 'linear']}\n",
        "grid_svc = GridSearchCV(SVC(), svc_params)\n",
        "grid_svc.fit(X_train, y_train)\n",
        "\n",
        "# SVC best estimator\n",
        "svc = grid_svc.best_estimator_\n",
        "\n",
        "# DecisionTree Classifier\n",
        "tree_params = {\"criterion\": [\"gini\", \"entropy\"], \"max_depth\": list(range(2,4,1)), \n",
        "              \"min_samples_leaf\": list(range(5,7,1))}\n",
        "grid_tree = GridSearchCV(DecisionTreeClassifier(), tree_params)\n",
        "grid_tree.fit(X_train, y_train)\n",
        "\n",
        "# tree best estimator\n",
        "tree_clf = grid_tree.best_estimator_"
      ]
    },
    {
      "cell_type": "code",
      "execution_count": 149,
      "metadata": {
        "_cell_guid": "7f327bcd-335f-4e49-af07-fc4214dbcbdc",
        "_kg_hide-input": true,
        "_uuid": "1b2108bf377b924ed8a6efe580d9e162a132cd9e",
        "id": "9F6mXBERCWAV",
        "outputId": "80115707-5a49-4475-cf57-5d62d8b621d0",
        "colab": {
          "base_uri": "https://localhost:8080/"
        }
      },
      "outputs": [
        {
          "output_type": "stream",
          "name": "stdout",
          "text": [
            "Logistic Regression Cross Validation Score:  94.31%\n",
            "Knears Neighbors Cross Validation Score 93.33%\n",
            "Support Vector Classifier Cross Validation Score 94.03%\n",
            "DecisionTree Classifier Cross Validation Score 91.81%\n"
          ]
        }
      ],
      "source": [
        "# Overfitting Case\n",
        "\n",
        "log_reg_score = cross_val_score(log_reg, X_train, y_train, cv=5)\n",
        "print('Logistic Regression Cross Validation Score: ', round(log_reg_score.mean() * 100, 2).astype(str) + '%')\n",
        "\n",
        "\n",
        "knears_score = cross_val_score(knears_neighbors, X_train, y_train, cv=5)\n",
        "print('Knears Neighbors Cross Validation Score', round(knears_score.mean() * 100, 2).astype(str) + '%')\n",
        "\n",
        "svc_score = cross_val_score(svc, X_train, y_train, cv=5)\n",
        "print('Support Vector Classifier Cross Validation Score', round(svc_score.mean() * 100, 2).astype(str) + '%')\n",
        "\n",
        "tree_score = cross_val_score(tree_clf, X_train, y_train, cv=5)\n",
        "print('DecisionTree Classifier Cross Validation Score', round(tree_score.mean() * 100, 2).astype(str) + '%')"
      ]
    },
    {
      "cell_type": "code",
      "execution_count": 150,
      "metadata": {
        "_cell_guid": "780e485a-ea64-48a0-ad97-a7516b047f32",
        "_kg_hide-input": true,
        "_uuid": "fdd59bf2c7a8e61cfb401142570643e8a29cf86b",
        "id": "AV2eR0QYCWAZ"
      },
      "outputs": [],
      "source": [
        "from sklearn.metrics import roc_curve\n",
        "from sklearn.model_selection import cross_val_predict\n",
        "# Create a DataFrame with all the scores and the classifiers names.\n",
        "\n",
        "log_reg_pred = cross_val_predict(log_reg, X_train, y_train, cv=5,\n",
        "                             method=\"decision_function\")\n",
        "\n",
        "knears_pred = cross_val_predict(knears_neighbors, X_train, y_train, cv=5)\n",
        "\n",
        "svc_pred = cross_val_predict(svc, X_train, y_train, cv=5,\n",
        "                             method=\"decision_function\")\n",
        "\n",
        "tree_pred = cross_val_predict(tree_clf, X_train, y_train, cv=5)"
      ]
    },
    {
      "cell_type": "code",
      "execution_count": 151,
      "metadata": {
        "_cell_guid": "57c211c6-e88f-4634-b321-4949df08815d",
        "_kg_hide-input": true,
        "_uuid": "cb2e4715e91e36f2029ef2a5c241991ff162cd9f",
        "id": "SomAzbGoCWAa",
        "outputId": "cb57dbfb-1573-450c-9f5f-7b06ba79efcb",
        "colab": {
          "base_uri": "https://localhost:8080/"
        }
      },
      "outputs": [
        {
          "output_type": "stream",
          "name": "stdout",
          "text": [
            "Logistic Regression:  0.9800812251984127\n",
            "KNears Neighbors:  0.929873511904762\n",
            "Support Vector Classifier:  0.9810267857142857\n",
            "Decision Tree Classifier:  0.9155505952380952\n"
          ]
        }
      ],
      "source": [
        "from sklearn.metrics import roc_auc_score\n",
        "\n",
        "print('Logistic Regression: ', roc_auc_score(y_train, log_reg_pred))\n",
        "print('KNears Neighbors: ', roc_auc_score(y_train, knears_pred))\n",
        "print('Support Vector Classifier: ', roc_auc_score(y_train, svc_pred))\n",
        "print('Decision Tree Classifier: ', roc_auc_score(y_train, tree_pred))"
      ]
    },
    {
      "cell_type": "code",
      "execution_count": 152,
      "metadata": {
        "_cell_guid": "89b0b9b6-ef82-4b69-9517-e89a79696dbb",
        "_kg_hide-input": true,
        "_uuid": "9d57aad23f3f72f3c45bf80b089a65acbce2a9ab",
        "id": "UzX8LsnDCWAb",
        "outputId": "763824ce-7350-48e2-8747-872d191701aa",
        "colab": {
          "base_uri": "https://localhost:8080/",
          "height": 543
        }
      },
      "outputs": [
        {
          "output_type": "display_data",
          "data": {
            "text/plain": [
              "<Figure size 1152x576 with 1 Axes>"
            ],
            "image/png": "[encoded data removed]"
          },
          "metadata": {
            "needs_background": "light"
          }
        }
      ],
      "source": [
        "log_fpr, log_tpr, log_thresold = roc_curve(y_train, log_reg_pred)\n",
        "knear_fpr, knear_tpr, knear_threshold = roc_curve(y_train, knears_pred)\n",
        "svc_fpr, svc_tpr, svc_threshold = roc_curve(y_train, svc_pred)\n",
        "tree_fpr, tree_tpr, tree_threshold = roc_curve(y_train, tree_pred)\n",
        "\n",
        "\n",
        "def graph_roc_curve_multiple(log_fpr, log_tpr, knear_fpr, knear_tpr, svc_fpr, svc_tpr, tree_fpr, tree_tpr):\n",
        "    plt.figure(figsize=(16,8))\n",
        "    plt.title('ROC Curve \\n Top 4 Classifiers', fontsize=18)\n",
        "    plt.plot(log_fpr, log_tpr, label='Logistic Regression Classifier Score: {:.4f}'.format(roc_auc_score(y_train, log_reg_pred)))\n",
        "    plt.plot(knear_fpr, knear_tpr, label='KNears Neighbors Classifier Score: {:.4f}'.format(roc_auc_score(y_train, knears_pred)))\n",
        "    plt.plot(svc_fpr, svc_tpr, label='Support Vector Classifier Score: {:.4f}'.format(roc_auc_score(y_train, svc_pred)))\n",
        "    plt.plot(tree_fpr, tree_tpr, label='Decision Tree Classifier Score: {:.4f}'.format(roc_auc_score(y_train, tree_pred)))\n",
        "    plt.plot([0, 1], [0, 1], 'k--')\n",
        "    plt.axis([-0.01, 1, 0, 1])\n",
        "    plt.xlabel('False Positive Rate', fontsize=16)\n",
        "    plt.ylabel('True Positive Rate', fontsize=16)\n",
        "    plt.annotate('Minimum ROC Score of 50% \\n (This is the minimum score to get)', xy=(0.5, 0.5), xytext=(0.6, 0.3),\n",
        "                arrowprops=dict(facecolor='#6E726D', shrink=0.05),\n",
        "                )\n",
        "    plt.legend()\n",
        "    \n",
        "graph_roc_curve_multiple(log_fpr, log_tpr, knear_fpr, knear_tpr, svc_fpr, svc_tpr, tree_fpr, tree_tpr)\n",
        "plt.show()"
      ]
    },
    {
      "cell_type": "markdown",
      "metadata": {
        "_cell_guid": "f56e6936-314c-42d4-8ea2-0cb2386ad382",
        "_uuid": "d6e62d64e9d9aa70223576a1df91a008aa6c2664",
        "id": "ALlCdXttCWAb"
      },
      "source": [
        "## A Deeper Look into LogisticRegression:\n",
        "<a id=\"logistic\"></a>\n",
        "In this section we will ive a deeper look into the <b> logistic regression classifier</b>.\n",
        "\n",
        "\n",
        "### Terms:\n",
        "<ul>\n",
        "<li><b>True Positives:</b> Correctly Classified Fraud Transactions </li>\n",
        "<li><b>False Positives:</b> Incorrectly Classified Fraud Transactions</li>\n",
        "<li> <b>True Negative:</b> Correctly Classified Non-Fraud Transactions</li>\n",
        "<li> <b>False Negative:</b> Incorrectly Classified Non-Fraud Transactions</li>\n",
        "<li><b>Precision: </b>  True Positives/(True Positives + False Positives)  </li>\n",
        "<li><b> Recall: </b> True Positives/(True Positives + False Negatives)   </li>\n",
        "<li> Precision as the name says, says how precise (how sure) is our model in detecting fraud transactions while recall is the amount of fraud cases our model is able to detect.</li>\n",
        "<li><b>Precision/Recall Tradeoff: </b> The more precise (selective) our model is, the less cases it will detect. Example: Assuming that our model has a precision of 95%, Let's say there are only 5 fraud cases in which the model is 95% precise or more that these are fraud cases. Then let's say there are 5 more cases that our model considers 90% to be a fraud case, if we lower the precision there are more cases that our model will be able to detect. </li>\n",
        "</ul>\n",
        "\n",
        "### Summary:\n",
        "<ul>\n",
        "<li> <b>Precision starts to descend</b> between 0.90 and 0.92 nevertheless, our precision score is still pretty high and still we have a descent recall score. </li>\n",
        "\n",
        "</ul>"
      ]
    },
    {
      "cell_type": "code",
      "execution_count": 153,
      "metadata": {
        "_cell_guid": "b4eaea18-ec79-4cb2-9a92-8d70a7f593bf",
        "_kg_hide-input": true,
        "_uuid": "0daaa7137ab61d6fd88e5fcc0849acc94c693df0",
        "id": "w-O0DCjGCWAc",
        "outputId": "7c3ab7f8-3fcd-4b1f-82de-ece57f345024",
        "colab": {
          "base_uri": "https://localhost:8080/",
          "height": 520
        }
      },
      "outputs": [
        {
          "output_type": "display_data",
          "data": {
            "text/plain": [
              "<Figure size 864x576 with 1 Axes>"
            ],
            "image/png": "[encoded data removed]"
          },
          "metadata": {
            "needs_background": "light"
          }
        }
      ],
      "source": [
        "def logistic_roc_curve(log_fpr, log_tpr):\n",
        "    plt.figure(figsize=(12,8))\n",
        "    plt.title('Logistic Regression & Support Vector Classifier ROC Curve', fontsize=16)\n",
        "    plt.plot(log_fpr, log_tpr,'b-', linewidth=2, label='Logistic Regression Classifier Score: {:.4f}'.format(roc_auc_score(y_train, log_reg_pred)))\n",
        "    plt.plot(svc_fpr, svc_tpr, 'r-', linewidth=2, label='Support Vector Classifier Score: {:.4f}'.format(roc_auc_score(y_train, svc_pred)))\n",
        "    plt.plot([0, 1], [0, 1], 'p--')\n",
        "    plt.xlabel('False Positive Rate', fontsize=16)\n",
        "    plt.ylabel('True Positive Rate', fontsize=16)\n",
        "    plt.axis([-0.01,1,0,1])\n",
        "    \n",
        "    \n",
        "logistic_roc_curve(log_fpr, log_tpr)\n",
        "plt.show()"
      ]
    },
    {
      "cell_type": "markdown",
      "metadata": {
        "_cell_guid": "a250e819-cdd4-43f5-b0a4-eb8f232199a0",
        "_uuid": "feb07b601c9ec79be1fe96cbbadf4ac838f7f7a8",
        "id": "UgKSrVL7CWAn"
      },
      "source": [
        "# Test Data with Logistic Regression:\n",
        "<a id=\"testing_logistic\"></a>\n",
        "## Confusion Matrix:\n",
        "**Positive/Negative:** Type of Class (label) [\"No\", \"Yes\"]\n",
        "**True/False:** Correctly or Incorrectly classified by the model.<br><br>\n",
        "\n",
        "**True Negatives (Top-Left Square):** This is the number of **correctly** classifications of the \"No\" (No Fraud Detected) class. <br><br>\n",
        "\n",
        "**False Negatives (Top-Right Square):** This is the number of **incorrectly** classifications of the \"No\"(No Fraud Detected) class. <br><br>\n",
        "\n",
        "**False Positives (Bottom-Left Square):** This is the number of **incorrectly** classifications of the \"Yes\" (Fraud Detected) class <br><br>\n",
        "\n",
        "**True Positives (Bottom-Right Square):** This is the number of **correctly** classifications of the \"Yes\" (Fraud Detected) class.\n",
        "\n",
        "\n",
        "\n",
        "<li> <b>Classification Models: </b> The models that performed the best were <b>logistic regression </b> and <b>support vector classifier (SVM)</b>  </li>\n",
        "</ul>"
      ]
    },
    {
      "cell_type": "markdown",
      "source": [
        "### Testing the Model"
      ],
      "metadata": {
        "id": "Bz40T_JC2efC"
      }
    },
    {
      "cell_type": "code",
      "source": [
        "from sklearn.metrics import confusion_matrix\n",
        "\n",
        "\n",
        "y_pred_log_reg = log_reg.predict(X_test)\n",
        "y_pred_knear = knears_neighbors.predict(X_test)\n",
        "y_pred_svc = svc.predict(X_test)\n",
        "y_pred_tree = tree_clf.predict(X_test)\n",
        "\n",
        "\n",
        "log_reg_cf = confusion_matrix(y_test, y_pred_log_reg)\n",
        "kneighbors_cf = confusion_matrix(y_test, y_pred_knear)\n",
        "svc_cf = confusion_matrix(y_test, y_pred_svc)\n",
        "tree_cf = confusion_matrix(y_test, y_pred_tree)\n",
        "\n",
        "fig, ax = plt.subplots(2, 2,figsize=(22,12))\n",
        "\n",
        "\n",
        "sns.heatmap(log_reg_cf, ax=ax[0][0], annot=True, cmap=plt.cm.copper)\n",
        "ax[0, 0].set_title(\"Logistic Regression \\n Confusion Matrix\", fontsize=14)\n",
        "ax[0, 0].set_xticklabels(['', ''], fontsize=14, rotation=90)\n",
        "ax[0, 0].set_yticklabels(['', ''], fontsize=14, rotation=360)\n",
        "\n",
        "sns.heatmap(kneighbors_cf, ax=ax[0][1], annot=True, cmap=plt.cm.copper)\n",
        "ax[0][1].set_title(\"KNearsNeighbors \\n Confusion Matrix\", fontsize=14)\n",
        "ax[0][1].set_xticklabels(['', ''], fontsize=14, rotation=90)\n",
        "ax[0][1].set_yticklabels(['', ''], fontsize=14, rotation=360)\n",
        "\n",
        "sns.heatmap(svc_cf, ax=ax[1][0], annot=True, cmap=plt.cm.copper)\n",
        "ax[1][0].set_title(\"Suppor Vector Classifier \\n Confusion Matrix\", fontsize=14)\n",
        "ax[1][0].set_xticklabels(['', ''], fontsize=14, rotation=90)\n",
        "ax[1][0].set_yticklabels(['', ''], fontsize=14, rotation=360)\n",
        "\n",
        "sns.heatmap(tree_cf, ax=ax[1][1], annot=True, cmap=plt.cm.copper)\n",
        "ax[1][1].set_title(\"DecisionTree Classifier \\n Confusion Matrix\", fontsize=14)\n",
        "ax[1][1].set_xticklabels(['', ''], fontsize=14, rotation=90)\n",
        "ax[1][1].set_yticklabels(['', ''], fontsize=14, rotation=360)\n",
        "\n",
        "\n",
        "plt.show()"
      ],
      "metadata": {
        "colab": {
          "base_uri": "https://localhost:8080/",
          "height": 670
        },
        "id": "-DEK3ojKDZy3",
        "outputId": "ed7889e1-7f3d-472a-d6f5-3a99b6681f09"
      },
      "execution_count": 154,
      "outputs": [
        {
          "output_type": "display_data",
          "data": {
            "text/plain": [
              "<Figure size 1584x864 with 8 Axes>"
            ],
            "image/png": "[encoded data removed]"
          },
          "metadata": {
            "needs_background": "light"
          }
        }
      ]
    },
    {
      "cell_type": "code",
      "source": [
        "print('Logistic Regression:')\n",
        "print(classification_report(y_test, y_pred_log_reg))\n",
        "\n",
        "print('KNears Neighbors:')\n",
        "print(classification_report(y_test, y_pred_knear))\n",
        "\n",
        "print('Support Vector Classifier:')\n",
        "print(classification_report(y_test, y_pred_svc))\n",
        "\n",
        "print('Support Vector Classifier:')\n",
        "print(classification_report(y_test, y_pred_tree))"
      ],
      "metadata": {
        "colab": {
          "base_uri": "https://localhost:8080/"
        },
        "id": "k3_Yox02w7kU",
        "outputId": "cc721f5b-2cae-43bc-d422-c5f920a7d520"
      },
      "execution_count": 155,
      "outputs": [
        {
          "output_type": "stream",
          "name": "stdout",
          "text": [
            "Logistic Regression:\n",
            "              precision    recall  f1-score   support\n",
            "\n",
            "           0       0.88      0.95      0.92        86\n",
            "           1       0.95      0.88      0.92        94\n",
            "\n",
            "    accuracy                           0.92       180\n",
            "   macro avg       0.92      0.92      0.92       180\n",
            "weighted avg       0.92      0.92      0.92       180\n",
            "\n",
            "KNears Neighbors:\n",
            "              precision    recall  f1-score   support\n",
            "\n",
            "           0       0.88      0.99      0.93        86\n",
            "           1       0.99      0.87      0.93        94\n",
            "\n",
            "    accuracy                           0.93       180\n",
            "   macro avg       0.93      0.93      0.93       180\n",
            "weighted avg       0.93      0.93      0.93       180\n",
            "\n",
            "Support Vector Classifier:\n",
            "              precision    recall  f1-score   support\n",
            "\n",
            "           0       0.87      0.93      0.90        86\n",
            "           1       0.93      0.87      0.90        94\n",
            "\n",
            "    accuracy                           0.90       180\n",
            "   macro avg       0.90      0.90      0.90       180\n",
            "weighted avg       0.90      0.90      0.90       180\n",
            "\n",
            "Support Vector Classifier:\n",
            "              precision    recall  f1-score   support\n",
            "\n",
            "           0       0.86      0.91      0.88        86\n",
            "           1       0.91      0.86      0.89        94\n",
            "\n",
            "    accuracy                           0.88       180\n",
            "   macro avg       0.88      0.88      0.88       180\n",
            "weighted avg       0.88      0.88      0.88       180\n",
            "\n"
          ]
        }
      ]
    },
    {
      "cell_type": "code",
      "source": [
        "import pickle"
      ],
      "metadata": {
        "id": "svY7HkqmslJj"
      },
      "execution_count": 156,
      "outputs": []
    },
    {
      "cell_type": "code",
      "source": [
        "logistic_regression = pickle.dump(log_reg, open('logistic_regression_model', 'wb'))"
      ],
      "metadata": {
        "id": "OxNmNcQLsnvh"
      },
      "execution_count": 157,
      "outputs": []
    },
    {
      "cell_type": "code",
      "source": [
        "support_vector_classifier = pickle.dump(svc, open('svc_model', 'wb'))"
      ],
      "metadata": {
        "id": "Bxj5VOrt2UVS"
      },
      "execution_count": 158,
      "outputs": []
    },
    {
      "cell_type": "code",
      "source": [],
      "metadata": {
        "id": "TYc8wdepmjqH"
      },
      "execution_count": 166,
      "outputs": []
    }
  ],
  "metadata": {
    "kernelspec": {
      "display_name": "Python 3",
      "language": "python",
      "name": "python3"
    },
    "language_info": {
      "codemirror_mode": {
        "name": "ipython",
        "version": 3
      },
      "file_extension": ".py",
      "mimetype": "text/x-python",
      "name": "python",
      "nbconvert_exporter": "python",
      "pygments_lexer": "ipython3",
      "version": "3.6.6"
    },
    "colab": {
      "provenance": [],
      "collapsed_sections": [],
      "include_colab_link": true
    }
  },
  "nbformat": 4,
  "nbformat_minor": 0
}