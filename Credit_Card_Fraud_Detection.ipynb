{
  "cells": [
    {
      "cell_type": "markdown",
      "metadata": {
        "id": "view-in-github",
        "colab_type": "text"
      },
      "source": [
        "<a href=\"https://colab.research.google.com/github/keshari112k/Credit-Card-Fraud-Detection/blob/main/Credit_Card_Fraud_Detection.ipynb\" target=\"_parent\"><img src=\"https://colab.research.google.com/assets/colab-badge.svg\" alt=\"Open In Colab\"/></a>"
      ]
    },
    {
      "cell_type": "markdown",
      "source": [
        "**Name : Shivam Kesharwani**\n",
        "\n",
        "**College : National Institute of Technology Karnataka Surathkal**\n",
        "\n",
        "**Project Type : Self Project**"
      ],
      "metadata": {
        "id": "w2X4amqY_27e"
      }
    },
    {
      "cell_type": "markdown",
      "metadata": {
        "_cell_guid": "3689760c-41f8-4a33-9c96-3fd17803950e",
        "_uuid": "3e0ad409d438c7c68ea6a76700a1e964a357453f",
        "id": "2I1S0KzwCV-5"
      },
      "source": [
        "<h1 align=\"center\"> Credit Fraud Detector </h1>\n",
        "\n",
        "\n",
        "<h2> Introduction </h2>\n",
        "Building predictive models to see how accurate they  are in detecting whether a transaction is a normal payment or a fraud. The features are scaled and the names of the features are not shown due to privacy reasons in the dataset. \n",
        "\n",
        "\n",
        "<h2> Goals: </h2>\n",
        "<ul>\n",
        "<li> Understanding the little distribution of the \"little\" data that was provided to us. </li>\n",
        "<li> Creating a 50/50 sub-dataframe ratio of \"Fraud\" and \"Non-Fraud\" transactions. </li>\n",
        "<li> Determining the Classifiers we are going to use and decide which one has a higher accuracy. </li>\n",
        "\n",
        "\n",
        "<h2> Outline: </h2>\n",
        "I. <b>Understanding our data</b><br>\n",
        "a) Gathering Sense of our data<br><br>\n",
        "\n",
        "II. <b>Preprocessing</b><br>\n",
        "a) Scaling and Distributing<br>\n",
        "b) Splitting the Data<br><br>\n",
        "\n",
        "III. <b>Random UnderSampling</b><br>\n",
        "a) Distributing and Correlating<br>\n",
        "b) Anomaly Detection<br>\n",
        "c) Classifiers<br>\n",
        "d) A Deeper Look into Logistic Regression<br>\n",
        "e) Testing model\n",
        "\n",
        "\n",
        "\n",
        "\n",
        "\n",
        "\n"
      ]
    },
    {
      "cell_type": "markdown",
      "metadata": {
        "_cell_guid": "ae8dd7f3-80a7-4db9-a132-823b0e48c041",
        "_uuid": "c999e5f1ac81513263d83883008f2844209e9e07",
        "id": "XTZ_jR9pCV_Q"
      },
      "source": [
        "## Gather Sense of Our Data:\n",
        "<a id=\"gather\"></a>\n",
        "Except for the <b>transaction</b> and <b>amount</b> we dont know what the other columns are (due to privacy reasons). The only thing we know, is that those columns that are unknown have been scaled already.   \n",
        "\n",
        "<h3> Summary: </h3>\n",
        "<ul>\n",
        "<li>The transaction amount is relatively <b>small</b>. The mean of all the mounts made is approximately USD 88. </li>\n",
        "<li>There are no <b>\"Null\"</b> values, so we don't have to work on ways to replace values. </li>\n",
        "<li> Most of the transactions were <b>Non-Fraud</b> (99.83%) of the time, while <b>Fraud</b> transactions occurs (0.17%) of the time in the dataframe. </li>\n",
        "</ul>\n",
        "\n",
        "<h3> Feature Technicalities: </h3>\n",
        "<ul>\n",
        "<li> <b>PCA Transformation: </b>  The description of the data says that all the features went through a PCA transformation (Dimensionality Reduction technique) (Except for time and amount).</li>\n",
        "<li> <b>Scaling:</b> Keep in mind that in order to implement a PCA transformation, features need to be previously scaled. </li>\n",
        "</ul>"
      ]
    },
    {
      "cell_type": "code",
      "execution_count": null,
      "metadata": {
        "_cell_guid": "b1076dfc-b9ad-4769-8c92-a6c4dae69d19",
        "_uuid": "8f2839f25d086af736a60e9eeb907d3b93b6e0e5",
        "id": "x_wNxNgYCV_U"
      },
      "outputs": [],
      "source": [
        "\n",
        "# Imported Libraries\n",
        "\n",
        "import numpy as np # linear algebra\n",
        "import pandas as pd # data processing, CSV file I/O (e.g. pd.read_csv)\n",
        "#import tensorflow as tf\n",
        "import matplotlib.pyplot as plt\n",
        "import seaborn as sns\n",
        "import matplotlib.patches as mpatches\n",
        "import time\n",
        "\n",
        "# Classifier Libraries\n",
        "from sklearn.linear_model import LogisticRegression\n",
        "from sklearn.svm import SVC\n",
        "from sklearn.neighbors import KNeighborsClassifier\n",
        "from sklearn.tree import DecisionTreeClassifier\n",
        "from sklearn.ensemble import RandomForestClassifier\n",
        "\n",
        "\n",
        "# Other Libraries\n",
        "from sklearn.model_selection import train_test_split\n",
        "from imblearn.metrics import classification_report_imbalanced\n",
        "from sklearn.metrics import precision_score, recall_score, f1_score, roc_auc_score, accuracy_score, classification_report\n",
        "\n",
        "import warnings\n",
        "warnings.filterwarnings(\"ignore\")"
      ]
    },
    {
      "cell_type": "code",
      "source": [
        "from google.colab import drive\n",
        "drive.mount('/content/drive')"
      ],
      "metadata": {
        "id": "t0-V6btt2sUn",
        "colab": {
          "base_uri": "https://localhost:8080/"
        },
        "outputId": "1399c052-d73b-44b1-a92c-720940ed2279"
      },
      "execution_count": null,
      "outputs": [
        {
          "output_type": "stream",
          "name": "stdout",
          "text": [
            "Drive already mounted at /content/drive; to attempt to forcibly remount, call drive.mount(\"/content/drive\", force_remount=True).\n"
          ]
        }
      ]
    },
    {
      "cell_type": "code",
      "source": [
        "df = pd.read_csv('/content/drive/MyDrive/ Data Science Projects/creditcard.csv')\n",
        "# df = pd.read_csv('/content/drive/MyDrive/credit/creditcard.csv')\n",
        "df.head()"
      ],
      "metadata": {
        "id": "B2j8HWvG2nHN",
        "colab": {
          "base_uri": "https://localhost:8080/",
          "height": 299
        },
        "outputId": "55226d09-aa43-4731-ba79-547d7c93e793"
      },
      "execution_count": null,
      "outputs": [
        {
          "output_type": "execute_result",
          "data": {
            "text/plain": [
              "   Time        V1        V2        V3        V4        V5        V6        V7  \\\n",
              "0   0.0 -1.359807 -0.072781  2.536347  1.378155 -0.338321  0.462388  0.239599   \n",
              "1   0.0  1.191857  0.266151  0.166480  0.448154  0.060018 -0.082361 -0.078803   \n",
              "2   1.0 -1.358354 -1.340163  1.773209  0.379780 -0.503198  1.800499  0.791461   \n",
              "3   1.0 -0.966272 -0.185226  1.792993 -0.863291 -0.010309  1.247203  0.237609   \n",
              "4   2.0 -1.158233  0.877737  1.548718  0.403034 -0.407193  0.095921  0.592941   \n",
              "\n",
              "         V8        V9  ...       V21       V22       V23       V24       V25  \\\n",
              "0  0.098698  0.363787  ... -0.018307  0.277838 -0.110474  0.066928  0.128539   \n",
              "1  0.085102 -0.255425  ... -0.225775 -0.638672  0.101288 -0.339846  0.167170   \n",
              "2  0.247676 -1.514654  ...  0.247998  0.771679  0.909412 -0.689281 -0.327642   \n",
              "3  0.377436 -1.387024  ... -0.108300  0.005274 -0.190321 -1.175575  0.647376   \n",
              "4 -0.270533  0.817739  ... -0.009431  0.798278 -0.137458  0.141267 -0.206010   \n",
              "\n",
              "        V26       V27       V28  Amount  Class  \n",
              "0 -0.189115  0.133558 -0.021053  149.62      0  \n",
              "1  0.125895 -0.008983  0.014724    2.69      0  \n",
              "2 -0.139097 -0.055353 -0.059752  378.66      0  \n",
              "3 -0.221929  0.062723  0.061458  123.50      0  \n",
              "4  0.502292  0.219422  0.215153   69.99      0  \n",
              "\n",
              "[5 rows x 31 columns]"
            ],
            "text/html": [
              "\n",
              "  <div id=\"df-03c28c89-7ef2-40c8-aa68-6962b0d9c26c\">\n",
              "    <div class=\"colab-df-container\">\n",
              "      <div>\n",
              "<style scoped>\n",
              "    .dataframe tbody tr th:only-of-type {\n",
              "        vertical-align: middle;\n",
              "    }\n",
              "\n",
              "    .dataframe tbody tr th {\n",
              "        vertical-align: top;\n",
              "    }\n",
              "\n",
              "    .dataframe thead th {\n",
              "        text-align: right;\n",
              "    }\n",
              "</style>\n",
              "<table border=\"1\" class=\"dataframe\">\n",
              "  <thead>\n",
              "    <tr style=\"text-align: right;\">\n",
              "      <th></th>\n",
              "      <th>Time</th>\n",
              "      <th>V1</th>\n",
              "      <th>V2</th>\n",
              "      <th>V3</th>\n",
              "      <th>V4</th>\n",
              "      <th>V5</th>\n",
              "      <th>V6</th>\n",
              "      <th>V7</th>\n",
              "      <th>V8</th>\n",
              "      <th>V9</th>\n",
              "      <th>...</th>\n",
              "      <th>V21</th>\n",
              "      <th>V22</th>\n",
              "      <th>V23</th>\n",
              "      <th>V24</th>\n",
              "      <th>V25</th>\n",
              "      <th>V26</th>\n",
              "      <th>V27</th>\n",
              "      <th>V28</th>\n",
              "      <th>Amount</th>\n",
              "      <th>Class</th>\n",
              "    </tr>\n",
              "  </thead>\n",
              "  <tbody>\n",
              "    <tr>\n",
              "      <th>0</th>\n",
              "      <td>0.0</td>\n",
              "      <td>-1.359807</td>\n",
              "      <td>-0.072781</td>\n",
              "      <td>2.536347</td>\n",
              "      <td>1.378155</td>\n",
              "      <td>-0.338321</td>\n",
              "      <td>0.462388</td>\n",
              "      <td>0.239599</td>\n",
              "      <td>0.098698</td>\n",
              "      <td>0.363787</td>\n",
              "      <td>...</td>\n",
              "      <td>-0.018307</td>\n",
              "      <td>0.277838</td>\n",
              "      <td>-0.110474</td>\n",
              "      <td>0.066928</td>\n",
              "      <td>0.128539</td>\n",
              "      <td>-0.189115</td>\n",
              "      <td>0.133558</td>\n",
              "      <td>-0.021053</td>\n",
              "      <td>149.62</td>\n",
              "      <td>0</td>\n",
              "    </tr>\n",
              "    <tr>\n",
              "      <th>1</th>\n",
              "      <td>0.0</td>\n",
              "      <td>1.191857</td>\n",
              "      <td>0.266151</td>\n",
              "      <td>0.166480</td>\n",
              "      <td>0.448154</td>\n",
              "      <td>0.060018</td>\n",
              "      <td>-0.082361</td>\n",
              "      <td>-0.078803</td>\n",
              "      <td>0.085102</td>\n",
              "      <td>-0.255425</td>\n",
              "      <td>...</td>\n",
              "      <td>-0.225775</td>\n",
              "      <td>-0.638672</td>\n",
              "      <td>0.101288</td>\n",
              "      <td>-0.339846</td>\n",
              "      <td>0.167170</td>\n",
              "      <td>0.125895</td>\n",
              "      <td>-0.008983</td>\n",
              "      <td>0.014724</td>\n",
              "      <td>2.69</td>\n",
              "      <td>0</td>\n",
              "    </tr>\n",
              "    <tr>\n",
              "      <th>2</th>\n",
              "      <td>1.0</td>\n",
              "      <td>-1.358354</td>\n",
              "      <td>-1.340163</td>\n",
              "      <td>1.773209</td>\n",
              "      <td>0.379780</td>\n",
              "      <td>-0.503198</td>\n",
              "      <td>1.800499</td>\n",
              "      <td>0.791461</td>\n",
              "      <td>0.247676</td>\n",
              "      <td>-1.514654</td>\n",
              "      <td>...</td>\n",
              "      <td>0.247998</td>\n",
              "      <td>0.771679</td>\n",
              "      <td>0.909412</td>\n",
              "      <td>-0.689281</td>\n",
              "      <td>-0.327642</td>\n",
              "      <td>-0.139097</td>\n",
              "      <td>-0.055353</td>\n",
              "      <td>-0.059752</td>\n",
              "      <td>378.66</td>\n",
              "      <td>0</td>\n",
              "    </tr>\n",
              "    <tr>\n",
              "      <th>3</th>\n",
              "      <td>1.0</td>\n",
              "      <td>-0.966272</td>\n",
              "      <td>-0.185226</td>\n",
              "      <td>1.792993</td>\n",
              "      <td>-0.863291</td>\n",
              "      <td>-0.010309</td>\n",
              "      <td>1.247203</td>\n",
              "      <td>0.237609</td>\n",
              "      <td>0.377436</td>\n",
              "      <td>-1.387024</td>\n",
              "      <td>...</td>\n",
              "      <td>-0.108300</td>\n",
              "      <td>0.005274</td>\n",
              "      <td>-0.190321</td>\n",
              "      <td>-1.175575</td>\n",
              "      <td>0.647376</td>\n",
              "      <td>-0.221929</td>\n",
              "      <td>0.062723</td>\n",
              "      <td>0.061458</td>\n",
              "      <td>123.50</td>\n",
              "      <td>0</td>\n",
              "    </tr>\n",
              "    <tr>\n",
              "      <th>4</th>\n",
              "      <td>2.0</td>\n",
              "      <td>-1.158233</td>\n",
              "      <td>0.877737</td>\n",
              "      <td>1.548718</td>\n",
              "      <td>0.403034</td>\n",
              "      <td>-0.407193</td>\n",
              "      <td>0.095921</td>\n",
              "      <td>0.592941</td>\n",
              "      <td>-0.270533</td>\n",
              "      <td>0.817739</td>\n",
              "      <td>...</td>\n",
              "      <td>-0.009431</td>\n",
              "      <td>0.798278</td>\n",
              "      <td>-0.137458</td>\n",
              "      <td>0.141267</td>\n",
              "      <td>-0.206010</td>\n",
              "      <td>0.502292</td>\n",
              "      <td>0.219422</td>\n",
              "      <td>0.215153</td>\n",
              "      <td>69.99</td>\n",
              "      <td>0</td>\n",
              "    </tr>\n",
              "  </tbody>\n",
              "</table>\n",
              "<p>5 rows × 31 columns</p>\n",
              "</div>\n",
              "      <button class=\"colab-df-convert\" onclick=\"convertToInteractive('df-03c28c89-7ef2-40c8-aa68-6962b0d9c26c')\"\n",
              "              title=\"Convert this dataframe to an interactive table.\"\n",
              "              style=\"display:none;\">\n",
              "        \n",
              "  <svg xmlns=\"http://www.w3.org/2000/svg\" height=\"24px\"viewBox=\"0 0 24 24\"\n",
              "       width=\"24px\">\n",
              "    <path d=\"M0 0h24v24H0V0z\" fill=\"none\"/>\n",
              "    <path d=\"M18.56 5.44l.94 2.06.94-2.06 2.06-.94-2.06-.94-.94-2.06-.94 2.06-2.06.94zm-11 1L8.5 8.5l.94-2.06 2.06-.94-2.06-.94L8.5 2.5l-.94 2.06-2.06.94zm10 10l.94 2.06.94-2.06 2.06-.94-2.06-.94-.94-2.06-.94 2.06-2.06.94z\"/><path d=\"M17.41 7.96l-1.37-1.37c-.4-.4-.92-.59-1.43-.59-.52 0-1.04.2-1.43.59L10.3 9.45l-7.72 7.72c-.78.78-.78 2.05 0 2.83L4 21.41c.39.39.9.59 1.41.59.51 0 1.02-.2 1.41-.59l7.78-7.78 2.81-2.81c.8-.78.8-2.07 0-2.86zM5.41 20L4 18.59l7.72-7.72 1.47 1.35L5.41 20z\"/>\n",
              "  </svg>\n",
              "      </button>\n",
              "      \n",
              "  <style>\n",
              "    .colab-df-container {\n",
              "      display:flex;\n",
              "      flex-wrap:wrap;\n",
              "      gap: 12px;\n",
              "    }\n",
              "\n",
              "    .colab-df-convert {\n",
              "      background-color: #E8F0FE;\n",
              "      border: none;\n",
              "      border-radius: 50%;\n",
              "      cursor: pointer;\n",
              "      display: none;\n",
              "      fill: #1967D2;\n",
              "      height: 32px;\n",
              "      padding: 0 0 0 0;\n",
              "      width: 32px;\n",
              "    }\n",
              "\n",
              "    .colab-df-convert:hover {\n",
              "      background-color: #E2EBFA;\n",
              "      box-shadow: 0px 1px 2px rgba(60, 64, 67, 0.3), 0px 1px 3px 1px rgba(60, 64, 67, 0.15);\n",
              "      fill: #174EA6;\n",
              "    }\n",
              "\n",
              "    [theme=dark] .colab-df-convert {\n",
              "      background-color: #3B4455;\n",
              "      fill: #D2E3FC;\n",
              "    }\n",
              "\n",
              "    [theme=dark] .colab-df-convert:hover {\n",
              "      background-color: #434B5C;\n",
              "      box-shadow: 0px 1px 3px 1px rgba(0, 0, 0, 0.15);\n",
              "      filter: drop-shadow(0px 1px 2px rgba(0, 0, 0, 0.3));\n",
              "      fill: #FFFFFF;\n",
              "    }\n",
              "  </style>\n",
              "\n",
              "      <script>\n",
              "        const buttonEl =\n",
              "          document.querySelector('#df-03c28c89-7ef2-40c8-aa68-6962b0d9c26c button.colab-df-convert');\n",
              "        buttonEl.style.display =\n",
              "          google.colab.kernel.accessAllowed ? 'block' : 'none';\n",
              "\n",
              "        async function convertToInteractive(key) {\n",
              "          const element = document.querySelector('#df-03c28c89-7ef2-40c8-aa68-6962b0d9c26c');\n",
              "          const dataTable =\n",
              "            await google.colab.kernel.invokeFunction('convertToInteractive',\n",
              "                                                     [key], {});\n",
              "          if (!dataTable) return;\n",
              "\n",
              "          const docLinkHtml = 'Like what you see? Visit the ' +\n",
              "            '<a target=\"_blank\" href=https://colab.research.google.com/notebooks/data_table.ipynb>data table notebook</a>'\n",
              "            + ' to learn more about interactive tables.';\n",
              "          element.innerHTML = '';\n",
              "          dataTable['output_type'] = 'display_data';\n",
              "          await google.colab.output.renderOutput(dataTable, element);\n",
              "          const docLink = document.createElement('div');\n",
              "          docLink.innerHTML = docLinkHtml;\n",
              "          element.appendChild(docLink);\n",
              "        }\n",
              "      </script>\n",
              "    </div>\n",
              "  </div>\n",
              "  "
            ]
          },
          "metadata": {},
          "execution_count": 404
        }
      ]
    },
    {
      "cell_type": "code",
      "execution_count": null,
      "metadata": {
        "_cell_guid": "376ce881-463a-4a09-9ac0-c63f85577eec",
        "_kg_hide-input": true,
        "_uuid": "93031e732e5aca3a2b4984799d6bf58d76e4b52d",
        "id": "mS_UgcCtCV_d",
        "colab": {
          "base_uri": "https://localhost:8080/",
          "height": 394
        },
        "outputId": "b605a5e4-7f49-402b-d2f6-bcee01582d41"
      },
      "outputs": [
        {
          "output_type": "execute_result",
          "data": {
            "text/plain": [
              "                Time            V1            V2            V3            V4  \\\n",
              "count  284807.000000  2.848070e+05  2.848070e+05  2.848070e+05  2.848070e+05   \n",
              "mean    94813.859575  1.168375e-15  3.416908e-16 -1.379537e-15  2.074095e-15   \n",
              "std     47488.145955  1.958696e+00  1.651309e+00  1.516255e+00  1.415869e+00   \n",
              "min         0.000000 -5.640751e+01 -7.271573e+01 -4.832559e+01 -5.683171e+00   \n",
              "25%     54201.500000 -9.203734e-01 -5.985499e-01 -8.903648e-01 -8.486401e-01   \n",
              "50%     84692.000000  1.810880e-02  6.548556e-02  1.798463e-01 -1.984653e-02   \n",
              "75%    139320.500000  1.315642e+00  8.037239e-01  1.027196e+00  7.433413e-01   \n",
              "max    172792.000000  2.454930e+00  2.205773e+01  9.382558e+00  1.687534e+01   \n",
              "\n",
              "                 V5            V6            V7            V8            V9  \\\n",
              "count  2.848070e+05  2.848070e+05  2.848070e+05  2.848070e+05  2.848070e+05   \n",
              "mean   9.604066e-16  1.487313e-15 -5.556467e-16  1.213481e-16 -2.406331e-15   \n",
              "std    1.380247e+00  1.332271e+00  1.237094e+00  1.194353e+00  1.098632e+00   \n",
              "min   -1.137433e+02 -2.616051e+01 -4.355724e+01 -7.321672e+01 -1.343407e+01   \n",
              "25%   -6.915971e-01 -7.682956e-01 -5.540759e-01 -2.086297e-01 -6.430976e-01   \n",
              "50%   -5.433583e-02 -2.741871e-01  4.010308e-02  2.235804e-02 -5.142873e-02   \n",
              "75%    6.119264e-01  3.985649e-01  5.704361e-01  3.273459e-01  5.971390e-01   \n",
              "max    3.480167e+01  7.330163e+01  1.205895e+02  2.000721e+01  1.559499e+01   \n",
              "\n",
              "       ...           V21           V22           V23           V24  \\\n",
              "count  ...  2.848070e+05  2.848070e+05  2.848070e+05  2.848070e+05   \n",
              "mean   ...  1.654067e-16 -3.568593e-16  2.578648e-16  4.473266e-15   \n",
              "std    ...  7.345240e-01  7.257016e-01  6.244603e-01  6.056471e-01   \n",
              "min    ... -3.483038e+01 -1.093314e+01 -4.480774e+01 -2.836627e+00   \n",
              "25%    ... -2.283949e-01 -5.423504e-01 -1.618463e-01 -3.545861e-01   \n",
              "50%    ... -2.945017e-02  6.781943e-03 -1.119293e-02  4.097606e-02   \n",
              "75%    ...  1.863772e-01  5.285536e-01  1.476421e-01  4.395266e-01   \n",
              "max    ...  2.720284e+01  1.050309e+01  2.252841e+01  4.584549e+00   \n",
              "\n",
              "                V25           V26           V27           V28         Amount  \\\n",
              "count  2.848070e+05  2.848070e+05  2.848070e+05  2.848070e+05  284807.000000   \n",
              "mean   5.340915e-16  1.683437e-15 -3.660091e-16 -1.227390e-16      88.349619   \n",
              "std    5.212781e-01  4.822270e-01  4.036325e-01  3.300833e-01     250.120109   \n",
              "min   -1.029540e+01 -2.604551e+00 -2.256568e+01 -1.543008e+01       0.000000   \n",
              "25%   -3.171451e-01 -3.269839e-01 -7.083953e-02 -5.295979e-02       5.600000   \n",
              "50%    1.659350e-02 -5.213911e-02  1.342146e-03  1.124383e-02      22.000000   \n",
              "75%    3.507156e-01  2.409522e-01  9.104512e-02  7.827995e-02      77.165000   \n",
              "max    7.519589e+00  3.517346e+00  3.161220e+01  3.384781e+01   25691.160000   \n",
              "\n",
              "               Class  \n",
              "count  284807.000000  \n",
              "mean        0.001727  \n",
              "std         0.041527  \n",
              "min         0.000000  \n",
              "25%         0.000000  \n",
              "50%         0.000000  \n",
              "75%         0.000000  \n",
              "max         1.000000  \n",
              "\n",
              "[8 rows x 31 columns]"
            ],
            "text/html": [
              "\n",
              "  <div id=\"df-41fa61be-5d34-4839-b588-e1289af27a85\">\n",
              "    <div class=\"colab-df-container\">\n",
              "      <div>\n",
              "<style scoped>\n",
              "    .dataframe tbody tr th:only-of-type {\n",
              "        vertical-align: middle;\n",
              "    }\n",
              "\n",
              "    .dataframe tbody tr th {\n",
              "        vertical-align: top;\n",
              "    }\n",
              "\n",
              "    .dataframe thead th {\n",
              "        text-align: right;\n",
              "    }\n",
              "</style>\n",
              "<table border=\"1\" class=\"dataframe\">\n",
              "  <thead>\n",
              "    <tr style=\"text-align: right;\">\n",
              "      <th></th>\n",
              "      <th>Time</th>\n",
              "      <th>V1</th>\n",
              "      <th>V2</th>\n",
              "      <th>V3</th>\n",
              "      <th>V4</th>\n",
              "      <th>V5</th>\n",
              "      <th>V6</th>\n",
              "      <th>V7</th>\n",
              "      <th>V8</th>\n",
              "      <th>V9</th>\n",
              "      <th>...</th>\n",
              "      <th>V21</th>\n",
              "      <th>V22</th>\n",
              "      <th>V23</th>\n",
              "      <th>V24</th>\n",
              "      <th>V25</th>\n",
              "      <th>V26</th>\n",
              "      <th>V27</th>\n",
              "      <th>V28</th>\n",
              "      <th>Amount</th>\n",
              "      <th>Class</th>\n",
              "    </tr>\n",
              "  </thead>\n",
              "  <tbody>\n",
              "    <tr>\n",
              "      <th>count</th>\n",
              "      <td>284807.000000</td>\n",
              "      <td>2.848070e+05</td>\n",
              "      <td>2.848070e+05</td>\n",
              "      <td>2.848070e+05</td>\n",
              "      <td>2.848070e+05</td>\n",
              "      <td>2.848070e+05</td>\n",
              "      <td>2.848070e+05</td>\n",
              "      <td>2.848070e+05</td>\n",
              "      <td>2.848070e+05</td>\n",
              "      <td>2.848070e+05</td>\n",
              "      <td>...</td>\n",
              "      <td>2.848070e+05</td>\n",
              "      <td>2.848070e+05</td>\n",
              "      <td>2.848070e+05</td>\n",
              "      <td>2.848070e+05</td>\n",
              "      <td>2.848070e+05</td>\n",
              "      <td>2.848070e+05</td>\n",
              "      <td>2.848070e+05</td>\n",
              "      <td>2.848070e+05</td>\n",
              "      <td>284807.000000</td>\n",
              "      <td>284807.000000</td>\n",
              "    </tr>\n",
              "    <tr>\n",
              "      <th>mean</th>\n",
              "      <td>94813.859575</td>\n",
              "      <td>1.168375e-15</td>\n",
              "      <td>3.416908e-16</td>\n",
              "      <td>-1.379537e-15</td>\n",
              "      <td>2.074095e-15</td>\n",
              "      <td>9.604066e-16</td>\n",
              "      <td>1.487313e-15</td>\n",
              "      <td>-5.556467e-16</td>\n",
              "      <td>1.213481e-16</td>\n",
              "      <td>-2.406331e-15</td>\n",
              "      <td>...</td>\n",
              "      <td>1.654067e-16</td>\n",
              "      <td>-3.568593e-16</td>\n",
              "      <td>2.578648e-16</td>\n",
              "      <td>4.473266e-15</td>\n",
              "      <td>5.340915e-16</td>\n",
              "      <td>1.683437e-15</td>\n",
              "      <td>-3.660091e-16</td>\n",
              "      <td>-1.227390e-16</td>\n",
              "      <td>88.349619</td>\n",
              "      <td>0.001727</td>\n",
              "    </tr>\n",
              "    <tr>\n",
              "      <th>std</th>\n",
              "      <td>47488.145955</td>\n",
              "      <td>1.958696e+00</td>\n",
              "      <td>1.651309e+00</td>\n",
              "      <td>1.516255e+00</td>\n",
              "      <td>1.415869e+00</td>\n",
              "      <td>1.380247e+00</td>\n",
              "      <td>1.332271e+00</td>\n",
              "      <td>1.237094e+00</td>\n",
              "      <td>1.194353e+00</td>\n",
              "      <td>1.098632e+00</td>\n",
              "      <td>...</td>\n",
              "      <td>7.345240e-01</td>\n",
              "      <td>7.257016e-01</td>\n",
              "      <td>6.244603e-01</td>\n",
              "      <td>6.056471e-01</td>\n",
              "      <td>5.212781e-01</td>\n",
              "      <td>4.822270e-01</td>\n",
              "      <td>4.036325e-01</td>\n",
              "      <td>3.300833e-01</td>\n",
              "      <td>250.120109</td>\n",
              "      <td>0.041527</td>\n",
              "    </tr>\n",
              "    <tr>\n",
              "      <th>min</th>\n",
              "      <td>0.000000</td>\n",
              "      <td>-5.640751e+01</td>\n",
              "      <td>-7.271573e+01</td>\n",
              "      <td>-4.832559e+01</td>\n",
              "      <td>-5.683171e+00</td>\n",
              "      <td>-1.137433e+02</td>\n",
              "      <td>-2.616051e+01</td>\n",
              "      <td>-4.355724e+01</td>\n",
              "      <td>-7.321672e+01</td>\n",
              "      <td>-1.343407e+01</td>\n",
              "      <td>...</td>\n",
              "      <td>-3.483038e+01</td>\n",
              "      <td>-1.093314e+01</td>\n",
              "      <td>-4.480774e+01</td>\n",
              "      <td>-2.836627e+00</td>\n",
              "      <td>-1.029540e+01</td>\n",
              "      <td>-2.604551e+00</td>\n",
              "      <td>-2.256568e+01</td>\n",
              "      <td>-1.543008e+01</td>\n",
              "      <td>0.000000</td>\n",
              "      <td>0.000000</td>\n",
              "    </tr>\n",
              "    <tr>\n",
              "      <th>25%</th>\n",
              "      <td>54201.500000</td>\n",
              "      <td>-9.203734e-01</td>\n",
              "      <td>-5.985499e-01</td>\n",
              "      <td>-8.903648e-01</td>\n",
              "      <td>-8.486401e-01</td>\n",
              "      <td>-6.915971e-01</td>\n",
              "      <td>-7.682956e-01</td>\n",
              "      <td>-5.540759e-01</td>\n",
              "      <td>-2.086297e-01</td>\n",
              "      <td>-6.430976e-01</td>\n",
              "      <td>...</td>\n",
              "      <td>-2.283949e-01</td>\n",
              "      <td>-5.423504e-01</td>\n",
              "      <td>-1.618463e-01</td>\n",
              "      <td>-3.545861e-01</td>\n",
              "      <td>-3.171451e-01</td>\n",
              "      <td>-3.269839e-01</td>\n",
              "      <td>-7.083953e-02</td>\n",
              "      <td>-5.295979e-02</td>\n",
              "      <td>5.600000</td>\n",
              "      <td>0.000000</td>\n",
              "    </tr>\n",
              "    <tr>\n",
              "      <th>50%</th>\n",
              "      <td>84692.000000</td>\n",
              "      <td>1.810880e-02</td>\n",
              "      <td>6.548556e-02</td>\n",
              "      <td>1.798463e-01</td>\n",
              "      <td>-1.984653e-02</td>\n",
              "      <td>-5.433583e-02</td>\n",
              "      <td>-2.741871e-01</td>\n",
              "      <td>4.010308e-02</td>\n",
              "      <td>2.235804e-02</td>\n",
              "      <td>-5.142873e-02</td>\n",
              "      <td>...</td>\n",
              "      <td>-2.945017e-02</td>\n",
              "      <td>6.781943e-03</td>\n",
              "      <td>-1.119293e-02</td>\n",
              "      <td>4.097606e-02</td>\n",
              "      <td>1.659350e-02</td>\n",
              "      <td>-5.213911e-02</td>\n",
              "      <td>1.342146e-03</td>\n",
              "      <td>1.124383e-02</td>\n",
              "      <td>22.000000</td>\n",
              "      <td>0.000000</td>\n",
              "    </tr>\n",
              "    <tr>\n",
              "      <th>75%</th>\n",
              "      <td>139320.500000</td>\n",
              "      <td>1.315642e+00</td>\n",
              "      <td>8.037239e-01</td>\n",
              "      <td>1.027196e+00</td>\n",
              "      <td>7.433413e-01</td>\n",
              "      <td>6.119264e-01</td>\n",
              "      <td>3.985649e-01</td>\n",
              "      <td>5.704361e-01</td>\n",
              "      <td>3.273459e-01</td>\n",
              "      <td>5.971390e-01</td>\n",
              "      <td>...</td>\n",
              "      <td>1.863772e-01</td>\n",
              "      <td>5.285536e-01</td>\n",
              "      <td>1.476421e-01</td>\n",
              "      <td>4.395266e-01</td>\n",
              "      <td>3.507156e-01</td>\n",
              "      <td>2.409522e-01</td>\n",
              "      <td>9.104512e-02</td>\n",
              "      <td>7.827995e-02</td>\n",
              "      <td>77.165000</td>\n",
              "      <td>0.000000</td>\n",
              "    </tr>\n",
              "    <tr>\n",
              "      <th>max</th>\n",
              "      <td>172792.000000</td>\n",
              "      <td>2.454930e+00</td>\n",
              "      <td>2.205773e+01</td>\n",
              "      <td>9.382558e+00</td>\n",
              "      <td>1.687534e+01</td>\n",
              "      <td>3.480167e+01</td>\n",
              "      <td>7.330163e+01</td>\n",
              "      <td>1.205895e+02</td>\n",
              "      <td>2.000721e+01</td>\n",
              "      <td>1.559499e+01</td>\n",
              "      <td>...</td>\n",
              "      <td>2.720284e+01</td>\n",
              "      <td>1.050309e+01</td>\n",
              "      <td>2.252841e+01</td>\n",
              "      <td>4.584549e+00</td>\n",
              "      <td>7.519589e+00</td>\n",
              "      <td>3.517346e+00</td>\n",
              "      <td>3.161220e+01</td>\n",
              "      <td>3.384781e+01</td>\n",
              "      <td>25691.160000</td>\n",
              "      <td>1.000000</td>\n",
              "    </tr>\n",
              "  </tbody>\n",
              "</table>\n",
              "<p>8 rows × 31 columns</p>\n",
              "</div>\n",
              "      <button class=\"colab-df-convert\" onclick=\"convertToInteractive('df-41fa61be-5d34-4839-b588-e1289af27a85')\"\n",
              "              title=\"Convert this dataframe to an interactive table.\"\n",
              "              style=\"display:none;\">\n",
              "        \n",
              "  <svg xmlns=\"http://www.w3.org/2000/svg\" height=\"24px\"viewBox=\"0 0 24 24\"\n",
              "       width=\"24px\">\n",
              "    <path d=\"M0 0h24v24H0V0z\" fill=\"none\"/>\n",
              "    <path d=\"M18.56 5.44l.94 2.06.94-2.06 2.06-.94-2.06-.94-.94-2.06-.94 2.06-2.06.94zm-11 1L8.5 8.5l.94-2.06 2.06-.94-2.06-.94L8.5 2.5l-.94 2.06-2.06.94zm10 10l.94 2.06.94-2.06 2.06-.94-2.06-.94-.94-2.06-.94 2.06-2.06.94z\"/><path d=\"M17.41 7.96l-1.37-1.37c-.4-.4-.92-.59-1.43-.59-.52 0-1.04.2-1.43.59L10.3 9.45l-7.72 7.72c-.78.78-.78 2.05 0 2.83L4 21.41c.39.39.9.59 1.41.59.51 0 1.02-.2 1.41-.59l7.78-7.78 2.81-2.81c.8-.78.8-2.07 0-2.86zM5.41 20L4 18.59l7.72-7.72 1.47 1.35L5.41 20z\"/>\n",
              "  </svg>\n",
              "      </button>\n",
              "      \n",
              "  <style>\n",
              "    .colab-df-container {\n",
              "      display:flex;\n",
              "      flex-wrap:wrap;\n",
              "      gap: 12px;\n",
              "    }\n",
              "\n",
              "    .colab-df-convert {\n",
              "      background-color: #E8F0FE;\n",
              "      border: none;\n",
              "      border-radius: 50%;\n",
              "      cursor: pointer;\n",
              "      display: none;\n",
              "      fill: #1967D2;\n",
              "      height: 32px;\n",
              "      padding: 0 0 0 0;\n",
              "      width: 32px;\n",
              "    }\n",
              "\n",
              "    .colab-df-convert:hover {\n",
              "      background-color: #E2EBFA;\n",
              "      box-shadow: 0px 1px 2px rgba(60, 64, 67, 0.3), 0px 1px 3px 1px rgba(60, 64, 67, 0.15);\n",
              "      fill: #174EA6;\n",
              "    }\n",
              "\n",
              "    [theme=dark] .colab-df-convert {\n",
              "      background-color: #3B4455;\n",
              "      fill: #D2E3FC;\n",
              "    }\n",
              "\n",
              "    [theme=dark] .colab-df-convert:hover {\n",
              "      background-color: #434B5C;\n",
              "      box-shadow: 0px 1px 3px 1px rgba(0, 0, 0, 0.15);\n",
              "      filter: drop-shadow(0px 1px 2px rgba(0, 0, 0, 0.3));\n",
              "      fill: #FFFFFF;\n",
              "    }\n",
              "  </style>\n",
              "\n",
              "      <script>\n",
              "        const buttonEl =\n",
              "          document.querySelector('#df-41fa61be-5d34-4839-b588-e1289af27a85 button.colab-df-convert');\n",
              "        buttonEl.style.display =\n",
              "          google.colab.kernel.accessAllowed ? 'block' : 'none';\n",
              "\n",
              "        async function convertToInteractive(key) {\n",
              "          const element = document.querySelector('#df-41fa61be-5d34-4839-b588-e1289af27a85');\n",
              "          const dataTable =\n",
              "            await google.colab.kernel.invokeFunction('convertToInteractive',\n",
              "                                                     [key], {});\n",
              "          if (!dataTable) return;\n",
              "\n",
              "          const docLinkHtml = 'Like what you see? Visit the ' +\n",
              "            '<a target=\"_blank\" href=https://colab.research.google.com/notebooks/data_table.ipynb>data table notebook</a>'\n",
              "            + ' to learn more about interactive tables.';\n",
              "          element.innerHTML = '';\n",
              "          dataTable['output_type'] = 'display_data';\n",
              "          await google.colab.output.renderOutput(dataTable, element);\n",
              "          const docLink = document.createElement('div');\n",
              "          docLink.innerHTML = docLinkHtml;\n",
              "          element.appendChild(docLink);\n",
              "        }\n",
              "      </script>\n",
              "    </div>\n",
              "  </div>\n",
              "  "
            ]
          },
          "metadata": {},
          "execution_count": 405
        }
      ],
      "source": [
        "df.describe()"
      ]
    },
    {
      "cell_type": "code",
      "source": [
        "df.shape"
      ],
      "metadata": {
        "id": "TRYUNGczudqU",
        "colab": {
          "base_uri": "https://localhost:8080/"
        },
        "outputId": "fc0c09b7-2edc-472b-af4b-6a5429b51e51"
      },
      "execution_count": null,
      "outputs": [
        {
          "output_type": "execute_result",
          "data": {
            "text/plain": [
              "(284807, 31)"
            ]
          },
          "metadata": {},
          "execution_count": 406
        }
      ]
    },
    {
      "cell_type": "code",
      "source": [
        "df.duplicated().sum()"
      ],
      "metadata": {
        "id": "edKHIDxqunVM",
        "colab": {
          "base_uri": "https://localhost:8080/"
        },
        "outputId": "23cbc838-251b-4198-a174-4c51bbbca5a2"
      },
      "execution_count": null,
      "outputs": [
        {
          "output_type": "execute_result",
          "data": {
            "text/plain": [
              "1081"
            ]
          },
          "metadata": {},
          "execution_count": 407
        }
      ]
    },
    {
      "cell_type": "code",
      "source": [
        "df.drop_duplicates(inplace = True)"
      ],
      "metadata": {
        "id": "9frVQ8mfuzy6"
      },
      "execution_count": null,
      "outputs": []
    },
    {
      "cell_type": "code",
      "source": [
        "df.shape"
      ],
      "metadata": {
        "id": "1R4qktThu8UE",
        "colab": {
          "base_uri": "https://localhost:8080/"
        },
        "outputId": "aacf769e-8525-4df7-989b-946f11479248"
      },
      "execution_count": null,
      "outputs": [
        {
          "output_type": "execute_result",
          "data": {
            "text/plain": [
              "(283726, 31)"
            ]
          },
          "metadata": {},
          "execution_count": 409
        }
      ]
    },
    {
      "cell_type": "code",
      "execution_count": null,
      "metadata": {
        "_cell_guid": "03ddb929-5bc8-4af4-90cd-21dcbb57560d",
        "_kg_hide-input": true,
        "_uuid": "38bec67888aa534e9739e95ef9fac62d27a87021",
        "id": "ddLB-utHCV_f",
        "colab": {
          "base_uri": "https://localhost:8080/"
        },
        "outputId": "118d209b-1557-4c06-e3af-f4b785593319"
      },
      "outputs": [
        {
          "output_type": "execute_result",
          "data": {
            "text/plain": [
              "0"
            ]
          },
          "metadata": {},
          "execution_count": 410
        }
      ],
      "source": [
        "# Good No Null Values!\n",
        "df.isnull().sum().max()"
      ]
    },
    {
      "cell_type": "code",
      "execution_count": null,
      "metadata": {
        "_cell_guid": "6a526b6c-8463-4f6f-92b0-e8a3a21cbb2e",
        "_kg_hide-input": true,
        "_uuid": "479a5f12d3dd68262316a17b4b7b3499e0a2cbe0",
        "id": "p-ySghjZCV_i",
        "colab": {
          "base_uri": "https://localhost:8080/"
        },
        "outputId": "a13dd444-b6e0-4889-eb79-f6769bac53e0"
      },
      "outputs": [
        {
          "output_type": "execute_result",
          "data": {
            "text/plain": [
              "Index(['Time', 'V1', 'V2', 'V3', 'V4', 'V5', 'V6', 'V7', 'V8', 'V9', 'V10',\n",
              "       'V11', 'V12', 'V13', 'V14', 'V15', 'V16', 'V17', 'V18', 'V19', 'V20',\n",
              "       'V21', 'V22', 'V23', 'V24', 'V25', 'V26', 'V27', 'V28', 'Amount',\n",
              "       'Class'],\n",
              "      dtype='object')"
            ]
          },
          "metadata": {},
          "execution_count": 411
        }
      ],
      "source": [
        "df.columns"
      ]
    },
    {
      "cell_type": "code",
      "execution_count": null,
      "metadata": {
        "_cell_guid": "01c007fa-0fcc-4eea-84ff-0861a2f8c533",
        "_kg_hide-input": true,
        "_uuid": "f6b96ff34855e3bf7af1f6979342b01c473e4e07",
        "id": "7XpxBl6OCV_k",
        "colab": {
          "base_uri": "https://localhost:8080/"
        },
        "outputId": "ac901b38-4325-4083-e890-4b325553df76"
      },
      "outputs": [
        {
          "output_type": "stream",
          "name": "stdout",
          "text": [
            "No Frauds 99.83 % of the dataset\n",
            "Frauds 0.17 % of the dataset\n"
          ]
        }
      ],
      "source": [
        "# The classes are heavily skewed we need to solve this issue later.\n",
        "print('No Frauds', round(df['Class'].value_counts()[0]/len(df) * 100,2), '% of the dataset')\n",
        "print('Frauds', round(df['Class'].value_counts()[1]/len(df) * 100,2), '% of the dataset')"
      ]
    },
    {
      "cell_type": "markdown",
      "metadata": {
        "_cell_guid": "558c9b60-3f52-4da5-92fa-9fc4acbdbb3a",
        "_uuid": "c2bb0945a312508e908386fc87adc227f0afe0e0",
        "id": "9IY2gf89CV_o"
      },
      "source": [
        "**Note:**  As we can see our original dataset is highly Imbalanced. Most of the transactions are non-fraud. If we use this dataframe as the base for our predictive models and analysis we might get a lot of errors and our algorithms will probably overfit since it will \"assume\" that most transactions are not fraud. But we don't want our model to assume, we want our model to detect patterns that give signs of fraud!"
      ]
    },
    {
      "cell_type": "code",
      "execution_count": null,
      "metadata": {
        "_cell_guid": "657bc987-4b15-4cfa-b290-c39a2632e2ac",
        "_kg_hide-input": true,
        "_uuid": "337caaf6ed3f65beedb24a74eebb22d97ff52ba4",
        "id": "Icmpz9joCV_q",
        "colab": {
          "base_uri": "https://localhost:8080/",
          "height": 412
        },
        "outputId": "f80a95a9-3445-48c7-a1f7-37dcc1a9fb0d"
      },
      "outputs": [
        {
          "output_type": "execute_result",
          "data": {
            "text/plain": [
              "Text(0.5, 1.0, 'Class Distributions \\n (0: No Fraud || 1: Fraud)')"
            ]
          },
          "metadata": {},
          "execution_count": 413
        },
        {
          "output_type": "display_data",
          "data": {
            "text/plain": [
              "<Figure size 576x396 with 1 Axes>"
            ],
            "image/png": "[encoded data removed]"
          },
          "metadata": {}
        }
      ],
      "source": [
        "colors = [\"#0101DF\", \"#DF0101\"]\n",
        "\n",
        "sns.countplot('Class', data=df, palette=colors)\n",
        "plt.title('Class Distributions \\n (0: No Fraud || 1: Fraud)', fontsize=14)"
      ]
    },
    {
      "cell_type": "markdown",
      "metadata": {
        "_cell_guid": "3c9973d0-83bd-4b09-860e-c1f507f88310",
        "_uuid": "6894af2afdbfd5cd670d00b66f10ae49f1cab421",
        "id": "i2vrxsjKCV_v"
      },
      "source": [
        "**Distributions:** By seeing the distributions we can have an idea how skewed are these features, we can also see further distributions of the other features. There are techniques that can help the distributions be less skewed which will be implemented in this notebook in the future."
      ]
    },
    {
      "cell_type": "code",
      "execution_count": null,
      "metadata": {
        "_cell_guid": "cee315f2-325f-42b6-a640-736f10c272cc",
        "_kg_hide-input": true,
        "_uuid": "cfa51792bf6f8a6b318ae1bffcff4e922b1d1917",
        "id": "B3EnJeslCV_x",
        "colab": {
          "base_uri": "https://localhost:8080/",
          "height": 282
        },
        "outputId": "11ee1c92-a948-4bbd-8265-0aa1bf67ea64"
      },
      "outputs": [
        {
          "output_type": "display_data",
          "data": {
            "text/plain": [
              "<Figure size 1296x288 with 2 Axes>"
            ],
            "image/png": "[encoded data removed]"
          },
          "metadata": {}
        }
      ],
      "source": [
        "fig, ax = plt.subplots(1, 2, figsize=(18,4))\n",
        "\n",
        "amount_val = df['Amount'].values\n",
        "time_val = df['Time'].values\n",
        "\n",
        "sns.distplot(amount_val, ax=ax[0], color='r')\n",
        "ax[0].set_title('Distribution of Transaction Amount', fontsize=14)\n",
        "ax[0].set_xlim([min(amount_val), max(amount_val)])\n",
        "\n",
        "sns.distplot(time_val, ax=ax[1], color='b')\n",
        "ax[1].set_title('Distribution of Transaction Time', fontsize=14)\n",
        "ax[1].set_xlim([min(time_val), max(time_val)])\n",
        "\n",
        "\n",
        "\n",
        "plt.show()"
      ]
    },
    {
      "cell_type": "markdown",
      "metadata": {
        "_cell_guid": "72fdda5e-7f82-488d-a433-6157d6180bb8",
        "_uuid": "c5d6781e61c0ee84e72d26e8465bfd98ef91f3b9",
        "id": "CH56LRLJCV_z"
      },
      "source": [
        "<h2> Scaling and Distributing </h2>\n",
        "<a id=\"distributing\"></a>\n",
        "Here we will first scale the columns comprise of <b>Time</b> and <b>Amount </b>. Time and amount should be scaled as the other columns. On the other hand, we need to also create a sub sample of the dataframe in order to have an equal amount of Fraud and Non-Fraud cases, helping our algorithms better understand patterns that determines whether a transaction is a fraud or not.\n",
        "\n",
        "<h3> What is a sub-Sample?</h3>\n",
        "In this scenario, our subsample will be a dataframe with a 50/50 ratio of fraud and non-fraud transactions. Meaning our sub-sample will have the same amount of fraud and non fraud transactions.\n",
        "\n",
        "<h3> Why do we create a sub-Sample?</h3>\n",
        "In the beginning, we saw that the original dataframe was heavily imbalanced! Using the original dataframe  will cause the following issues:\n",
        "<ul>\n",
        "<li><b>Overfitting: </b>Our classification models will assume that in most cases there are no frauds! What we want for our model is to be certain when a fraud occurs. </li>\n",
        "<li><b>Wrong Correlations:</b> Although we don't know what the \"V\" features stand for, it will be useful to understand how each of this features influence the result (Fraud or No Fraud) by having an imbalance dataframe we are not able to see the true correlations between the class and features. </li>\n",
        "</ul>\n",
        "\n",
        "<h3>Summary: </h3> \n",
        "<ul>\n",
        "<li> <b>Scaled amount </b> and <b> scaled time </b> are the columns with scaled values. </li>\n",
        "<li> There are <b>473 cases </b> of fraud in our dataset so we can randomly get 473 cases of non-fraud to create our new sub dataframe. </li>\n",
        "<li>We concat the 473 cases of fraud and non fraud, <b>creating a new sub-sample. </b></li>\n",
        "</ul>"
      ]
    },
    {
      "cell_type": "code",
      "execution_count": null,
      "metadata": {
        "_cell_guid": "d5d64bf0-2fbb-4096-a265-f68887bf2fde",
        "_kg_hide-input": true,
        "_uuid": "1501ec379c9b5c39c3857ba0febd0aedee9c30d5",
        "id": "YuBnK-0kCV_1"
      },
      "outputs": [],
      "source": [
        "# Since most of our data has already been scaled we should scale the columns that are left to scale (Amount and Time)\n",
        "from sklearn.preprocessing import RobustScaler\n",
        "\n",
        "# RobustScaler is less prone to outliers.\n",
        "rob_scaler = RobustScaler()\n",
        "\n",
        "df['scaled_amount'] = rob_scaler.fit_transform(df['Amount'].values.reshape(-1,1))\n",
        "df['scaled_time'] = rob_scaler.fit_transform(df['Time'].values.reshape(-1,1))\n",
        "\n",
        "df.drop(['Time','Amount'], axis=1, inplace=True)"
      ]
    },
    {
      "cell_type": "code",
      "execution_count": null,
      "metadata": {
        "_cell_guid": "cdb9bb1e-9fab-4fd1-a409-468ba8bc36ee",
        "_kg_hide-input": true,
        "_uuid": "a33d701247ab45d849c5e94735346a738a6c6970",
        "id": "ob-Doa7JCV_2",
        "colab": {
          "base_uri": "https://localhost:8080/",
          "height": 299
        },
        "outputId": "dae730b4-30f0-4c07-8554-230a79946dcc"
      },
      "outputs": [
        {
          "output_type": "execute_result",
          "data": {
            "text/plain": [
              "   scaled_amount  scaled_time        V1        V2        V3        V4  \\\n",
              "0       1.774718    -0.995290 -1.359807 -0.072781  2.536347  1.378155   \n",
              "1      -0.268530    -0.995290  1.191857  0.266151  0.166480  0.448154   \n",
              "2       4.959811    -0.995279 -1.358354 -1.340163  1.773209  0.379780   \n",
              "3       1.411487    -0.995279 -0.966272 -0.185226  1.792993 -0.863291   \n",
              "4       0.667362    -0.995267 -1.158233  0.877737  1.548718  0.403034   \n",
              "\n",
              "         V5        V6        V7        V8  ...       V20       V21       V22  \\\n",
              "0 -0.338321  0.462388  0.239599  0.098698  ...  0.251412 -0.018307  0.277838   \n",
              "1  0.060018 -0.082361 -0.078803  0.085102  ... -0.069083 -0.225775 -0.638672   \n",
              "2 -0.503198  1.800499  0.791461  0.247676  ...  0.524980  0.247998  0.771679   \n",
              "3 -0.010309  1.247203  0.237609  0.377436  ... -0.208038 -0.108300  0.005274   \n",
              "4 -0.407193  0.095921  0.592941 -0.270533  ...  0.408542 -0.009431  0.798278   \n",
              "\n",
              "        V23       V24       V25       V26       V27       V28  Class  \n",
              "0 -0.110474  0.066928  0.128539 -0.189115  0.133558 -0.021053      0  \n",
              "1  0.101288 -0.339846  0.167170  0.125895 -0.008983  0.014724      0  \n",
              "2  0.909412 -0.689281 -0.327642 -0.139097 -0.055353 -0.059752      0  \n",
              "3 -0.190321 -1.175575  0.647376 -0.221929  0.062723  0.061458      0  \n",
              "4 -0.137458  0.141267 -0.206010  0.502292  0.219422  0.215153      0  \n",
              "\n",
              "[5 rows x 31 columns]"
            ],
            "text/html": [
              "\n",
              "  <div id=\"df-a0c5cb12-a038-4129-a370-02bb33a0ab3d\">\n",
              "    <div class=\"colab-df-container\">\n",
              "      <div>\n",
              "<style scoped>\n",
              "    .dataframe tbody tr th:only-of-type {\n",
              "        vertical-align: middle;\n",
              "    }\n",
              "\n",
              "    .dataframe tbody tr th {\n",
              "        vertical-align: top;\n",
              "    }\n",
              "\n",
              "    .dataframe thead th {\n",
              "        text-align: right;\n",
              "    }\n",
              "</style>\n",
              "<table border=\"1\" class=\"dataframe\">\n",
              "  <thead>\n",
              "    <tr style=\"text-align: right;\">\n",
              "      <th></th>\n",
              "      <th>scaled_amount</th>\n",
              "      <th>scaled_time</th>\n",
              "      <th>V1</th>\n",
              "      <th>V2</th>\n",
              "      <th>V3</th>\n",
              "      <th>V4</th>\n",
              "      <th>V5</th>\n",
              "      <th>V6</th>\n",
              "      <th>V7</th>\n",
              "      <th>V8</th>\n",
              "      <th>...</th>\n",
              "      <th>V20</th>\n",
              "      <th>V21</th>\n",
              "      <th>V22</th>\n",
              "      <th>V23</th>\n",
              "      <th>V24</th>\n",
              "      <th>V25</th>\n",
              "      <th>V26</th>\n",
              "      <th>V27</th>\n",
              "      <th>V28</th>\n",
              "      <th>Class</th>\n",
              "    </tr>\n",
              "  </thead>\n",
              "  <tbody>\n",
              "    <tr>\n",
              "      <th>0</th>\n",
              "      <td>1.774718</td>\n",
              "      <td>-0.995290</td>\n",
              "      <td>-1.359807</td>\n",
              "      <td>-0.072781</td>\n",
              "      <td>2.536347</td>\n",
              "      <td>1.378155</td>\n",
              "      <td>-0.338321</td>\n",
              "      <td>0.462388</td>\n",
              "      <td>0.239599</td>\n",
              "      <td>0.098698</td>\n",
              "      <td>...</td>\n",
              "      <td>0.251412</td>\n",
              "      <td>-0.018307</td>\n",
              "      <td>0.277838</td>\n",
              "      <td>-0.110474</td>\n",
              "      <td>0.066928</td>\n",
              "      <td>0.128539</td>\n",
              "      <td>-0.189115</td>\n",
              "      <td>0.133558</td>\n",
              "      <td>-0.021053</td>\n",
              "      <td>0</td>\n",
              "    </tr>\n",
              "    <tr>\n",
              "      <th>1</th>\n",
              "      <td>-0.268530</td>\n",
              "      <td>-0.995290</td>\n",
              "      <td>1.191857</td>\n",
              "      <td>0.266151</td>\n",
              "      <td>0.166480</td>\n",
              "      <td>0.448154</td>\n",
              "      <td>0.060018</td>\n",
              "      <td>-0.082361</td>\n",
              "      <td>-0.078803</td>\n",
              "      <td>0.085102</td>\n",
              "      <td>...</td>\n",
              "      <td>-0.069083</td>\n",
              "      <td>-0.225775</td>\n",
              "      <td>-0.638672</td>\n",
              "      <td>0.101288</td>\n",
              "      <td>-0.339846</td>\n",
              "      <td>0.167170</td>\n",
              "      <td>0.125895</td>\n",
              "      <td>-0.008983</td>\n",
              "      <td>0.014724</td>\n",
              "      <td>0</td>\n",
              "    </tr>\n",
              "    <tr>\n",
              "      <th>2</th>\n",
              "      <td>4.959811</td>\n",
              "      <td>-0.995279</td>\n",
              "      <td>-1.358354</td>\n",
              "      <td>-1.340163</td>\n",
              "      <td>1.773209</td>\n",
              "      <td>0.379780</td>\n",
              "      <td>-0.503198</td>\n",
              "      <td>1.800499</td>\n",
              "      <td>0.791461</td>\n",
              "      <td>0.247676</td>\n",
              "      <td>...</td>\n",
              "      <td>0.524980</td>\n",
              "      <td>0.247998</td>\n",
              "      <td>0.771679</td>\n",
              "      <td>0.909412</td>\n",
              "      <td>-0.689281</td>\n",
              "      <td>-0.327642</td>\n",
              "      <td>-0.139097</td>\n",
              "      <td>-0.055353</td>\n",
              "      <td>-0.059752</td>\n",
              "      <td>0</td>\n",
              "    </tr>\n",
              "    <tr>\n",
              "      <th>3</th>\n",
              "      <td>1.411487</td>\n",
              "      <td>-0.995279</td>\n",
              "      <td>-0.966272</td>\n",
              "      <td>-0.185226</td>\n",
              "      <td>1.792993</td>\n",
              "      <td>-0.863291</td>\n",
              "      <td>-0.010309</td>\n",
              "      <td>1.247203</td>\n",
              "      <td>0.237609</td>\n",
              "      <td>0.377436</td>\n",
              "      <td>...</td>\n",
              "      <td>-0.208038</td>\n",
              "      <td>-0.108300</td>\n",
              "      <td>0.005274</td>\n",
              "      <td>-0.190321</td>\n",
              "      <td>-1.175575</td>\n",
              "      <td>0.647376</td>\n",
              "      <td>-0.221929</td>\n",
              "      <td>0.062723</td>\n",
              "      <td>0.061458</td>\n",
              "      <td>0</td>\n",
              "    </tr>\n",
              "    <tr>\n",
              "      <th>4</th>\n",
              "      <td>0.667362</td>\n",
              "      <td>-0.995267</td>\n",
              "      <td>-1.158233</td>\n",
              "      <td>0.877737</td>\n",
              "      <td>1.548718</td>\n",
              "      <td>0.403034</td>\n",
              "      <td>-0.407193</td>\n",
              "      <td>0.095921</td>\n",
              "      <td>0.592941</td>\n",
              "      <td>-0.270533</td>\n",
              "      <td>...</td>\n",
              "      <td>0.408542</td>\n",
              "      <td>-0.009431</td>\n",
              "      <td>0.798278</td>\n",
              "      <td>-0.137458</td>\n",
              "      <td>0.141267</td>\n",
              "      <td>-0.206010</td>\n",
              "      <td>0.502292</td>\n",
              "      <td>0.219422</td>\n",
              "      <td>0.215153</td>\n",
              "      <td>0</td>\n",
              "    </tr>\n",
              "  </tbody>\n",
              "</table>\n",
              "<p>5 rows × 31 columns</p>\n",
              "</div>\n",
              "      <button class=\"colab-df-convert\" onclick=\"convertToInteractive('df-a0c5cb12-a038-4129-a370-02bb33a0ab3d')\"\n",
              "              title=\"Convert this dataframe to an interactive table.\"\n",
              "              style=\"display:none;\">\n",
              "        \n",
              "  <svg xmlns=\"http://www.w3.org/2000/svg\" height=\"24px\"viewBox=\"0 0 24 24\"\n",
              "       width=\"24px\">\n",
              "    <path d=\"M0 0h24v24H0V0z\" fill=\"none\"/>\n",
              "    <path d=\"M18.56 5.44l.94 2.06.94-2.06 2.06-.94-2.06-.94-.94-2.06-.94 2.06-2.06.94zm-11 1L8.5 8.5l.94-2.06 2.06-.94-2.06-.94L8.5 2.5l-.94 2.06-2.06.94zm10 10l.94 2.06.94-2.06 2.06-.94-2.06-.94-.94-2.06-.94 2.06-2.06.94z\"/><path d=\"M17.41 7.96l-1.37-1.37c-.4-.4-.92-.59-1.43-.59-.52 0-1.04.2-1.43.59L10.3 9.45l-7.72 7.72c-.78.78-.78 2.05 0 2.83L4 21.41c.39.39.9.59 1.41.59.51 0 1.02-.2 1.41-.59l7.78-7.78 2.81-2.81c.8-.78.8-2.07 0-2.86zM5.41 20L4 18.59l7.72-7.72 1.47 1.35L5.41 20z\"/>\n",
              "  </svg>\n",
              "      </button>\n",
              "      \n",
              "  <style>\n",
              "    .colab-df-container {\n",
              "      display:flex;\n",
              "      flex-wrap:wrap;\n",
              "      gap: 12px;\n",
              "    }\n",
              "\n",
              "    .colab-df-convert {\n",
              "      background-color: #E8F0FE;\n",
              "      border: none;\n",
              "      border-radius: 50%;\n",
              "      cursor: pointer;\n",
              "      display: none;\n",
              "      fill: #1967D2;\n",
              "      height: 32px;\n",
              "      padding: 0 0 0 0;\n",
              "      width: 32px;\n",
              "    }\n",
              "\n",
              "    .colab-df-convert:hover {\n",
              "      background-color: #E2EBFA;\n",
              "      box-shadow: 0px 1px 2px rgba(60, 64, 67, 0.3), 0px 1px 3px 1px rgba(60, 64, 67, 0.15);\n",
              "      fill: #174EA6;\n",
              "    }\n",
              "\n",
              "    [theme=dark] .colab-df-convert {\n",
              "      background-color: #3B4455;\n",
              "      fill: #D2E3FC;\n",
              "    }\n",
              "\n",
              "    [theme=dark] .colab-df-convert:hover {\n",
              "      background-color: #434B5C;\n",
              "      box-shadow: 0px 1px 3px 1px rgba(0, 0, 0, 0.15);\n",
              "      filter: drop-shadow(0px 1px 2px rgba(0, 0, 0, 0.3));\n",
              "      fill: #FFFFFF;\n",
              "    }\n",
              "  </style>\n",
              "\n",
              "      <script>\n",
              "        const buttonEl =\n",
              "          document.querySelector('#df-a0c5cb12-a038-4129-a370-02bb33a0ab3d button.colab-df-convert');\n",
              "        buttonEl.style.display =\n",
              "          google.colab.kernel.accessAllowed ? 'block' : 'none';\n",
              "\n",
              "        async function convertToInteractive(key) {\n",
              "          const element = document.querySelector('#df-a0c5cb12-a038-4129-a370-02bb33a0ab3d');\n",
              "          const dataTable =\n",
              "            await google.colab.kernel.invokeFunction('convertToInteractive',\n",
              "                                                     [key], {});\n",
              "          if (!dataTable) return;\n",
              "\n",
              "          const docLinkHtml = 'Like what you see? Visit the ' +\n",
              "            '<a target=\"_blank\" href=https://colab.research.google.com/notebooks/data_table.ipynb>data table notebook</a>'\n",
              "            + ' to learn more about interactive tables.';\n",
              "          element.innerHTML = '';\n",
              "          dataTable['output_type'] = 'display_data';\n",
              "          await google.colab.output.renderOutput(dataTable, element);\n",
              "          const docLink = document.createElement('div');\n",
              "          docLink.innerHTML = docLinkHtml;\n",
              "          element.appendChild(docLink);\n",
              "        }\n",
              "      </script>\n",
              "    </div>\n",
              "  </div>\n",
              "  "
            ]
          },
          "metadata": {},
          "execution_count": 416
        }
      ],
      "source": [
        "scaled_amount = df['scaled_amount']\n",
        "scaled_time = df['scaled_time']\n",
        "\n",
        "df.drop(['scaled_amount', 'scaled_time'], axis=1, inplace=True)\n",
        "df.insert(0, 'scaled_amount', scaled_amount)\n",
        "df.insert(1, 'scaled_time', scaled_time)\n",
        "\n",
        "# Amount and Time are Scaled!\n",
        "\n",
        "df.head()"
      ]
    },
    {
      "cell_type": "markdown",
      "metadata": {
        "_cell_guid": "a59c8c8d-a4bc-4671-aa2f-9f959c142cde",
        "_uuid": "5119c4ea9e0b9031dbc5937b56323da224985024",
        "id": "ajC2drYUCV_4"
      },
      "source": [
        "### Splitting the Data (Original DataFrame)\n",
        "<a id=\"splitting\"></a>\n",
        "Before proceeding with the <b> Random UnderSampling technique</b> we have to separate the orginal dataframe. <b> Why? for testing purposes, remember although we are splitting the data when implementing Random UnderSampling or OverSampling techniques, we want to test our models on the original testing set not on the testing set created by either of these techniques.</b> The main goal is to fit the model either with the dataframes that were undersample and oversample (in order for our models to detect the patterns), and test it on the original testing set.  "
      ]
    },
    {
      "cell_type": "markdown",
      "metadata": {
        "_cell_guid": "956d34b9-e562-4b70-a2f8-fbe060273a83",
        "_uuid": "cc554c4ffec656cb38d01c034f2cd338e1cb4565",
        "id": "UWMYt3xCCV_8"
      },
      "source": [
        "## Random Under-Sampling:\n",
        "<img src=\"http://contrib.scikit-learn.org/imbalanced-learn/stable/_images/sphx_glr_plot_random_under_sampler_001.png\">\n",
        "\n",
        "In this phase of the project we will implement *\"Random Under Sampling\"* which basically consists of removing data in order to have a more <b> balanced dataset </b> and thus avoiding our models to overfitting.\n",
        "\n",
        "#### Steps:\n",
        "<ul>\n",
        "<li>The first thing we have to do is determine how <b>imbalanced</b> is our class (use \"value_counts()\" on the class column to determine the amount for each label)  </li>\n",
        "<li>Once we determine how many instances are considered <b>fraud transactions </b> (Fraud = \"1\") , we should bring the <b>non-fraud transactions</b> to the same amount as fraud transactions (assuming we want a 50/50 ratio), this will be equivalent to 473 cases of fraud and 473 cases of non-fraud transactions.  </li>\n",
        "<li> After implementing this technique, we have a sub-sample of our dataframe with a 50/50 ratio with regards to our classes. Then the next step we will implement is to <b>shuffle the data</b> to see if our models can maintain a certain accuracy everytime we run this script.</li>\n",
        "</ul>\n",
        "\n",
        "**Note:** The main issue with \"Random Under-Sampling\" is that we run the risk that our classification models will not perform as accurate as we would like to since there is a great deal of <b>information loss</b> (bringing 473 non-fraud transaction  from 284,315 non-fraud transaction)"
      ]
    },
    {
      "cell_type": "code",
      "execution_count": null,
      "metadata": {
        "_cell_guid": "f0acfc44-eb2a-4356-ad03-d0c12807acd7",
        "_kg_hide-input": true,
        "_uuid": "e3a2b89752681164f14c8273452fc66734d7f41b",
        "id": "v0fpc65-CV_9",
        "colab": {
          "base_uri": "https://localhost:8080/",
          "height": 299
        },
        "outputId": "8eafb862-5b11-4cbf-ccd3-eb6973d9fba9"
      },
      "outputs": [
        {
          "output_type": "execute_result",
          "data": {
            "text/plain": [
              "        scaled_amount  scaled_time        V1        V2        V3        V4  \\\n",
              "6331        -0.292032    -0.906846  0.008430  4.137837 -6.240697  6.675732   \n",
              "116139       0.764011    -0.123788 -1.548788  1.808698 -0.953509  2.213085   \n",
              "120049      -0.027813    -0.105772  1.185306  0.116352  0.415178  0.604033   \n",
              "30473       -0.104853    -0.572907 -4.194074  4.382897 -5.118363  4.455230   \n",
              "46918        8.705326    -0.490104 -4.423508  1.648048 -6.934388  4.894601   \n",
              "\n",
              "              V5        V6        V7        V8  ...       V20       V21  \\\n",
              "6331    0.768307 -3.353060 -1.631735  0.154612  ...  0.488378  0.364514   \n",
              "116139 -2.015728 -0.913457 -2.356013  1.197169  ...  0.390786  0.855138   \n",
              "120049 -0.306130 -0.486506 -0.014135 -0.080267  ... -0.084030 -0.026573   \n",
              "30473  -4.812621 -1.224645 -7.281328  3.332250  ...  0.579098  1.550473   \n",
              "46918  -5.078131  0.010849 -3.409096  1.409291  ... -0.562264  0.698359   \n",
              "\n",
              "             V22       V23       V24       V25       V26       V27       V28  \\\n",
              "6331   -0.608057 -0.539528  0.128940  1.488481  0.507963  0.735822  0.513574   \n",
              "116139  0.774745  0.059037  0.343200 -0.468938 -0.278338  0.625922  0.395573   \n",
              "120049 -0.036740  0.016874  0.119496  0.326615  0.332848 -0.016003  0.014783   \n",
              "30473   0.614573  0.028521  0.013704 -0.149512 -0.131687  0.473934  0.473757   \n",
              "46918   0.487478  1.228698 -0.535217  0.388278 -0.009466  2.300164  0.081231   \n",
              "\n",
              "        Class  \n",
              "6331        1  \n",
              "116139      1  \n",
              "120049      0  \n",
              "30473       1  \n",
              "46918       1  \n",
              "\n",
              "[5 rows x 31 columns]"
            ],
            "text/html": [
              "\n",
              "  <div id=\"df-2a06c0ba-9b28-46bb-96f5-7a57163288cc\">\n",
              "    <div class=\"colab-df-container\">\n",
              "      <div>\n",
              "<style scoped>\n",
              "    .dataframe tbody tr th:only-of-type {\n",
              "        vertical-align: middle;\n",
              "    }\n",
              "\n",
              "    .dataframe tbody tr th {\n",
              "        vertical-align: top;\n",
              "    }\n",
              "\n",
              "    .dataframe thead th {\n",
              "        text-align: right;\n",
              "    }\n",
              "</style>\n",
              "<table border=\"1\" class=\"dataframe\">\n",
              "  <thead>\n",
              "    <tr style=\"text-align: right;\">\n",
              "      <th></th>\n",
              "      <th>scaled_amount</th>\n",
              "      <th>scaled_time</th>\n",
              "      <th>V1</th>\n",
              "      <th>V2</th>\n",
              "      <th>V3</th>\n",
              "      <th>V4</th>\n",
              "      <th>V5</th>\n",
              "      <th>V6</th>\n",
              "      <th>V7</th>\n",
              "      <th>V8</th>\n",
              "      <th>...</th>\n",
              "      <th>V20</th>\n",
              "      <th>V21</th>\n",
              "      <th>V22</th>\n",
              "      <th>V23</th>\n",
              "      <th>V24</th>\n",
              "      <th>V25</th>\n",
              "      <th>V26</th>\n",
              "      <th>V27</th>\n",
              "      <th>V28</th>\n",
              "      <th>Class</th>\n",
              "    </tr>\n",
              "  </thead>\n",
              "  <tbody>\n",
              "    <tr>\n",
              "      <th>6331</th>\n",
              "      <td>-0.292032</td>\n",
              "      <td>-0.906846</td>\n",
              "      <td>0.008430</td>\n",
              "      <td>4.137837</td>\n",
              "      <td>-6.240697</td>\n",
              "      <td>6.675732</td>\n",
              "      <td>0.768307</td>\n",
              "      <td>-3.353060</td>\n",
              "      <td>-1.631735</td>\n",
              "      <td>0.154612</td>\n",
              "      <td>...</td>\n",
              "      <td>0.488378</td>\n",
              "      <td>0.364514</td>\n",
              "      <td>-0.608057</td>\n",
              "      <td>-0.539528</td>\n",
              "      <td>0.128940</td>\n",
              "      <td>1.488481</td>\n",
              "      <td>0.507963</td>\n",
              "      <td>0.735822</td>\n",
              "      <td>0.513574</td>\n",
              "      <td>1</td>\n",
              "    </tr>\n",
              "    <tr>\n",
              "      <th>116139</th>\n",
              "      <td>0.764011</td>\n",
              "      <td>-0.123788</td>\n",
              "      <td>-1.548788</td>\n",
              "      <td>1.808698</td>\n",
              "      <td>-0.953509</td>\n",
              "      <td>2.213085</td>\n",
              "      <td>-2.015728</td>\n",
              "      <td>-0.913457</td>\n",
              "      <td>-2.356013</td>\n",
              "      <td>1.197169</td>\n",
              "      <td>...</td>\n",
              "      <td>0.390786</td>\n",
              "      <td>0.855138</td>\n",
              "      <td>0.774745</td>\n",
              "      <td>0.059037</td>\n",
              "      <td>0.343200</td>\n",
              "      <td>-0.468938</td>\n",
              "      <td>-0.278338</td>\n",
              "      <td>0.625922</td>\n",
              "      <td>0.395573</td>\n",
              "      <td>1</td>\n",
              "    </tr>\n",
              "    <tr>\n",
              "      <th>120049</th>\n",
              "      <td>-0.027813</td>\n",
              "      <td>-0.105772</td>\n",
              "      <td>1.185306</td>\n",
              "      <td>0.116352</td>\n",
              "      <td>0.415178</td>\n",
              "      <td>0.604033</td>\n",
              "      <td>-0.306130</td>\n",
              "      <td>-0.486506</td>\n",
              "      <td>-0.014135</td>\n",
              "      <td>-0.080267</td>\n",
              "      <td>...</td>\n",
              "      <td>-0.084030</td>\n",
              "      <td>-0.026573</td>\n",
              "      <td>-0.036740</td>\n",
              "      <td>0.016874</td>\n",
              "      <td>0.119496</td>\n",
              "      <td>0.326615</td>\n",
              "      <td>0.332848</td>\n",
              "      <td>-0.016003</td>\n",
              "      <td>0.014783</td>\n",
              "      <td>0</td>\n",
              "    </tr>\n",
              "    <tr>\n",
              "      <th>30473</th>\n",
              "      <td>-0.104853</td>\n",
              "      <td>-0.572907</td>\n",
              "      <td>-4.194074</td>\n",
              "      <td>4.382897</td>\n",
              "      <td>-5.118363</td>\n",
              "      <td>4.455230</td>\n",
              "      <td>-4.812621</td>\n",
              "      <td>-1.224645</td>\n",
              "      <td>-7.281328</td>\n",
              "      <td>3.332250</td>\n",
              "      <td>...</td>\n",
              "      <td>0.579098</td>\n",
              "      <td>1.550473</td>\n",
              "      <td>0.614573</td>\n",
              "      <td>0.028521</td>\n",
              "      <td>0.013704</td>\n",
              "      <td>-0.149512</td>\n",
              "      <td>-0.131687</td>\n",
              "      <td>0.473934</td>\n",
              "      <td>0.473757</td>\n",
              "      <td>1</td>\n",
              "    </tr>\n",
              "    <tr>\n",
              "      <th>46918</th>\n",
              "      <td>8.705326</td>\n",
              "      <td>-0.490104</td>\n",
              "      <td>-4.423508</td>\n",
              "      <td>1.648048</td>\n",
              "      <td>-6.934388</td>\n",
              "      <td>4.894601</td>\n",
              "      <td>-5.078131</td>\n",
              "      <td>0.010849</td>\n",
              "      <td>-3.409096</td>\n",
              "      <td>1.409291</td>\n",
              "      <td>...</td>\n",
              "      <td>-0.562264</td>\n",
              "      <td>0.698359</td>\n",
              "      <td>0.487478</td>\n",
              "      <td>1.228698</td>\n",
              "      <td>-0.535217</td>\n",
              "      <td>0.388278</td>\n",
              "      <td>-0.009466</td>\n",
              "      <td>2.300164</td>\n",
              "      <td>0.081231</td>\n",
              "      <td>1</td>\n",
              "    </tr>\n",
              "  </tbody>\n",
              "</table>\n",
              "<p>5 rows × 31 columns</p>\n",
              "</div>\n",
              "      <button class=\"colab-df-convert\" onclick=\"convertToInteractive('df-2a06c0ba-9b28-46bb-96f5-7a57163288cc')\"\n",
              "              title=\"Convert this dataframe to an interactive table.\"\n",
              "              style=\"display:none;\">\n",
              "        \n",
              "  <svg xmlns=\"http://www.w3.org/2000/svg\" height=\"24px\"viewBox=\"0 0 24 24\"\n",
              "       width=\"24px\">\n",
              "    <path d=\"M0 0h24v24H0V0z\" fill=\"none\"/>\n",
              "    <path d=\"M18.56 5.44l.94 2.06.94-2.06 2.06-.94-2.06-.94-.94-2.06-.94 2.06-2.06.94zm-11 1L8.5 8.5l.94-2.06 2.06-.94-2.06-.94L8.5 2.5l-.94 2.06-2.06.94zm10 10l.94 2.06.94-2.06 2.06-.94-2.06-.94-.94-2.06-.94 2.06-2.06.94z\"/><path d=\"M17.41 7.96l-1.37-1.37c-.4-.4-.92-.59-1.43-.59-.52 0-1.04.2-1.43.59L10.3 9.45l-7.72 7.72c-.78.78-.78 2.05 0 2.83L4 21.41c.39.39.9.59 1.41.59.51 0 1.02-.2 1.41-.59l7.78-7.78 2.81-2.81c.8-.78.8-2.07 0-2.86zM5.41 20L4 18.59l7.72-7.72 1.47 1.35L5.41 20z\"/>\n",
              "  </svg>\n",
              "      </button>\n",
              "      \n",
              "  <style>\n",
              "    .colab-df-container {\n",
              "      display:flex;\n",
              "      flex-wrap:wrap;\n",
              "      gap: 12px;\n",
              "    }\n",
              "\n",
              "    .colab-df-convert {\n",
              "      background-color: #E8F0FE;\n",
              "      border: none;\n",
              "      border-radius: 50%;\n",
              "      cursor: pointer;\n",
              "      display: none;\n",
              "      fill: #1967D2;\n",
              "      height: 32px;\n",
              "      padding: 0 0 0 0;\n",
              "      width: 32px;\n",
              "    }\n",
              "\n",
              "    .colab-df-convert:hover {\n",
              "      background-color: #E2EBFA;\n",
              "      box-shadow: 0px 1px 2px rgba(60, 64, 67, 0.3), 0px 1px 3px 1px rgba(60, 64, 67, 0.15);\n",
              "      fill: #174EA6;\n",
              "    }\n",
              "\n",
              "    [theme=dark] .colab-df-convert {\n",
              "      background-color: #3B4455;\n",
              "      fill: #D2E3FC;\n",
              "    }\n",
              "\n",
              "    [theme=dark] .colab-df-convert:hover {\n",
              "      background-color: #434B5C;\n",
              "      box-shadow: 0px 1px 3px 1px rgba(0, 0, 0, 0.15);\n",
              "      filter: drop-shadow(0px 1px 2px rgba(0, 0, 0, 0.3));\n",
              "      fill: #FFFFFF;\n",
              "    }\n",
              "  </style>\n",
              "\n",
              "      <script>\n",
              "        const buttonEl =\n",
              "          document.querySelector('#df-2a06c0ba-9b28-46bb-96f5-7a57163288cc button.colab-df-convert');\n",
              "        buttonEl.style.display =\n",
              "          google.colab.kernel.accessAllowed ? 'block' : 'none';\n",
              "\n",
              "        async function convertToInteractive(key) {\n",
              "          const element = document.querySelector('#df-2a06c0ba-9b28-46bb-96f5-7a57163288cc');\n",
              "          const dataTable =\n",
              "            await google.colab.kernel.invokeFunction('convertToInteractive',\n",
              "                                                     [key], {});\n",
              "          if (!dataTable) return;\n",
              "\n",
              "          const docLinkHtml = 'Like what you see? Visit the ' +\n",
              "            '<a target=\"_blank\" href=https://colab.research.google.com/notebooks/data_table.ipynb>data table notebook</a>'\n",
              "            + ' to learn more about interactive tables.';\n",
              "          element.innerHTML = '';\n",
              "          dataTable['output_type'] = 'display_data';\n",
              "          await google.colab.output.renderOutput(dataTable, element);\n",
              "          const docLink = document.createElement('div');\n",
              "          docLink.innerHTML = docLinkHtml;\n",
              "          element.appendChild(docLink);\n",
              "        }\n",
              "      </script>\n",
              "    </div>\n",
              "  </div>\n",
              "  "
            ]
          },
          "metadata": {},
          "execution_count": 417
        }
      ],
      "source": [
        "# Since our classes are highly skewed we should make them equivalent in order to have a normal distribution of the classes.\n",
        "\n",
        "# Lets shuffle the data before creating the subsamples\n",
        "\n",
        "df = df.sample(frac=1)\n",
        "\n",
        "# amount of fraud classes 473 rows.\n",
        "fraud_df = df.loc[df['Class'] == 1]\n",
        "non_fraud_df = df.loc[df['Class'] == 0][:473]\n",
        "\n",
        "normal_distributed_df = pd.concat([fraud_df, non_fraud_df])\n",
        "\n",
        "# Shuffle dataframe rows\n",
        "new_df = normal_distributed_df.sample(frac=1, random_state=42)\n",
        "\n",
        "new_df.head()"
      ]
    },
    {
      "cell_type": "code",
      "source": [
        "len(fraud_df)"
      ],
      "metadata": {
        "id": "G0w05SKZy6fg",
        "colab": {
          "base_uri": "https://localhost:8080/"
        },
        "outputId": "0a2fa444-3d40-4f1e-bb9a-a696ddbae4e4"
      },
      "execution_count": null,
      "outputs": [
        {
          "output_type": "execute_result",
          "data": {
            "text/plain": [
              "473"
            ]
          },
          "metadata": {},
          "execution_count": 418
        }
      ]
    },
    {
      "cell_type": "markdown",
      "metadata": {
        "_cell_guid": "77198464-c0f8-4694-ac0b-4b29b94d0da3",
        "_uuid": "b6818122806657e7accb8be1f4bf17086bb9b149",
        "id": "kC-KbW08CV_-"
      },
      "source": [
        "##  Equally Distributing and Correlating: \n",
        "<a id=\"correlating\"></a>\n",
        "Now that we have our dataframe correctly balanced, we can go further with our <b>analysis</b> and <b>data preprocessing</b>."
      ]
    },
    {
      "cell_type": "code",
      "execution_count": null,
      "metadata": {
        "_cell_guid": "73454100-dc69-49fd-b1b2-f72e326bca5d",
        "_kg_hide-input": true,
        "_uuid": "68b42e92df59f10fbd3ba700389796c4506af604",
        "id": "H51wkg27CWAA",
        "colab": {
          "base_uri": "https://localhost:8080/",
          "height": 451
        },
        "outputId": "079e0f2e-e37b-4594-8760-b887e55ccb8b"
      },
      "outputs": [
        {
          "output_type": "stream",
          "name": "stdout",
          "text": [
            "Distribution of the Classes in the subsample dataset\n",
            "1    0.5\n",
            "0    0.5\n",
            "Name: Class, dtype: float64\n"
          ]
        },
        {
          "output_type": "display_data",
          "data": {
            "text/plain": [
              "<Figure size 576x396 with 1 Axes>"
            ],
            "image/png": "[encoded data removed]"
          },
          "metadata": {}
        }
      ],
      "source": [
        "print('Distribution of the Classes in the subsample dataset')\n",
        "print(new_df['Class'].value_counts()/len(new_df))\n",
        "\n",
        "\n",
        "\n",
        "sns.countplot('Class', data=new_df, palette=colors)\n",
        "plt.title('Equally Distributed Classes', fontsize=14)\n",
        "plt.show()"
      ]
    },
    {
      "cell_type": "markdown",
      "metadata": {
        "_cell_guid": "0abc31ee-a78e-43af-822f-f06772d00c1c",
        "_uuid": "88477bac6687f110e9d64ec22837c250d85d2a2b",
        "id": "n2e3OChDCWAB"
      },
      "source": [
        "\n",
        "\n",
        "\n",
        "\n",
        "\n",
        "\n",
        "\n",
        "\n",
        "\n",
        "\n",
        "\n",
        "\n",
        "\n",
        "\n",
        "\n",
        "\n",
        "\n",
        "\n",
        "\n",
        "\n",
        "\n",
        "\n",
        "\n",
        "\n",
        "\n",
        "<h3> Correlation Matrices </h3>\n",
        "Correlation matrices are the essence of understanding our data. We want to know if there are features that influence heavily in whether a specific transaction is a fraud. However, it is important that we use the correct dataframe (subsample)  in order for us to see which features have a high positive or negative correlation with regards to fraud transactions.\n",
        "\n",
        "### Summary and Explanation: \n",
        "<ul>\n",
        "<li><b>Negative Correlations: </b>V17, V14, V12 and V10 are negatively correlated. Notice how the lower these values are, the more likely the end result will be a fraud transaction.  </li>\n",
        "<li> <b> Positive Correlations: </b> V2, V4, V11, and V19 are positively correlated. Notice how the higher these values are, the more likely the end result will be a fraud transaction. </li>\n",
        "<li> <b>BoxPlots: </b>  We will use boxplots to have a better understanding of the distribution of these features in fradulent and non fradulent transactions. </li>\n",
        "</ul>\n",
        "\n",
        "\n",
        "**Note: ** We have to make sure we use the subsample in our correlation matrix or else our correlation matrix will be affected by the high imbalance between our classes. This occurs due to the high class imbalance in the original dataframe."
      ]
    },
    {
      "cell_type": "code",
      "execution_count": null,
      "metadata": {
        "_cell_guid": "9f353623-9435-4bb2-b854-b4a201ec7dd9",
        "_kg_hide-input": true,
        "_uuid": "e2f417c5d7c633a1e3cdfaa78acd6bd77a38400e",
        "id": "73-ZNR4sCWAD",
        "colab": {
          "base_uri": "https://localhost:8080/",
          "height": 1000
        },
        "outputId": "94e47b67-f721-4b27-ac1c-9e232e75c7f7"
      },
      "outputs": [
        {
          "output_type": "display_data",
          "data": {
            "text/plain": [
              "<Figure size 1728x1440 with 4 Axes>"
            ],
            "image/png": "[encoded data removed]"
          },
          "metadata": {}
        }
      ],
      "source": [
        "# Make sure we use the subsample in our correlation\n",
        "\n",
        "f, (ax1, ax2) = plt.subplots(2, 1, figsize=(24,20))\n",
        "\n",
        "# Entire DataFrame\n",
        "corr = df.corr()\n",
        "sns.heatmap(corr, cmap='coolwarm_r', annot_kws={'size':20}, ax=ax1)\n",
        "ax1.set_title(\"Imbalanced Correlation Matrix \\n (don't use for reference)\", fontsize=14)\n",
        "\n",
        "\n",
        "sub_sample_corr = new_df.corr()\n",
        "sns.heatmap(sub_sample_corr, cmap='coolwarm_r', annot_kws={'size':20}, ax=ax2)\n",
        "ax2.set_title('SubSample Correlation Matrix \\n (use for reference)', fontsize=14)\n",
        "plt.show()"
      ]
    },
    {
      "cell_type": "code",
      "execution_count": null,
      "metadata": {
        "_cell_guid": "2f02c21f-daa3-4251-a8e9-acad09a5ce0f",
        "_kg_hide-input": true,
        "_uuid": "318d0e7e0443f99139be21c00a7abc663be26385",
        "id": "r5_z91i1CWAF",
        "colab": {
          "base_uri": "https://localhost:8080/",
          "height": 294
        },
        "outputId": "53840a8b-f3bf-4605-cd51-c1fe7a09fcc9"
      },
      "outputs": [
        {
          "output_type": "display_data",
          "data": {
            "text/plain": [
              "<Figure size 1440x288 with 4 Axes>"
            ],
            "image/png": "[encoded data removed]"
          },
          "metadata": {}
        }
      ],
      "source": [
        "f, axes = plt.subplots(ncols=4, figsize=(20,4))\n",
        "\n",
        "# Negative Correlations with our Class (The lower our feature value the more likely it will be a fraud transaction)\n",
        "sns.boxplot(x=\"Class\", y=\"V17\", data=new_df, palette=colors, ax=axes[0])\n",
        "axes[0].set_title('V17 vs Class Negative Correlation')\n",
        "\n",
        "sns.boxplot(x=\"Class\", y=\"V14\", data=new_df, palette=colors, ax=axes[1])\n",
        "axes[1].set_title('V14 vs Class Negative Correlation')\n",
        "\n",
        "\n",
        "sns.boxplot(x=\"Class\", y=\"V12\", data=new_df, palette=colors, ax=axes[2])\n",
        "axes[2].set_title('V12 vs Class Negative Correlation')\n",
        "\n",
        "\n",
        "sns.boxplot(x=\"Class\", y=\"V10\", data=new_df, palette=colors, ax=axes[3])\n",
        "axes[3].set_title('V10 vs Class Negative Correlation')\n",
        "\n",
        "plt.show()"
      ]
    },
    {
      "cell_type": "code",
      "execution_count": null,
      "metadata": {
        "_cell_guid": "b457b10e-c17c-4cb2-9719-6d4128377c9f",
        "_kg_hide-input": true,
        "_uuid": "7bfc46c028f8602ee949de83629082633aa47b2c",
        "id": "JzLG3RNlCWAG",
        "colab": {
          "base_uri": "https://localhost:8080/",
          "height": 294
        },
        "outputId": "2592ed74-ad23-4b67-ee2e-2f738ce79f80"
      },
      "outputs": [
        {
          "output_type": "display_data",
          "data": {
            "text/plain": [
              "<Figure size 1440x288 with 4 Axes>"
            ],
            "image/png": "[encoded data removed]"
          },
          "metadata": {}
        }
      ],
      "source": [
        "f, axes = plt.subplots(ncols=4, figsize=(20,4))\n",
        "\n",
        "# Positive correlations (The higher the feature the probability increases that it will be a fraud transaction)\n",
        "sns.boxplot(x=\"Class\", y=\"V11\", data=new_df, palette=colors, ax=axes[0])\n",
        "axes[0].set_title('V11 vs Class Positive Correlation')\n",
        "\n",
        "sns.boxplot(x=\"Class\", y=\"V4\", data=new_df, palette=colors, ax=axes[1])\n",
        "axes[1].set_title('V4 vs Class Positive Correlation')\n",
        "\n",
        "\n",
        "sns.boxplot(x=\"Class\", y=\"V2\", data=new_df, palette=colors, ax=axes[2])\n",
        "axes[2].set_title('V2 vs Class Positive Correlation')\n",
        "\n",
        "\n",
        "sns.boxplot(x=\"Class\", y=\"V19\", data=new_df, palette=colors, ax=axes[3])\n",
        "axes[3].set_title('V19 vs Class Positive Correlation')\n",
        "\n",
        "plt.show()"
      ]
    },
    {
      "cell_type": "markdown",
      "metadata": {
        "_cell_guid": "93e56c89-185e-40d2-9ccc-29b123feb5a6",
        "_uuid": "a721282c0f44ec8030bbad6d0220091bde8cbec8",
        "id": "eSANMk9_CWAH"
      },
      "source": [
        "## Anomaly Detection:\n",
        "<a id=\"anomaly\"></a>\n",
        "<img src=\"https://discourse-cdn-sjc1.com/business6/uploads/analyticsvidhya/original/2X/d/d11281b44c2e440b36aaf29156b5032105d2d06b.png\">\n",
        "\n",
        "\n",
        "Our main aim in this section is to remove \"extreme outliers\" from features that have a high correlation with our classes. This will have a positive impact on the accuracy of our models.  <br><br>\n",
        "\n",
        "\n",
        "### Interquartile Range Method:\n",
        "<ul>\n",
        "<li> <b>Interquartile Range (IQR): </b> We calculate this by the difference between the 75th percentile and 25th percentile. Our aim is to create a threshold beyond the 75th and 25th percentile that in case some instance pass this threshold the instance will be deleted.  </li>\n",
        "<li> <b>Boxplots: </b> Besides easily seeing the 25th and 75th percentiles (both end of the squares) it is also easy to see extreme outliers (points beyond the lower and higher extreme). </li>\n",
        "</ul>\n",
        "\n",
        "### Outlier Removal Tradeoff:\n",
        "We have to be careful as to how far do we want the threshold for removing outliers. We determine the threshold by multiplying a number (ex: 1.5) by the (Interquartile Range). The higher this threshold is, the less outliers will detect (multiplying by a higher number ex: 3), and the lower this threshold is the more outliers it will detect.  <br><br>\n",
        "\n",
        "**The Tradeoff: **\n",
        "The lower the threshold the more outliers it will remove however, we want to focus more on \"extreme outliers\" rather than just outliers. Why? because we might run the risk of information loss which will cause our models to have a lower accuracy. You can play with this threshold and see how it affects the accuracy of our classification models.\n",
        "\n",
        "\n",
        "### Summary:\n",
        "<ul>\n",
        "<li> <b> Visualize Distributions: </b> We first start by visualizing the distribution of the feature we are going to use to eliminate some of the outliers. V14 is the only feature that has a Gaussian distribution compared to features V12 and V10. </li>\n",
        "<li><b>Determining the threshold: </b> After we decide which number we will use to multiply with the iqr (the lower more outliers removed), we will proceed in determining the upper and lower thresholds by substrating q25 - threshold (lower extreme threshold) and adding q75 + threshold (upper extreme threshold). </li>\n",
        "<li> <b>Conditional Dropping: </b> Lastly, we create a conditional dropping stating that if the \"threshold\" is exceeded in both extremes, the instances will be removed. </li>\n",
        "<li> <b> Boxplot Representation: </b> Visualize through the boxplot that the number of \"extreme outliers\" have been reduced to a considerable amount. </li>\n",
        "</ul>\n",
        "\n",
        "**Note:** After implementing outlier reduction our accuracy has been improved by over 3%! Some outliers can distort the accuracy of our models but remember, we have to avoid an extreme amount of information loss or else our model runs the risk of underfitting.\n"
      ]
    },
    {
      "cell_type": "code",
      "execution_count": null,
      "metadata": {
        "_cell_guid": "9c690dfa-8fed-44e5-99f5-ff4eb6f87f16",
        "_kg_hide-input": true,
        "_uuid": "b6963900379db5b0d4adf92f8c7f959164e9119f",
        "id": "2BQNMu-cCWAJ",
        "colab": {
          "base_uri": "https://localhost:8080/",
          "height": 407
        },
        "outputId": "4ac2c959-75c7-42bf-91ae-063a809ca31d"
      },
      "outputs": [
        {
          "output_type": "display_data",
          "data": {
            "text/plain": [
              "<Figure size 1440x432 with 3 Axes>"
            ],
            "image/png": "[encoded data removed]"
          },
          "metadata": {}
        }
      ],
      "source": [
        "from scipy.stats import norm\n",
        "\n",
        "f, (ax1, ax2, ax3) = plt.subplots(1,3, figsize=(20, 6))\n",
        "\n",
        "v14_fraud_dist = new_df['V14'].loc[new_df['Class'] == 1].values\n",
        "sns.distplot(v14_fraud_dist,ax=ax1, fit=norm, color='#FB8861')\n",
        "ax1.set_title('V14 Distribution \\n (Fraud Transactions)', fontsize=14)\n",
        "\n",
        "v12_fraud_dist = new_df['V12'].loc[new_df['Class'] == 1].values\n",
        "sns.distplot(v12_fraud_dist,ax=ax2, fit=norm, color='#56F9BB')\n",
        "ax2.set_title('V12 Distribution \\n (Fraud Transactions)', fontsize=14)\n",
        "\n",
        "\n",
        "v10_fraud_dist = new_df['V10'].loc[new_df['Class'] == 1].values\n",
        "sns.distplot(v10_fraud_dist,ax=ax3, fit=norm, color='#C5B3F9')\n",
        "ax3.set_title('V10 Distribution \\n (Fraud Transactions)', fontsize=14)\n",
        "\n",
        "plt.show()"
      ]
    },
    {
      "cell_type": "code",
      "execution_count": null,
      "metadata": {
        "_cell_guid": "2e19fe33-f85a-4ffd-8e4a-807d0e0fb992",
        "_kg_hide-input": true,
        "_uuid": "21e43406e62a9561fba2f065ce15a8d87a1bf389",
        "id": "JmrFH9VeCWAK",
        "colab": {
          "base_uri": "https://localhost:8080/"
        },
        "outputId": "71250903-80e7-4a6e-f4fb-b38b4703e2cc"
      },
      "outputs": [
        {
          "output_type": "stream",
          "name": "stdout",
          "text": [
            "Quartile 25: -9.50514082568186 | Quartile 75: -4.25246559869278\n",
            "iqr: 5.25267522698908\n",
            "Cut Off: 7.87901284048362\n",
            "V14 Lower: -17.38415366616548\n",
            "V14 Upper: 3.62654724179084\n",
            "Feature V14 Outliers for Fraud Cases: 7\n",
            "V14 outliers:[-17.7216383537133, -19.2143254902614, -18.0499976898594, -18.8220867423816, -18.4937733551053, -17.6206343516773, -17.4759212828566]\n",
            "Number of Instances after outliers removal: 938\n",
            "--------------------------------------------------------------------------------------------------------------------------------------------------------------------------------\n",
            "V12 Lower: -16.971245282033493\n",
            "V12 Upper: 5.672071569485119\n",
            "V12 outliers: [-18.6837146333443, -17.003289445516, -17.1504052507291, -18.0475965708216, -17.1829184301947, -18.4311310279993, -18.5536970096458]\n",
            "Feature V12 Outliers for Fraud Cases: 7\n",
            "Number of Instances after outliers removal: 931\n",
            "--------------------------------------------------------------------------------------------------------------------------------------------------------------------------------\n",
            "V10 Lower: -13.565483550728938\n",
            "V10 Upper: 4.427401646386163\n",
            "V10 outliers: [-24.5882624372475, -14.166794659606, -16.6011969664137, -22.1870885620007, -19.836148851696, -18.9132433348732, -13.6081431627279, -16.2556117491401, -13.6705451263516, -16.6496281595399, -23.2282548357516, -15.1237521803455, -24.4031849699728, -15.1241628144947, -15.3460988468775, -14.2266980575287, -14.6764702497464, -14.5571590528859, -15.5637913387301, -18.2711681738888, -16.3035376590131, -14.9246547735487, -20.9491915543611, -15.2318333653018, -16.7460441053944, -15.2399619587112, -14.1101844415457, -14.5331616869738, -17.1415136412892]\n",
            "Feature V10 Outliers for Fraud Cases: 29\n",
            "Number of Instances after outliers removal: 898\n"
          ]
        }
      ],
      "source": [
        "# # -----> V14 Removing Outliers (Highest Negative Correlated with Labels)\n",
        "v14_fraud = new_df['V14'].loc[new_df['Class'] == 1].values\n",
        "q25, q75 = np.percentile(v14_fraud, 25), np.percentile(v14_fraud, 75)\n",
        "print('Quartile 25: {} | Quartile 75: {}'.format(q25, q75))\n",
        "v14_iqr = q75 - q25\n",
        "print('iqr: {}'.format(v14_iqr))\n",
        "\n",
        "v14_cut_off = v14_iqr * 1.5\n",
        "v14_lower, v14_upper = q25 - v14_cut_off, q75 + v14_cut_off\n",
        "print('Cut Off: {}'.format(v14_cut_off))\n",
        "print('V14 Lower: {}'.format(v14_lower))\n",
        "print('V14 Upper: {}'.format(v14_upper))\n",
        "\n",
        "outliers = [x for x in v14_fraud if x < v14_lower or x > v14_upper]\n",
        "print('Feature V14 Outliers for Fraud Cases: {}'.format(len(outliers)))\n",
        "print('V14 outliers:{}'.format(outliers))\n",
        "\n",
        "new_df = new_df.drop(new_df[(new_df['V14'] > v14_upper) | (new_df['V14'] < v14_lower)].index)\n",
        "print('Number of Instances after outliers removal: {}'.format(len(new_df)))\n",
        "print('----' * 44)\n",
        "\n",
        "# -----> V12 removing outliers from fraud transactions\n",
        "v12_fraud = new_df['V12'].loc[new_df['Class'] == 1].values\n",
        "q25, q75 = np.percentile(v12_fraud, 25), np.percentile(v12_fraud, 75)\n",
        "v12_iqr = q75 - q25\n",
        "\n",
        "v12_cut_off = v12_iqr * 1.5\n",
        "v12_lower, v12_upper = q25 - v12_cut_off, q75 + v12_cut_off\n",
        "print('V12 Lower: {}'.format(v12_lower))\n",
        "print('V12 Upper: {}'.format(v12_upper))\n",
        "outliers = [x for x in v12_fraud if x < v12_lower or x > v12_upper]\n",
        "print('V12 outliers: {}'.format(outliers))\n",
        "print('Feature V12 Outliers for Fraud Cases: {}'.format(len(outliers)))\n",
        "new_df = new_df.drop(new_df[(new_df['V12'] > v12_upper) | (new_df['V12'] < v12_lower)].index)\n",
        "print('Number of Instances after outliers removal: {}'.format(len(new_df)))\n",
        "print('----' * 44)\n",
        "\n",
        "\n",
        "# Removing outliers V10 Feature\n",
        "v10_fraud = new_df['V10'].loc[new_df['Class'] == 1].values\n",
        "q25, q75 = np.percentile(v10_fraud, 25), np.percentile(v10_fraud, 75)\n",
        "v10_iqr = q75 - q25\n",
        "\n",
        "v10_cut_off = v10_iqr * 1.5\n",
        "v10_lower, v10_upper = q25 - v10_cut_off, q75 + v10_cut_off\n",
        "print('V10 Lower: {}'.format(v10_lower))\n",
        "print('V10 Upper: {}'.format(v10_upper))\n",
        "outliers = [x for x in v10_fraud if x < v10_lower or x > v10_upper]\n",
        "print('V10 outliers: {}'.format(outliers))\n",
        "print('Feature V10 Outliers for Fraud Cases: {}'.format(len(outliers)))\n",
        "new_df = new_df.drop(new_df[(new_df['V10'] > v10_upper) | (new_df['V10'] < v10_lower)].index)\n",
        "print('Number of Instances after outliers removal: {}'.format(len(new_df)))"
      ]
    },
    {
      "cell_type": "code",
      "execution_count": null,
      "metadata": {
        "_cell_guid": "66e44398-7c91-4cce-9778-4512cb838973",
        "_kg_hide-input": true,
        "_uuid": "ac80d9cfb07f1865094a8d460ae801750e93d694",
        "id": "lgEvEe-sCWAL",
        "colab": {
          "base_uri": "https://localhost:8080/",
          "height": 428
        },
        "outputId": "82f3575b-6c78-4279-9f39-1e1d970219b2"
      },
      "outputs": [
        {
          "output_type": "display_data",
          "data": {
            "text/plain": [
              "<Figure size 1440x432 with 3 Axes>"
            ],
            "image/png": "[encoded data removed]"
          },
          "metadata": {}
        }
      ],
      "source": [
        "f,(ax1, ax2, ax3) = plt.subplots(1, 3, figsize=(20,6))\n",
        "\n",
        "colors = ['#B3F9C5', '#f9c5b3']\n",
        "# Boxplots with outliers removed\n",
        "# Feature V14\n",
        "sns.boxplot(x=\"Class\", y=\"V14\", data=new_df,ax=ax1, palette=colors)\n",
        "ax1.set_title(\"V14 Feature \\n Reduction of outliers\", fontsize=14)\n",
        "ax1.annotate('Fewer extreme \\n outliers', xy=(0.98, -17.5), xytext=(0, -12),\n",
        "            arrowprops=dict(facecolor='black'),\n",
        "            fontsize=14)\n",
        "\n",
        "# Feature 12\n",
        "sns.boxplot(x=\"Class\", y=\"V12\", data=new_df, ax=ax2, palette=colors)\n",
        "ax2.set_title(\"V12 Feature \\n Reduction of outliers\", fontsize=14)\n",
        "ax2.annotate('Fewer extreme \\n outliers', xy=(0.98, -17.3), xytext=(0, -12),\n",
        "            arrowprops=dict(facecolor='black'),\n",
        "            fontsize=14)\n",
        "\n",
        "# Feature V10\n",
        "sns.boxplot(x=\"Class\", y=\"V10\", data=new_df, ax=ax3, palette=colors)\n",
        "ax3.set_title(\"V10 Feature \\n Reduction of outliers\", fontsize=14)\n",
        "ax3.annotate('Fewer extreme \\n outliers', xy=(0.95, -16.5), xytext=(0, -12),\n",
        "            arrowprops=dict(facecolor='black'),\n",
        "            fontsize=14)\n",
        "\n",
        "\n",
        "plt.show()"
      ]
    },
    {
      "cell_type": "markdown",
      "metadata": {
        "_cell_guid": "cb2c480a-090a-4cfb-b12e-3b74c325826c",
        "_uuid": "1b63bfd92008043cc1a336f924c835e73792f6d8",
        "id": "ukQ8oHN2CWAP"
      },
      "source": [
        "<h2> Classifiers (UnderSampling):  </h2>\n",
        "<a id=\"classifiers\"></a>\n",
        "In this section we will train four types of classifiers and decide which classifier will be more effective in detecting <b>fraud transactions</b>.  Before we have to split our data into training and testing sets and separate the features from the labels.\n",
        "\n",
        "## Summary: \n",
        "<ul>\n",
        "<li> <b> Logistic Regression </b> classifier is more accurate than the other three classifiers in most cases. (We will further analyze Logistic Regression) </li>\n",
        "<li><b> GridSearchCV </b> is used to determine the paremeters that gives the best predictive score for the classifiers. </li>\n",
        "<li> Logistic Regression has the best Receiving Operating Characteristic score  (ROC), meaning that LogisticRegression pretty accurately separates <b> fraud </b> and <b> non-fraud </b> transactions.</li>\n",
        "</ul>\n",
        "\n",
        "## Learning Curves:\n",
        "<ul>\n",
        "<li>The <b>wider the  gap</b>  between the training score and the cross validation score, the more likely your model is <b>overfitting (high variance)</b>.</li>\n",
        "<li> If the score is low in both training and cross-validation sets</b> this is an indication that our model is <b>underfitting (high bias)</b></li>\n",
        "<li><b> Logistic Regression Classifier</b>  shows the best score in both training and cross-validating sets.</li>\n",
        "</ul>"
      ]
    },
    {
      "cell_type": "code",
      "execution_count": null,
      "metadata": {
        "_cell_guid": "85ce8738-7599-4b06-a722-5c0ed073599b",
        "_kg_hide-input": true,
        "_uuid": "e3751d88766a982119e522e27a9c0c647f20af85",
        "id": "KykxXXbcCWAQ"
      },
      "outputs": [],
      "source": [
        "# Undersampling before cross validating (prone to overfit)\n",
        "X = new_df.drop('Class', axis=1)\n",
        "y = new_df['Class']"
      ]
    },
    {
      "cell_type": "code",
      "execution_count": null,
      "metadata": {
        "_cell_guid": "288a65b7-8b86-44b1-973d-38dbcfe82bbb",
        "_kg_hide-input": true,
        "_uuid": "fb0a479efaa7147d6702c2c24083f1118621863f",
        "id": "mT4hsvu9CWAR"
      },
      "outputs": [],
      "source": [
        "# Our data is already scaled we should split our training and test sets\n",
        "from sklearn.model_selection import train_test_split\n",
        "\n",
        "# This is explicitly used for undersampling.\n",
        "X_train, X_test, y_train, y_test = train_test_split(X, y, test_size=0.2, random_state=42)"
      ]
    },
    {
      "cell_type": "code",
      "source": [
        "# from yellowbrick.model_selection import feature_importances\n",
        "# from sklearn.ensemble import GradientBoostingClassifier\n",
        "# visualizer = feature_importances(GradientBoostingClassifier(),X_train,y_train,topn=10,random_state = 32)\n",
        "# visualizer.show()"
      ],
      "metadata": {
        "id": "8iXKJmnw5njW"
      },
      "execution_count": null,
      "outputs": []
    },
    {
      "cell_type": "markdown",
      "source": [
        "![image.png](data:image/png;base64,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)"
      ],
      "metadata": {
        "id": "HoMDxaY-ztdK"
      }
    },
    {
      "cell_type": "code",
      "source": [
        "new_X_train = X_train[['V14','V4','V10','V12','V19','V7','V9','V27','V13','V11']]\n",
        "new_X_test =  X_test[['V14','V4','V10','V12','V19','V7','V9','V27','V13','V11']]"
      ],
      "metadata": {
        "id": "iQ2V9fnL7t-t"
      },
      "execution_count": null,
      "outputs": []
    },
    {
      "cell_type": "code",
      "source": [
        "new_X_train.describe()"
      ],
      "metadata": {
        "id": "E-VYnzIp8dfF",
        "colab": {
          "base_uri": "https://localhost:8080/",
          "height": 300
        },
        "outputId": "6aedf891-732c-4044-8ed4-5b5b6a84f1af"
      },
      "execution_count": null,
      "outputs": [
        {
          "output_type": "execute_result",
          "data": {
            "text/plain": [
              "              V14          V4         V10         V12         V19          V7  \\\n",
              "count  718.000000  718.000000  718.000000  718.000000  718.000000  718.000000   \n",
              "mean    -2.954872    1.887570   -2.012694   -2.445721    0.264731   -1.714605   \n",
              "std      4.217398    2.859554    3.230690    3.753940    1.212556    3.862912   \n",
              "min    -17.230202   -3.621309  -13.261652  -16.388054   -3.681904  -21.922811   \n",
              "25%     -6.096319   -0.135881   -3.896223   -4.598156   -0.443196   -2.310839   \n",
              "50%     -0.688867    1.155324   -0.576623   -0.624383    0.189308   -0.472796   \n",
              "75%      0.228752    3.774772    0.083044    0.272108    0.896765    0.324130   \n",
              "max      3.442422   11.906170    3.459813    2.085289    4.851255    5.802537   \n",
              "\n",
              "               V9         V27         V13         V11  \n",
              "count  718.000000  718.000000  718.000000  718.000000  \n",
              "mean    -0.994827    0.145094   -0.075401    1.543432  \n",
              "std      1.796343    0.673008    1.037137    2.454387  \n",
              "min     -7.930900   -3.908080   -3.127795   -2.157087  \n",
              "25%     -1.835779   -0.051918   -0.873243   -0.316075  \n",
              "50%     -0.667945    0.040039   -0.064713    0.881957  \n",
              "75%      0.163667    0.414671    0.659264    3.061598  \n",
              "max      3.491035    3.052358    3.117502   11.027059  "
            ],
            "text/html": [
              "\n",
              "  <div id=\"df-bdd11618-4ee8-4696-9dfa-8659d4dfa024\">\n",
              "    <div class=\"colab-df-container\">\n",
              "      <div>\n",
              "<style scoped>\n",
              "    .dataframe tbody tr th:only-of-type {\n",
              "        vertical-align: middle;\n",
              "    }\n",
              "\n",
              "    .dataframe tbody tr th {\n",
              "        vertical-align: top;\n",
              "    }\n",
              "\n",
              "    .dataframe thead th {\n",
              "        text-align: right;\n",
              "    }\n",
              "</style>\n",
              "<table border=\"1\" class=\"dataframe\">\n",
              "  <thead>\n",
              "    <tr style=\"text-align: right;\">\n",
              "      <th></th>\n",
              "      <th>V14</th>\n",
              "      <th>V4</th>\n",
              "      <th>V10</th>\n",
              "      <th>V12</th>\n",
              "      <th>V19</th>\n",
              "      <th>V7</th>\n",
              "      <th>V9</th>\n",
              "      <th>V27</th>\n",
              "      <th>V13</th>\n",
              "      <th>V11</th>\n",
              "    </tr>\n",
              "  </thead>\n",
              "  <tbody>\n",
              "    <tr>\n",
              "      <th>count</th>\n",
              "      <td>718.000000</td>\n",
              "      <td>718.000000</td>\n",
              "      <td>718.000000</td>\n",
              "      <td>718.000000</td>\n",
              "      <td>718.000000</td>\n",
              "      <td>718.000000</td>\n",
              "      <td>718.000000</td>\n",
              "      <td>718.000000</td>\n",
              "      <td>718.000000</td>\n",
              "      <td>718.000000</td>\n",
              "    </tr>\n",
              "    <tr>\n",
              "      <th>mean</th>\n",
              "      <td>-2.954872</td>\n",
              "      <td>1.887570</td>\n",
              "      <td>-2.012694</td>\n",
              "      <td>-2.445721</td>\n",
              "      <td>0.264731</td>\n",
              "      <td>-1.714605</td>\n",
              "      <td>-0.994827</td>\n",
              "      <td>0.145094</td>\n",
              "      <td>-0.075401</td>\n",
              "      <td>1.543432</td>\n",
              "    </tr>\n",
              "    <tr>\n",
              "      <th>std</th>\n",
              "      <td>4.217398</td>\n",
              "      <td>2.859554</td>\n",
              "      <td>3.230690</td>\n",
              "      <td>3.753940</td>\n",
              "      <td>1.212556</td>\n",
              "      <td>3.862912</td>\n",
              "      <td>1.796343</td>\n",
              "      <td>0.673008</td>\n",
              "      <td>1.037137</td>\n",
              "      <td>2.454387</td>\n",
              "    </tr>\n",
              "    <tr>\n",
              "      <th>min</th>\n",
              "      <td>-17.230202</td>\n",
              "      <td>-3.621309</td>\n",
              "      <td>-13.261652</td>\n",
              "      <td>-16.388054</td>\n",
              "      <td>-3.681904</td>\n",
              "      <td>-21.922811</td>\n",
              "      <td>-7.930900</td>\n",
              "      <td>-3.908080</td>\n",
              "      <td>-3.127795</td>\n",
              "      <td>-2.157087</td>\n",
              "    </tr>\n",
              "    <tr>\n",
              "      <th>25%</th>\n",
              "      <td>-6.096319</td>\n",
              "      <td>-0.135881</td>\n",
              "      <td>-3.896223</td>\n",
              "      <td>-4.598156</td>\n",
              "      <td>-0.443196</td>\n",
              "      <td>-2.310839</td>\n",
              "      <td>-1.835779</td>\n",
              "      <td>-0.051918</td>\n",
              "      <td>-0.873243</td>\n",
              "      <td>-0.316075</td>\n",
              "    </tr>\n",
              "    <tr>\n",
              "      <th>50%</th>\n",
              "      <td>-0.688867</td>\n",
              "      <td>1.155324</td>\n",
              "      <td>-0.576623</td>\n",
              "      <td>-0.624383</td>\n",
              "      <td>0.189308</td>\n",
              "      <td>-0.472796</td>\n",
              "      <td>-0.667945</td>\n",
              "      <td>0.040039</td>\n",
              "      <td>-0.064713</td>\n",
              "      <td>0.881957</td>\n",
              "    </tr>\n",
              "    <tr>\n",
              "      <th>75%</th>\n",
              "      <td>0.228752</td>\n",
              "      <td>3.774772</td>\n",
              "      <td>0.083044</td>\n",
              "      <td>0.272108</td>\n",
              "      <td>0.896765</td>\n",
              "      <td>0.324130</td>\n",
              "      <td>0.163667</td>\n",
              "      <td>0.414671</td>\n",
              "      <td>0.659264</td>\n",
              "      <td>3.061598</td>\n",
              "    </tr>\n",
              "    <tr>\n",
              "      <th>max</th>\n",
              "      <td>3.442422</td>\n",
              "      <td>11.906170</td>\n",
              "      <td>3.459813</td>\n",
              "      <td>2.085289</td>\n",
              "      <td>4.851255</td>\n",
              "      <td>5.802537</td>\n",
              "      <td>3.491035</td>\n",
              "      <td>3.052358</td>\n",
              "      <td>3.117502</td>\n",
              "      <td>11.027059</td>\n",
              "    </tr>\n",
              "  </tbody>\n",
              "</table>\n",
              "</div>\n",
              "      <button class=\"colab-df-convert\" onclick=\"convertToInteractive('df-bdd11618-4ee8-4696-9dfa-8659d4dfa024')\"\n",
              "              title=\"Convert this dataframe to an interactive table.\"\n",
              "              style=\"display:none;\">\n",
              "        \n",
              "  <svg xmlns=\"http://www.w3.org/2000/svg\" height=\"24px\"viewBox=\"0 0 24 24\"\n",
              "       width=\"24px\">\n",
              "    <path d=\"M0 0h24v24H0V0z\" fill=\"none\"/>\n",
              "    <path d=\"M18.56 5.44l.94 2.06.94-2.06 2.06-.94-2.06-.94-.94-2.06-.94 2.06-2.06.94zm-11 1L8.5 8.5l.94-2.06 2.06-.94-2.06-.94L8.5 2.5l-.94 2.06-2.06.94zm10 10l.94 2.06.94-2.06 2.06-.94-2.06-.94-.94-2.06-.94 2.06-2.06.94z\"/><path d=\"M17.41 7.96l-1.37-1.37c-.4-.4-.92-.59-1.43-.59-.52 0-1.04.2-1.43.59L10.3 9.45l-7.72 7.72c-.78.78-.78 2.05 0 2.83L4 21.41c.39.39.9.59 1.41.59.51 0 1.02-.2 1.41-.59l7.78-7.78 2.81-2.81c.8-.78.8-2.07 0-2.86zM5.41 20L4 18.59l7.72-7.72 1.47 1.35L5.41 20z\"/>\n",
              "  </svg>\n",
              "      </button>\n",
              "      \n",
              "  <style>\n",
              "    .colab-df-container {\n",
              "      display:flex;\n",
              "      flex-wrap:wrap;\n",
              "      gap: 12px;\n",
              "    }\n",
              "\n",
              "    .colab-df-convert {\n",
              "      background-color: #E8F0FE;\n",
              "      border: none;\n",
              "      border-radius: 50%;\n",
              "      cursor: pointer;\n",
              "      display: none;\n",
              "      fill: #1967D2;\n",
              "      height: 32px;\n",
              "      padding: 0 0 0 0;\n",
              "      width: 32px;\n",
              "    }\n",
              "\n",
              "    .colab-df-convert:hover {\n",
              "      background-color: #E2EBFA;\n",
              "      box-shadow: 0px 1px 2px rgba(60, 64, 67, 0.3), 0px 1px 3px 1px rgba(60, 64, 67, 0.15);\n",
              "      fill: #174EA6;\n",
              "    }\n",
              "\n",
              "    [theme=dark] .colab-df-convert {\n",
              "      background-color: #3B4455;\n",
              "      fill: #D2E3FC;\n",
              "    }\n",
              "\n",
              "    [theme=dark] .colab-df-convert:hover {\n",
              "      background-color: #434B5C;\n",
              "      box-shadow: 0px 1px 3px 1px rgba(0, 0, 0, 0.15);\n",
              "      filter: drop-shadow(0px 1px 2px rgba(0, 0, 0, 0.3));\n",
              "      fill: #FFFFFF;\n",
              "    }\n",
              "  </style>\n",
              "\n",
              "      <script>\n",
              "        const buttonEl =\n",
              "          document.querySelector('#df-bdd11618-4ee8-4696-9dfa-8659d4dfa024 button.colab-df-convert');\n",
              "        buttonEl.style.display =\n",
              "          google.colab.kernel.accessAllowed ? 'block' : 'none';\n",
              "\n",
              "        async function convertToInteractive(key) {\n",
              "          const element = document.querySelector('#df-bdd11618-4ee8-4696-9dfa-8659d4dfa024');\n",
              "          const dataTable =\n",
              "            await google.colab.kernel.invokeFunction('convertToInteractive',\n",
              "                                                     [key], {});\n",
              "          if (!dataTable) return;\n",
              "\n",
              "          const docLinkHtml = 'Like what you see? Visit the ' +\n",
              "            '<a target=\"_blank\" href=https://colab.research.google.com/notebooks/data_table.ipynb>data table notebook</a>'\n",
              "            + ' to learn more about interactive tables.';\n",
              "          element.innerHTML = '';\n",
              "          dataTable['output_type'] = 'display_data';\n",
              "          await google.colab.output.renderOutput(dataTable, element);\n",
              "          const docLink = document.createElement('div');\n",
              "          docLink.innerHTML = docLinkHtml;\n",
              "          element.appendChild(docLink);\n",
              "        }\n",
              "      </script>\n",
              "    </div>\n",
              "  </div>\n",
              "  "
            ]
          },
          "metadata": {},
          "execution_count": 430
        }
      ]
    },
    {
      "cell_type": "code",
      "execution_count": null,
      "metadata": {
        "_cell_guid": "bccd5685-a979-451e-85b3-1cb968523540",
        "_kg_hide-input": true,
        "_uuid": "28f5178089d2d133b9e7478c1c7dc7a1f98aabee",
        "id": "PwO1JvPrCWAR"
      },
      "outputs": [],
      "source": [
        "# Turn the values into an array for feeding the classification algorithms.\n",
        "X_train = new_X_train.values\n",
        "X_test = new_X_test.values\n",
        "y_train = y_train.values\n",
        "y_test = y_test.values"
      ]
    },
    {
      "cell_type": "code",
      "execution_count": null,
      "metadata": {
        "_cell_guid": "7810d0b9-b4e5-4b7f-909b-c127365b167c",
        "_kg_hide-input": true,
        "_uuid": "8dd4ea07fd60973fccabc2d46af28a09b0de9178",
        "id": "vuXeXr00CWAS"
      },
      "outputs": [],
      "source": [
        "# Let's implement simple classifiers\n",
        "\n",
        "classifiers = {\n",
        "    \"LogisiticRegression\": LogisticRegression(),\n",
        "    \"KNearest\": KNeighborsClassifier(),\n",
        "    \"Support Vector Classifier\": SVC(),\n",
        "    \"DecisionTreeClassifier\": DecisionTreeClassifier()\n",
        "}"
      ]
    },
    {
      "cell_type": "code",
      "execution_count": null,
      "metadata": {
        "_cell_guid": "eb37c0f6-9cfe-48b6-92d3-475d5e6767a6",
        "_kg_hide-input": true,
        "_uuid": "fe129af379caccc5428cf1836e6c96bd32e68feb",
        "id": "N5zKiwu1CWAT",
        "colab": {
          "base_uri": "https://localhost:8080/"
        },
        "outputId": "79871aed-5d42-4e4e-a201-0412e40cdf06"
      },
      "outputs": [
        {
          "output_type": "stream",
          "name": "stdout",
          "text": [
            "Classifiers:  LogisticRegression Has a training score of 94.0 % accuracy score\n",
            "Classifiers:  KNeighborsClassifier Has a training score of 93.0 % accuracy score\n",
            "Classifiers:  SVC Has a training score of 94.0 % accuracy score\n",
            "Classifiers:  DecisionTreeClassifier Has a training score of 89.0 % accuracy score\n"
          ]
        }
      ],
      "source": [
        "# Wow our scores are getting even high scores even when applying cross validation.\n",
        "from sklearn.model_selection import cross_val_score\n",
        "\n",
        "\n",
        "for key, classifier in classifiers.items():\n",
        "    classifier.fit(X_train, y_train)\n",
        "    training_score = cross_val_score(classifier, X_train, y_train, cv=5)\n",
        "    print(\"Classifiers: \", classifier.__class__.__name__, \"Has a training score of\", round(training_score.mean(), 2) * 100, \"% accuracy score\")"
      ]
    },
    {
      "cell_type": "code",
      "execution_count": null,
      "metadata": {
        "_cell_guid": "a1c35773-f4c7-4caf-9911-532784c9eae0",
        "_kg_hide-input": true,
        "_uuid": "d15b1ab16737358806e34c48dc57aa238cf0cfd2",
        "id": "78wlwH6cCWAU"
      },
      "outputs": [],
      "source": [
        "# Use GridSearchCV to find the best parameters.\n",
        "from sklearn.model_selection import GridSearchCV\n",
        "\n",
        "\n",
        "# Logistic Regression \n",
        "log_reg_params = {\"penalty\": ['l1', 'l2'], 'C': [0.001, 0.01, 0.1, 1, 10, 100, 1000]}\n",
        "\n",
        "\n",
        "\n",
        "grid_log_reg = GridSearchCV(LogisticRegression(), log_reg_params)\n",
        "grid_log_reg.fit(X_train, y_train)\n",
        "# We automatically get the logistic regression with the best parameters.\n",
        "log_reg = grid_log_reg.best_estimator_\n",
        "\n",
        "knears_params = {\"n_neighbors\": list(range(2,5,1)), 'algorithm': ['auto', 'ball_tree', 'kd_tree', 'brute']}\n",
        "\n",
        "grid_knears = GridSearchCV(KNeighborsClassifier(), knears_params)\n",
        "grid_knears.fit(X_train, y_train)\n",
        "# KNears best estimator\n",
        "knears_neighbors = grid_knears.best_estimator_\n",
        "\n",
        "# Support Vector Classifier\n",
        "svc_params = {'C': [0.5, 0.7, 0.9, 1], 'kernel': ['rbf', 'poly', 'sigmoid', 'linear']}\n",
        "grid_svc = GridSearchCV(SVC(), svc_params)\n",
        "grid_svc.fit(X_train, y_train)\n",
        "\n",
        "# SVC best estimator\n",
        "svc = grid_svc.best_estimator_\n",
        "\n",
        "# DecisionTree Classifier\n",
        "tree_params = {\"criterion\": [\"gini\", \"entropy\"], \"max_depth\": list(range(2,4,1)), \n",
        "              \"min_samples_leaf\": list(range(5,7,1))}\n",
        "grid_tree = GridSearchCV(DecisionTreeClassifier(), tree_params)\n",
        "grid_tree.fit(X_train, y_train)\n",
        "\n",
        "# tree best estimator\n",
        "tree_clf = grid_tree.best_estimator_"
      ]
    },
    {
      "cell_type": "code",
      "execution_count": null,
      "metadata": {
        "_cell_guid": "7f327bcd-335f-4e49-af07-fc4214dbcbdc",
        "_kg_hide-input": true,
        "_uuid": "1b2108bf377b924ed8a6efe580d9e162a132cd9e",
        "id": "9F6mXBERCWAV",
        "colab": {
          "base_uri": "https://localhost:8080/"
        },
        "outputId": "8f038ef5-ed87-4127-a5e3-94a2014fb805"
      },
      "outputs": [
        {
          "output_type": "stream",
          "name": "stdout",
          "text": [
            "Logistic Regression Cross Validation Score:  94.15%\n",
            "Knears Neighbors Cross Validation Score 92.76%\n",
            "Support Vector Classifier Cross Validation Score 93.73%\n",
            "DecisionTree Classifier Cross Validation Score 93.46%\n"
          ]
        }
      ],
      "source": [
        "# Overfitting Case\n",
        "\n",
        "log_reg_score = cross_val_score(log_reg, X_train, y_train, cv=5)\n",
        "print('Logistic Regression Cross Validation Score: ', round(log_reg_score.mean() * 100, 2).astype(str) + '%')\n",
        "\n",
        "\n",
        "knears_score = cross_val_score(knears_neighbors, X_train, y_train, cv=5)\n",
        "print('Knears Neighbors Cross Validation Score', round(knears_score.mean() * 100, 2).astype(str) + '%')\n",
        "\n",
        "svc_score = cross_val_score(svc, X_train, y_train, cv=5)\n",
        "print('Support Vector Classifier Cross Validation Score', round(svc_score.mean() * 100, 2).astype(str) + '%')\n",
        "\n",
        "tree_score = cross_val_score(tree_clf, X_train, y_train, cv=5)\n",
        "print('DecisionTree Classifier Cross Validation Score', round(tree_score.mean() * 100, 2).astype(str) + '%')"
      ]
    },
    {
      "cell_type": "code",
      "execution_count": null,
      "metadata": {
        "_cell_guid": "780e485a-ea64-48a0-ad97-a7516b047f32",
        "_kg_hide-input": true,
        "_uuid": "fdd59bf2c7a8e61cfb401142570643e8a29cf86b",
        "id": "AV2eR0QYCWAZ"
      },
      "outputs": [],
      "source": [
        "from sklearn.metrics import roc_curve\n",
        "from sklearn.model_selection import cross_val_predict\n",
        "# Create a DataFrame with all the scores and the classifiers names.\n",
        "\n",
        "log_reg_pred = cross_val_predict(log_reg, X_train, y_train, cv=5,\n",
        "                             method=\"decision_function\")\n",
        "\n",
        "knears_pred = cross_val_predict(knears_neighbors, X_train, y_train, cv=5)\n",
        "\n",
        "svc_pred = cross_val_predict(svc, X_train, y_train, cv=5,\n",
        "                             method=\"decision_function\")\n",
        "\n",
        "tree_pred = cross_val_predict(tree_clf, X_train, y_train, cv=5)"
      ]
    },
    {
      "cell_type": "code",
      "execution_count": null,
      "metadata": {
        "_cell_guid": "57c211c6-e88f-4634-b321-4949df08815d",
        "_kg_hide-input": true,
        "_uuid": "cb2e4715e91e36f2029ef2a5c241991ff162cd9f",
        "id": "SomAzbGoCWAa",
        "colab": {
          "base_uri": "https://localhost:8080/"
        },
        "outputId": "a7263711-3396-4fe8-eb1c-6feebd219e3a"
      },
      "outputs": [
        {
          "output_type": "stream",
          "name": "stdout",
          "text": [
            "Logistic Regression:  0.9665575358842328\n",
            "KNears Neighbors:  0.9221446933529196\n",
            "Support Vector Classifier:  0.9743321274251647\n",
            "Decision Tree Classifier:  0.9297434775474485\n"
          ]
        }
      ],
      "source": [
        "from sklearn.metrics import roc_auc_score\n",
        "\n",
        "print('Logistic Regression: ', roc_auc_score(y_train, log_reg_pred))\n",
        "print('KNears Neighbors: ', roc_auc_score(y_train, knears_pred))\n",
        "print('Support Vector Classifier: ', roc_auc_score(y_train, svc_pred))\n",
        "print('Decision Tree Classifier: ', roc_auc_score(y_train, tree_pred))"
      ]
    },
    {
      "cell_type": "code",
      "execution_count": null,
      "metadata": {
        "_cell_guid": "89b0b9b6-ef82-4b69-9517-e89a79696dbb",
        "_kg_hide-input": true,
        "_uuid": "9d57aad23f3f72f3c45bf80b089a65acbce2a9ab",
        "id": "UzX8LsnDCWAb",
        "colab": {
          "base_uri": "https://localhost:8080/",
          "height": 540
        },
        "outputId": "fbe8edcb-5804-4431-ced1-65de46561b91"
      },
      "outputs": [
        {
          "output_type": "display_data",
          "data": {
            "text/plain": [
              "<Figure size 1152x576 with 1 Axes>"
            ],
            "image/png": "[encoded data removed]"
          },
          "metadata": {}
        }
      ],
      "source": [
        "log_fpr, log_tpr, log_thresold = roc_curve(y_train, log_reg_pred)\n",
        "knear_fpr, knear_tpr, knear_threshold = roc_curve(y_train, knears_pred)\n",
        "svc_fpr, svc_tpr, svc_threshold = roc_curve(y_train, svc_pred)\n",
        "tree_fpr, tree_tpr, tree_threshold = roc_curve(y_train, tree_pred)\n",
        "\n",
        "\n",
        "def graph_roc_curve_multiple(log_fpr, log_tpr, knear_fpr, knear_tpr, svc_fpr, svc_tpr, tree_fpr, tree_tpr):\n",
        "    plt.figure(figsize=(16,8))\n",
        "    plt.title('ROC Curve \\n Top 4 Classifiers', fontsize=18)\n",
        "    plt.plot(log_fpr, log_tpr, label='Logistic Regression Classifier Score: {:.4f}'.format(roc_auc_score(y_train, log_reg_pred)))\n",
        "    plt.plot(knear_fpr, knear_tpr, label='KNears Neighbors Classifier Score: {:.4f}'.format(roc_auc_score(y_train, knears_pred)))\n",
        "    plt.plot(svc_fpr, svc_tpr, label='Support Vector Classifier Score: {:.4f}'.format(roc_auc_score(y_train, svc_pred)))\n",
        "    plt.plot(tree_fpr, tree_tpr, label='Decision Tree Classifier Score: {:.4f}'.format(roc_auc_score(y_train, tree_pred)))\n",
        "    plt.plot([0, 1], [0, 1], 'k--')\n",
        "    plt.axis([-0.01, 1, 0, 1])\n",
        "    plt.xlabel('False Positive Rate', fontsize=16)\n",
        "    plt.ylabel('True Positive Rate', fontsize=16)\n",
        "    plt.annotate('Minimum ROC Score of 50% \\n (This is the minimum score to get)', xy=(0.5, 0.5), xytext=(0.6, 0.3),\n",
        "                arrowprops=dict(facecolor='#6E726D', shrink=0.05),\n",
        "                )\n",
        "    plt.legend()\n",
        "    \n",
        "graph_roc_curve_multiple(log_fpr, log_tpr, knear_fpr, knear_tpr, svc_fpr, svc_tpr, tree_fpr, tree_tpr)\n",
        "plt.show()"
      ]
    },
    {
      "cell_type": "markdown",
      "metadata": {
        "_cell_guid": "f56e6936-314c-42d4-8ea2-0cb2386ad382",
        "_uuid": "d6e62d64e9d9aa70223576a1df91a008aa6c2664",
        "id": "ALlCdXttCWAb"
      },
      "source": [
        "## A Deeper Look into LogisticRegression:\n",
        "<a id=\"logistic\"></a>\n",
        "In this section we will ive a deeper look into the <b> logistic regression classifier</b>.\n",
        "\n",
        "\n",
        "### Terms:\n",
        "<ul>\n",
        "<li><b>True Positives:</b> Correctly Classified Fraud Transactions </li>\n",
        "<li><b>False Positives:</b> Incorrectly Classified Fraud Transactions</li>\n",
        "<li> <b>True Negative:</b> Correctly Classified Non-Fraud Transactions</li>\n",
        "<li> <b>False Negative:</b> Incorrectly Classified Non-Fraud Transactions</li>\n",
        "<li><b>Precision: </b>  True Positives/(True Positives + False Positives)  </li>\n",
        "<li><b> Recall: </b> True Positives/(True Positives + False Negatives)   </li>\n",
        "<li> Precision as the name says, says how precise (how sure) is our model in detecting fraud transactions while recall is the amount of fraud cases our model is able to detect.</li>\n",
        "<li><b>Precision/Recall Tradeoff: </b> The more precise (selective) our model is, the less cases it will detect. Example: Assuming that our model has a precision of 95%, Let's say there are only 5 fraud cases in which the model is 95% precise or more that these are fraud cases. Then let's say there are 5 more cases that our model considers 90% to be a fraud case, if we lower the precision there are more cases that our model will be able to detect. </li>\n",
        "</ul>\n",
        "\n",
        "### Summary:\n",
        "<ul>\n",
        "<li> <b>Precision starts to descend</b> between 0.90 and 0.92 nevertheless, our precision score is still pretty high and still we have a descent recall score. </li>\n",
        "\n",
        "</ul>"
      ]
    },
    {
      "cell_type": "code",
      "execution_count": null,
      "metadata": {
        "_cell_guid": "b4eaea18-ec79-4cb2-9a92-8d70a7f593bf",
        "_kg_hide-input": true,
        "_uuid": "0daaa7137ab61d6fd88e5fcc0849acc94c693df0",
        "id": "w-O0DCjGCWAc",
        "colab": {
          "base_uri": "https://localhost:8080/",
          "height": 520
        },
        "outputId": "004605ae-bc58-4909-f157-a11fc10b9236"
      },
      "outputs": [
        {
          "output_type": "display_data",
          "data": {
            "text/plain": [
              "<Figure size 864x576 with 1 Axes>"
            ],
            "image/png": "[encoded data removed]"
          },
          "metadata": {}
        }
      ],
      "source": [
        "def logistic_roc_curve(log_fpr, log_tpr):\n",
        "    plt.figure(figsize=(12,8))\n",
        "    plt.title('Logistic Regression & Support Vector Classifier ROC Curve', fontsize=16)\n",
        "    plt.plot(log_fpr, log_tpr,'b-', linewidth=2)\n",
        "    plt.plot(svc_fpr, svc_tpr, 'r-', linewidth=2)\n",
        "    plt.plot([0, 1], [0, 1], 'p--')\n",
        "    plt.xlabel('False Positive Rate', fontsize=16)\n",
        "    plt.ylabel('True Positive Rate', fontsize=16)\n",
        "    plt.axis([-0.01,1,0,1])\n",
        "    \n",
        "    \n",
        "logistic_roc_curve(log_fpr, log_tpr)\n",
        "plt.show()"
      ]
    },
    {
      "cell_type": "markdown",
      "metadata": {
        "_cell_guid": "a250e819-cdd4-43f5-b0a4-eb8f232199a0",
        "_uuid": "feb07b601c9ec79be1fe96cbbadf4ac838f7f7a8",
        "id": "UgKSrVL7CWAn"
      },
      "source": [
        "# Test Data with Logistic Regression:\n",
        "<a id=\"testing_logistic\"></a>\n",
        "## Confusion Matrix:\n",
        "**Positive/Negative:** Type of Class (label) [\"No\", \"Yes\"]\n",
        "**True/False:** Correctly or Incorrectly classified by the model.<br><br>\n",
        "\n",
        "**True Negatives (Top-Left Square):** This is the number of **correctly** classifications of the \"No\" (No Fraud Detected) class. <br><br>\n",
        "\n",
        "**False Negatives (Top-Right Square):** This is the number of **incorrectly** classifications of the \"No\"(No Fraud Detected) class. <br><br>\n",
        "\n",
        "**False Positives (Bottom-Left Square):** This is the number of **incorrectly** classifications of the \"Yes\" (Fraud Detected) class <br><br>\n",
        "\n",
        "**True Positives (Bottom-Right Square):** This is the number of **correctly** classifications of the \"Yes\" (Fraud Detected) class.\n",
        "\n",
        "\n",
        "\n",
        "<li> <b>Classification Models: </b> The models that performed the best were <b>logistic regression </b> and <b>support vector classifier (SVM)</b>  </li>\n",
        "</ul>"
      ]
    },
    {
      "cell_type": "markdown",
      "source": [
        "### Testing the Model"
      ],
      "metadata": {
        "id": "Bz40T_JC2efC"
      }
    },
    {
      "cell_type": "code",
      "source": [
        "from sklearn.metrics import confusion_matrix\n",
        "\n",
        "\n",
        "y_pred_log_reg = log_reg.predict(X_test)\n",
        "y_pred_knear = knears_neighbors.predict(X_test)\n",
        "y_pred_svc = svc.predict(X_test)\n",
        "y_pred_tree = tree_clf.predict(X_test)\n",
        "\n",
        "\n",
        "log_reg_cf = confusion_matrix(y_test, y_pred_log_reg)\n",
        "kneighbors_cf = confusion_matrix(y_test, y_pred_knear)\n",
        "svc_cf = confusion_matrix(y_test, y_pred_svc)\n",
        "tree_cf = confusion_matrix(y_test, y_pred_tree)\n",
        "\n",
        "fig, ax = plt.subplots(2, 2,figsize=(22,12))\n",
        "\n",
        "\n",
        "sns.heatmap(log_reg_cf, ax=ax[0][0], annot=True, cmap=plt.cm.copper)\n",
        "ax[0, 0].set_title(\"Logistic Regression \\n Confusion Matrix\", fontsize=14)\n",
        "ax[0, 0].set_xticklabels(['', ''], fontsize=14, rotation=90)\n",
        "ax[0, 0].set_yticklabels(['', ''], fontsize=14, rotation=360)\n",
        "\n",
        "sns.heatmap(kneighbors_cf, ax=ax[0][1], annot=True, cmap=plt.cm.copper)\n",
        "ax[0][1].set_title(\"KNearsNeighbors \\n Confusion Matrix\", fontsize=14)\n",
        "ax[0][1].set_xticklabels(['', ''], fontsize=14, rotation=90)\n",
        "ax[0][1].set_yticklabels(['', ''], fontsize=14, rotation=360)\n",
        "\n",
        "sns.heatmap(svc_cf, ax=ax[1][0], annot=True, cmap=plt.cm.copper)\n",
        "ax[1][0].set_title(\"Suppor Vector Classifier \\n Confusion Matrix\", fontsize=14)\n",
        "ax[1][0].set_xticklabels(['', ''], fontsize=14, rotation=90)\n",
        "ax[1][0].set_yticklabels(['', ''], fontsize=14, rotation=360)\n",
        "\n",
        "sns.heatmap(tree_cf, ax=ax[1][1], annot=True, cmap=plt.cm.copper)\n",
        "ax[1][1].set_title(\"DecisionTree Classifier \\n Confusion Matrix\", fontsize=14)\n",
        "ax[1][1].set_xticklabels(['', ''], fontsize=14, rotation=90)\n",
        "ax[1][1].set_yticklabels(['', ''], fontsize=14, rotation=360)\n",
        "\n",
        "\n",
        "plt.show()"
      ],
      "metadata": {
        "id": "-DEK3ojKDZy3",
        "colab": {
          "base_uri": "https://localhost:8080/",
          "height": 722
        },
        "outputId": "bd956f70-4c5a-45c8-b41d-444a6094d9b8"
      },
      "execution_count": null,
      "outputs": [
        {
          "output_type": "display_data",
          "data": {
            "text/plain": [
              "<Figure size 1584x864 with 8 Axes>"
            ],
            "image/png": "[encoded data removed]"
          },
          "metadata": {}
        }
      ]
    },
    {
      "cell_type": "code",
      "source": [
        "print('Logistic Regression:')\n",
        "print(classification_report(y_test, y_pred_log_reg))\n",
        "\n",
        "print('KNears Neighbors:')\n",
        "print(classification_report(y_test, y_pred_knear))\n",
        "\n",
        "print('Support Vector Classifier:')\n",
        "print(classification_report(y_test, y_pred_svc))\n",
        "\n",
        "print('Decision Tree Classifier:')\n",
        "print(classification_report(y_test, y_pred_tree))"
      ],
      "metadata": {
        "id": "k3_Yox02w7kU",
        "colab": {
          "base_uri": "https://localhost:8080/"
        },
        "outputId": "f22200d1-482c-4aba-d3d4-ec5a3b6d0c7b"
      },
      "execution_count": null,
      "outputs": [
        {
          "output_type": "stream",
          "name": "stdout",
          "text": [
            "Logistic Regression:\n",
            "              precision    recall  f1-score   support\n",
            "\n",
            "           0       0.86      0.99      0.92        79\n",
            "           1       0.99      0.87      0.93       101\n",
            "\n",
            "    accuracy                           0.92       180\n",
            "   macro avg       0.92      0.93      0.92       180\n",
            "weighted avg       0.93      0.92      0.92       180\n",
            "\n",
            "KNears Neighbors:\n",
            "              precision    recall  f1-score   support\n",
            "\n",
            "           0       0.84      1.00      0.91        79\n",
            "           1       1.00      0.85      0.92       101\n",
            "\n",
            "    accuracy                           0.92       180\n",
            "   macro avg       0.92      0.93      0.92       180\n",
            "weighted avg       0.93      0.92      0.92       180\n",
            "\n",
            "Support Vector Classifier:\n",
            "              precision    recall  f1-score   support\n",
            "\n",
            "           0       0.82      1.00      0.90        79\n",
            "           1       1.00      0.83      0.91       101\n",
            "\n",
            "    accuracy                           0.91       180\n",
            "   macro avg       0.91      0.92      0.91       180\n",
            "weighted avg       0.92      0.91      0.91       180\n",
            "\n",
            "Decision Tree Classifier:\n",
            "              precision    recall  f1-score   support\n",
            "\n",
            "           0       0.84      1.00      0.91        79\n",
            "           1       1.00      0.85      0.92       101\n",
            "\n",
            "    accuracy                           0.92       180\n",
            "   macro avg       0.92      0.93      0.92       180\n",
            "weighted avg       0.93      0.92      0.92       180\n",
            "\n"
          ]
        }
      ]
    },
    {
      "cell_type": "code",
      "source": [
        "import pickle"
      ],
      "metadata": {
        "id": "svY7HkqmslJj"
      },
      "execution_count": null,
      "outputs": []
    },
    {
      "cell_type": "code",
      "source": [
        "logistic_regression = pickle.dump(log_reg, open('logistic_regression_model', 'wb'))"
      ],
      "metadata": {
        "id": "OxNmNcQLsnvh"
      },
      "execution_count": null,
      "outputs": []
    },
    {
      "cell_type": "code",
      "source": [
        "support_vector_classifier = pickle.dump(svc, open('svc_model', 'wb'))"
      ],
      "metadata": {
        "id": "Bxj5VOrt2UVS"
      },
      "execution_count": null,
      "outputs": []
    },
    {
      "cell_type": "markdown",
      "source": [
        "# App Deployment using Streamlit "
      ],
      "metadata": {
        "id": "zkSlyGI6nO5C"
      }
    },
    {
      "cell_type": "code",
      "source": [
        "#Installation\n",
        "# !pip install streamlit\n",
        "# !pip install pyngrok==4.1.1"
      ],
      "metadata": {
        "id": "ErbLavAQQrMq",
        "colab": {
          "base_uri": "https://localhost:8080/"
        },
        "outputId": "6d9916ff-2d6f-4bd5-fb1a-cf4afa4d5ca0"
      },
      "execution_count": null,
      "outputs": [
        {
          "output_type": "stream",
          "name": "stdout",
          "text": [
            "Looking in indexes: https://pypi.org/simple, https://us-python.pkg.dev/colab-wheels/public/simple/\n",
            "Requirement already satisfied: streamlit in /usr/local/lib/python3.7/dist-packages (1.13.0)\n",
            "Requirement already satisfied: altair>=3.2.0 in /usr/local/lib/python3.7/dist-packages (from streamlit) (4.2.0)\n",
            "Requirement already satisfied: pympler>=0.9 in /usr/local/lib/python3.7/dist-packages (from streamlit) (1.0.1)\n",
            "Requirement already satisfied: validators>=0.2 in /usr/local/lib/python3.7/dist-packages (from streamlit) (0.20.0)\n",
            "Requirement already satisfied: importlib-metadata>=1.4 in /usr/local/lib/python3.7/dist-packages (from streamlit) (4.13.0)\n",
            "Requirement already satisfied: pyarrow>=4.0 in /usr/local/lib/python3.7/dist-packages (from streamlit) (6.0.1)\n",
            "Requirement already satisfied: tornado>=5.0 in /usr/local/lib/python3.7/dist-packages (from streamlit) (5.1.1)\n",
            "Requirement already satisfied: blinker>=1.0.0 in /usr/local/lib/python3.7/dist-packages (from streamlit) (1.5)\n",
            "Requirement already satisfied: tzlocal>=1.1 in /usr/local/lib/python3.7/dist-packages (from streamlit) (1.5.1)\n",
            "Requirement already satisfied: toml in /usr/local/lib/python3.7/dist-packages (from streamlit) (0.10.2)\n",
            "Requirement already satisfied: pandas>=0.21.0 in /usr/local/lib/python3.7/dist-packages (from streamlit) (1.3.5)\n",
            "Requirement already satisfied: protobuf!=3.20.2,<4,>=3.12 in /usr/local/lib/python3.7/dist-packages (from streamlit) (3.17.3)\n",
            "Requirement already satisfied: watchdog in /usr/local/lib/python3.7/dist-packages (from streamlit) (2.1.9)\n",
            "Requirement already satisfied: pillow>=6.2.0 in /usr/local/lib/python3.7/dist-packages (from streamlit) (7.1.2)\n",
            "Requirement already satisfied: numpy in /usr/local/lib/python3.7/dist-packages (from streamlit) (1.21.6)\n",
            "Requirement already satisfied: pydeck>=0.1.dev5 in /usr/local/lib/python3.7/dist-packages (from streamlit) (0.8.0b4)\n",
            "Requirement already satisfied: typing-extensions>=3.10.0.0 in /usr/local/lib/python3.7/dist-packages (from streamlit) (4.1.1)\n",
            "Requirement already satisfied: packaging>=14.1 in /usr/local/lib/python3.7/dist-packages (from streamlit) (21.3)\n",
            "Requirement already satisfied: python-dateutil in /usr/local/lib/python3.7/dist-packages (from streamlit) (2.8.2)\n",
            "Requirement already satisfied: gitpython!=3.1.19 in /usr/local/lib/python3.7/dist-packages (from streamlit) (3.1.29)\n",
            "Requirement already satisfied: rich>=10.11.0 in /usr/local/lib/python3.7/dist-packages (from streamlit) (12.6.0)\n",
            "Requirement already satisfied: requests>=2.4 in /usr/local/lib/python3.7/dist-packages (from streamlit) (2.23.0)\n",
            "Requirement already satisfied: click>=7.0 in /usr/local/lib/python3.7/dist-packages (from streamlit) (7.1.2)\n",
            "Requirement already satisfied: semver in /usr/local/lib/python3.7/dist-packages (from streamlit) (2.13.0)\n",
            "Requirement already satisfied: cachetools>=4.0 in /usr/local/lib/python3.7/dist-packages (from streamlit) (4.2.4)\n",
            "Requirement already satisfied: toolz in /usr/local/lib/python3.7/dist-packages (from altair>=3.2.0->streamlit) (0.12.0)\n",
            "Requirement already satisfied: jsonschema>=3.0 in /usr/local/lib/python3.7/dist-packages (from altair>=3.2.0->streamlit) (4.3.3)\n",
            "Requirement already satisfied: jinja2 in /usr/local/lib/python3.7/dist-packages (from altair>=3.2.0->streamlit) (2.11.3)\n",
            "Requirement already satisfied: entrypoints in /usr/local/lib/python3.7/dist-packages (from altair>=3.2.0->streamlit) (0.4)\n",
            "Requirement already satisfied: gitdb<5,>=4.0.1 in /usr/local/lib/python3.7/dist-packages (from gitpython!=3.1.19->streamlit) (4.0.9)\n",
            "Requirement already satisfied: smmap<6,>=3.0.1 in /usr/local/lib/python3.7/dist-packages (from gitdb<5,>=4.0.1->gitpython!=3.1.19->streamlit) (5.0.0)\n",
            "Requirement already satisfied: zipp>=0.5 in /usr/local/lib/python3.7/dist-packages (from importlib-metadata>=1.4->streamlit) (3.9.0)\n",
            "Requirement already satisfied: pyrsistent!=0.17.0,!=0.17.1,!=0.17.2,>=0.14.0 in /usr/local/lib/python3.7/dist-packages (from jsonschema>=3.0->altair>=3.2.0->streamlit) (0.18.1)\n",
            "Requirement already satisfied: importlib-resources>=1.4.0 in /usr/local/lib/python3.7/dist-packages (from jsonschema>=3.0->altair>=3.2.0->streamlit) (5.10.0)\n",
            "Requirement already satisfied: attrs>=17.4.0 in /usr/local/lib/python3.7/dist-packages (from jsonschema>=3.0->altair>=3.2.0->streamlit) (22.1.0)\n",
            "Requirement already satisfied: pyparsing!=3.0.5,>=2.0.2 in /usr/local/lib/python3.7/dist-packages (from packaging>=14.1->streamlit) (3.0.9)\n",
            "Requirement already satisfied: pytz>=2017.3 in /usr/local/lib/python3.7/dist-packages (from pandas>=0.21.0->streamlit) (2022.4)\n",
            "Requirement already satisfied: six>=1.9 in /usr/local/lib/python3.7/dist-packages (from protobuf!=3.20.2,<4,>=3.12->streamlit) (1.15.0)\n",
            "Requirement already satisfied: MarkupSafe>=0.23 in /usr/local/lib/python3.7/dist-packages (from jinja2->altair>=3.2.0->streamlit) (2.0.1)\n",
            "Requirement already satisfied: urllib3!=1.25.0,!=1.25.1,<1.26,>=1.21.1 in /usr/local/lib/python3.7/dist-packages (from requests>=2.4->streamlit) (1.24.3)\n",
            "Requirement already satisfied: chardet<4,>=3.0.2 in /usr/local/lib/python3.7/dist-packages (from requests>=2.4->streamlit) (3.0.4)\n",
            "Requirement already satisfied: certifi>=2017.4.17 in /usr/local/lib/python3.7/dist-packages (from requests>=2.4->streamlit) (2022.9.24)\n",
            "Requirement already satisfied: idna<3,>=2.5 in /usr/local/lib/python3.7/dist-packages (from requests>=2.4->streamlit) (2.10)\n",
            "Requirement already satisfied: commonmark<0.10.0,>=0.9.0 in /usr/local/lib/python3.7/dist-packages (from rich>=10.11.0->streamlit) (0.9.1)\n",
            "Requirement already satisfied: pygments<3.0.0,>=2.6.0 in /usr/local/lib/python3.7/dist-packages (from rich>=10.11.0->streamlit) (2.6.1)\n",
            "Requirement already satisfied: decorator>=3.4.0 in /usr/local/lib/python3.7/dist-packages (from validators>=0.2->streamlit) (4.4.2)\n",
            "Looking in indexes: https://pypi.org/simple, https://us-python.pkg.dev/colab-wheels/public/simple/\n",
            "Requirement already satisfied: pyngrok==4.1.1 in /usr/local/lib/python3.7/dist-packages (4.1.1)\n",
            "Requirement already satisfied: PyYAML in /usr/local/lib/python3.7/dist-packages (from pyngrok==4.1.1) (6.0)\n",
            "Requirement already satisfied: future in /usr/local/lib/python3.7/dist-packages (from pyngrok==4.1.1) (0.16.0)\n"
          ]
        }
      ]
    },
    {
      "cell_type": "code",
      "source": [
        "# streamlit Code for app implementation\n",
        "%%writefile credit_fraud_detection_app.py\n",
        "import streamlit as st \n",
        "import pickle \n",
        "import pandas as pd \n",
        "from sklearn.preprocessing import MinMaxScaler \n",
        "from PIL import Image \n",
        "import base64 \n",
        "st.sidebar.title('Transaction Information')\n",
        "\n",
        "html_temp = \"\"\"\n",
        "<div style=\"background-color: Blue;padding:10px\"> \n",
        "<h2 style=\"color: white; text-align:center;\">Fraud Detection</h2> \n",
        "</div><br> \"\"\"\n",
        "\n",
        "\n",
        "model = pickle.load(open('logistic_regression_model', 'rb')) \n",
        "\n",
        "V14 = st.sidebar.slider(label=\"V14-PCA\", min_value=-17.50, max_value=2.50, step=0.01) \n",
        "V4 = st.sidebar.slider(label=\"V4-PCA\", min_value=-5.00, max_value=12.00, step=0.01) \n",
        "V10 = st.sidebar.slider(label=\"V10-PCA\", min_value=-13.50, max_value=4.50, step=0.01) \n",
        "V12 = st.sidebar.slider(label=\"V12-PCA\", min_value=-16.50, max_value=2.00, step=0.01) \n",
        "V19 = st.sidebar.slider(label=\"V19-PCA\", min_value=-4.00, max_value=5.00, step=0.01) \n",
        "V7 = st.sidebar.slider(label=\"V7-PCA\", min_value=-20.50, max_value=6.50, step=0.01) \n",
        "V9 = st.sidebar.slider(label=\"V9-PCA\", min_value=-8.50, max_value=3.50, step=0.01) \n",
        "V27 = st.sidebar.slider(label=\"V27-PCA\", min_value=-4.00, max_value=2.50, step=0.01) \n",
        "V13 = st.sidebar.slider(label=\"V13-PCA\", min_value=-3.50, max_value=3.50, step=0.01)\n",
        "V11 = st.sidebar.slider(label=\"V11-PCA\", min_value=-3.00, max_value=11.50, step=0.01) \n",
        "\n",
        "\n",
        "coll_dict = {'V14-PCA':V14, 'V4-PCA':V4, 'V10-PCA':V10, 'V12-PCA':12, 'V19-PCA':V19, 'V7-PCA':V7, 'V9-PCA':V9, 'V27-PCA':V27, 'V13-PCA':V13, 'V17-PCA':V11}\n",
        "\n",
        "columns = ['V14','V4','V10','V12','V19','V7','V9','V27','V13','V11']\n",
        "\n",
        "df_coll = pd.DataFrame.from_dict([coll_dict]) \n",
        "user_inputs = df_coll \n",
        "\n",
        "prediction = model.predict(user_inputs)\n",
        "\n",
        "\n",
        "html_temp = \"\"\"\n",
        "<div style=\"background-color: Black;padding:10px\"> \n",
        "<h2 style=\"color: white; text-align:center;\">Fraud Detection Prediction</h2>\n",
        "</div><br>\"\"\"\n",
        "\n",
        "st.markdown(\"<h1 style='text-align: center; color: black;'>Transaction Information</h1>\", unsafe_allow_html=True)\n",
        "\n",
        "st.table(df_coll)\n",
        "\n",
        "st.subheader('Click PREDICT if configuration is OK')\n",
        "\n",
        "if st.button('PREDICT'): \n",
        "    if prediction[0]==0:\n",
        "        st.success(prediction[0])\n",
        "        st.success(f'Transaction is SAFE') \n",
        "    elif prediction[0]==1:\n",
        "        st.warning (prediction[0]) \n",
        "        st.warning(f'ALARM! Transaction is FRAUDULENT')"
      ],
      "metadata": {
        "id": "MShBJZu1Run5",
        "colab": {
          "base_uri": "https://localhost:8080/"
        },
        "outputId": "4895a6c0-dc66-49e8-855b-2b9493953e52"
      },
      "execution_count": null,
      "outputs": [
        {
          "output_type": "stream",
          "name": "stdout",
          "text": [
            "Overwriting credit_fraud_detection_app.py\n"
          ]
        }
      ]
    },
    {
      "cell_type": "code",
      "source": [
        "ls   "
      ],
      "metadata": {
        "id": "Ol9-ky5sSsDm",
        "colab": {
          "base_uri": "https://localhost:8080/"
        },
        "outputId": "bcf06397-ccd2-4832-f325-3421aef402d8"
      },
      "execution_count": null,
      "outputs": [
        {
          "output_type": "stream",
          "name": "stdout",
          "text": [
            "credit_fraud_detection_app.py  logistic_regression_model  svc_model\n",
            "\u001b[0m\u001b[01;34mdrive\u001b[0m/                         \u001b[01;34msample_data\u001b[0m/\n"
          ]
        }
      ]
    },
    {
      "cell_type": "code",
      "source": [
        "!streamlit run credit_fraud_detection_app.py &>/dev/null& "
      ],
      "metadata": {
        "id": "GJCc8LYbS8HU"
      },
      "execution_count": null,
      "outputs": []
    },
    {
      "cell_type": "code",
      "source": [
        "# Authentication Token for Ngrok connectivity\n",
        "!ngrok authtoken 2GH92sG4Gq4cdOJh8ZnwUKWUreu_M1dqpv76zBEM5MU54ciq"
      ],
      "metadata": {
        "id": "5W_NlgjAbON8",
        "colab": {
          "base_uri": "https://localhost:8080/"
        },
        "outputId": "58cee6be-6f3c-4515-8af1-749d6d363da5"
      },
      "execution_count": null,
      "outputs": [
        {
          "output_type": "stream",
          "name": "stdout",
          "text": [
            "Authtoken saved to configuration file: /root/.ngrok2/ngrok.yml\n"
          ]
        }
      ]
    },
    {
      "cell_type": "code",
      "source": [
        "# Setup a tunnel to the streamlit port 8501\n",
        "from pyngrok import ngrok\n",
        "public_url = ngrok.connect(port='8501')\n",
        "public_url"
      ],
      "metadata": {
        "id": "Lu1ajUNdTWb5",
        "colab": {
          "base_uri": "https://localhost:8080/",
          "height": 36
        },
        "outputId": "bba15bce-9263-4bed-dfc8-c2876017fdf9"
      },
      "execution_count": null,
      "outputs": [
        {
          "output_type": "execute_result",
          "data": {
            "text/plain": [
              "'http://351e-35-237-110-221.ngrok.io'"
            ],
            "application/vnd.google.colaboratory.intrinsic+json": {
              "type": "string"
            }
          },
          "metadata": {},
          "execution_count": 469
        }
      ]
    },
    {
      "cell_type": "code",
      "source": [
        "ngrok.kill()    # kill the all tunnels connection"
      ],
      "metadata": {
        "id": "VTRtkClgT1jo"
      },
      "execution_count": null,
      "outputs": []
    },
    {
      "cell_type": "code",
      "source": [
        "#  !killall ngrok  # kill all ngrok process"
      ],
      "metadata": {
        "id": "96ZwTRITdx-M"
      },
      "execution_count": null,
      "outputs": []
    },
    {
      "cell_type": "code",
      "source": [],
      "metadata": {
        "id": "PoohuNpeBN8s"
      },
      "execution_count": null,
      "outputs": []
    }
  ],
  "metadata": {
    "kernelspec": {
      "display_name": "Python 3",
      "language": "python",
      "name": "python3"
    },
    "language_info": {
      "codemirror_mode": {
        "name": "ipython",
        "version": 3
      },
      "file_extension": ".py",
      "mimetype": "text/x-python",
      "name": "python",
      "nbconvert_exporter": "python",
      "pygments_lexer": "ipython3",
      "version": "3.6.6"
    },
    "colab": {
      "provenance": [],
      "collapsed_sections": [],
      "include_colab_link": true
    }
  },
  "nbformat": 4,
  "nbformat_minor": 0
}